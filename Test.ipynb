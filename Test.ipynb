{
 "cells": [
  {
   "cell_type": "code",
   "execution_count": 1,
   "id": "89cb4893-bf7e-4b43-b177-40aed5d4197f",
   "metadata": {
    "tags": []
   },
   "outputs": [],
   "source": [
    "import os\n",
    "import sys\n",
    "import dask\n",
    "import uproot4\n",
    "import numpy as np\n",
    "import pandas as pd\n",
    "from hist import Hist\n",
    "import hist\n",
    "import uproot4 as uproot\n",
    "from dask.array import histogram as ds_hist\n",
    "import dask.dataframe as dd\n",
    "import timeit\n",
    "from dask.distributed import Client\n",
    "import storage_functions as sf\n",
    "import time\n",
    "##procedurre to make client dask work\n",
    "# read hdf data convert it to csv and save it, then read csv with dask data frame\n",
    "# or just reset index and then go from there"
   ]
  },
  {
   "cell_type": "code",
   "execution_count": 2,
   "id": "af00523d-9045-4f9d-b47c-fdd9e0c7b422",
   "metadata": {
    "tags": []
   },
   "outputs": [],
   "source": [
    "h_names = []\n",
    "file_names = []\n",
    "temp = pd.read_hdf(\"Skl_Data/test12345.h5\")"
   ]
  },
  {
   "cell_type": "code",
   "execution_count": 3,
   "id": "8aca4fa4-5791-42e1-8b3c-527f98edc9cc",
   "metadata": {},
   "outputs": [],
   "source": [
    "for i in range(0,5):\n",
    "    temp = temp.append(temp)"
   ]
  },
  {
   "cell_type": "code",
   "execution_count": 4,
   "id": "00603446-414d-4145-8c12-f39e01a40e6e",
   "metadata": {},
   "outputs": [
    {
     "name": "stdout",
     "output_type": "stream",
     "text": [
      "CPU times: user 16 µs, sys: 0 ns, total: 16 µs\n",
      "Wall time: 21 µs\n"
     ]
    }
   ],
   "source": [
    "%%time\n",
    "for i in range(0,10):\n",
    "    h_names.append(f\"h{i}\")\n",
    "    file_names.append(f\"test{i}.h5\")\n",
    "    #if os.path.isfile(f\"Skl_Data/test{i}.h5\"): os.remove(f\"Skl_Data/test{i}.h5\")\n",
    "    #temp.to_hdf(f\"Skl_Data/test{i}.h5\", key=\"branches\")"
   ]
  },
  {
   "cell_type": "code",
   "execution_count": 5,
   "id": "5603b78d-fe60-40f1-adfe-25737614467c",
   "metadata": {},
   "outputs": [],
   "source": [
    "x = pd.read_hdf(\"Skl_Data/test0.h5\")"
   ]
  },
  {
   "cell_type": "code",
   "execution_count": 6,
   "id": "6fc7bca4-79c8-496a-887f-ed8df4727d3b",
   "metadata": {},
   "outputs": [
    {
     "data": {
      "text/html": [
       "<div>\n",
       "<style scoped>\n",
       "    .dataframe tbody tr th:only-of-type {\n",
       "        vertical-align: middle;\n",
       "    }\n",
       "\n",
       "    .dataframe tbody tr th {\n",
       "        vertical-align: top;\n",
       "    }\n",
       "\n",
       "    .dataframe thead th {\n",
       "        text-align: right;\n",
       "    }\n",
       "</style>\n",
       "<table border=\"1\" class=\"dataframe\">\n",
       "  <thead>\n",
       "    <tr style=\"text-align: right;\">\n",
       "      <th></th>\n",
       "      <th></th>\n",
       "      <th></th>\n",
       "      <th></th>\n",
       "      <th>leptons_pt</th>\n",
       "      <th>jets_pt</th>\n",
       "      <th>weight_mc</th>\n",
       "      <th>runNumber</th>\n",
       "      <th>BDT</th>\n",
       "    </tr>\n",
       "    <tr>\n",
       "      <th>event</th>\n",
       "      <th>lep</th>\n",
       "      <th>jet</th>\n",
       "      <th>bdt</th>\n",
       "      <th></th>\n",
       "      <th></th>\n",
       "      <th></th>\n",
       "      <th></th>\n",
       "      <th></th>\n",
       "    </tr>\n",
       "  </thead>\n",
       "  <tbody>\n",
       "    <tr>\n",
       "      <th rowspan=\"5\" valign=\"top\">0</th>\n",
       "      <th rowspan=\"5\" valign=\"top\">0</th>\n",
       "      <th rowspan=\"5\" valign=\"top\">0</th>\n",
       "      <th>0</th>\n",
       "      <td>127083.039062</td>\n",
       "      <td>104784.4375</td>\n",
       "      <td>736.971985</td>\n",
       "      <td>284500</td>\n",
       "      <td>0.344902</td>\n",
       "    </tr>\n",
       "    <tr>\n",
       "      <th>1</th>\n",
       "      <td>127083.039062</td>\n",
       "      <td>104784.4375</td>\n",
       "      <td>736.971985</td>\n",
       "      <td>284500</td>\n",
       "      <td>0.367624</td>\n",
       "    </tr>\n",
       "    <tr>\n",
       "      <th>2</th>\n",
       "      <td>127083.039062</td>\n",
       "      <td>104784.4375</td>\n",
       "      <td>736.971985</td>\n",
       "      <td>284500</td>\n",
       "      <td>0.069904</td>\n",
       "    </tr>\n",
       "    <tr>\n",
       "      <th>3</th>\n",
       "      <td>127083.039062</td>\n",
       "      <td>104784.4375</td>\n",
       "      <td>736.971985</td>\n",
       "      <td>284500</td>\n",
       "      <td>0.010252</td>\n",
       "    </tr>\n",
       "    <tr>\n",
       "      <th>4</th>\n",
       "      <td>127083.039062</td>\n",
       "      <td>104784.4375</td>\n",
       "      <td>736.971985</td>\n",
       "      <td>284500</td>\n",
       "      <td>0.207318</td>\n",
       "    </tr>\n",
       "    <tr>\n",
       "      <th>...</th>\n",
       "      <th>...</th>\n",
       "      <th>...</th>\n",
       "      <th>...</th>\n",
       "      <td>...</td>\n",
       "      <td>...</td>\n",
       "      <td>...</td>\n",
       "      <td>...</td>\n",
       "      <td>...</td>\n",
       "    </tr>\n",
       "    <tr>\n",
       "      <th rowspan=\"5\" valign=\"top\">3681</th>\n",
       "      <th rowspan=\"5\" valign=\"top\">0</th>\n",
       "      <th rowspan=\"5\" valign=\"top\">3</th>\n",
       "      <th>0</th>\n",
       "      <td>89429.367188</td>\n",
       "      <td>48895.3125</td>\n",
       "      <td>735.537537</td>\n",
       "      <td>284500</td>\n",
       "      <td>0.151289</td>\n",
       "    </tr>\n",
       "    <tr>\n",
       "      <th>1</th>\n",
       "      <td>89429.367188</td>\n",
       "      <td>48895.3125</td>\n",
       "      <td>735.537537</td>\n",
       "      <td>284500</td>\n",
       "      <td>0.329823</td>\n",
       "    </tr>\n",
       "    <tr>\n",
       "      <th>2</th>\n",
       "      <td>89429.367188</td>\n",
       "      <td>48895.3125</td>\n",
       "      <td>735.537537</td>\n",
       "      <td>284500</td>\n",
       "      <td>0.144091</td>\n",
       "    </tr>\n",
       "    <tr>\n",
       "      <th>3</th>\n",
       "      <td>89429.367188</td>\n",
       "      <td>48895.3125</td>\n",
       "      <td>735.537537</td>\n",
       "      <td>284500</td>\n",
       "      <td>0.116522</td>\n",
       "    </tr>\n",
       "    <tr>\n",
       "      <th>4</th>\n",
       "      <td>89429.367188</td>\n",
       "      <td>48895.3125</td>\n",
       "      <td>735.537537</td>\n",
       "      <td>284500</td>\n",
       "      <td>0.258275</td>\n",
       "    </tr>\n",
       "  </tbody>\n",
       "</table>\n",
       "<p>2920000 rows × 5 columns</p>\n",
       "</div>"
      ],
      "text/plain": [
       "                      leptons_pt      jets_pt   weight_mc  runNumber       BDT\n",
       "event lep jet bdt                                                             \n",
       "0     0   0   0    127083.039062  104784.4375  736.971985     284500  0.344902\n",
       "              1    127083.039062  104784.4375  736.971985     284500  0.367624\n",
       "              2    127083.039062  104784.4375  736.971985     284500  0.069904\n",
       "              3    127083.039062  104784.4375  736.971985     284500  0.010252\n",
       "              4    127083.039062  104784.4375  736.971985     284500  0.207318\n",
       "...                          ...          ...         ...        ...       ...\n",
       "3681  0   3   0     89429.367188   48895.3125  735.537537     284500  0.151289\n",
       "              1     89429.367188   48895.3125  735.537537     284500  0.329823\n",
       "              2     89429.367188   48895.3125  735.537537     284500  0.144091\n",
       "              3     89429.367188   48895.3125  735.537537     284500  0.116522\n",
       "              4     89429.367188   48895.3125  735.537537     284500  0.258275\n",
       "\n",
       "[2920000 rows x 5 columns]"
      ]
     },
     "execution_count": 6,
     "metadata": {},
     "output_type": "execute_result"
    }
   ],
   "source": [
    "x"
   ]
  },
  {
   "cell_type": "code",
   "execution_count": 7,
   "id": "fcfbc90f-443b-4905-ba41-f169e75c6c3f",
   "metadata": {},
   "outputs": [],
   "source": [
    "histogramming = sf.HistoMaker()"
   ]
  },
  {
   "cell_type": "code",
   "execution_count": 8,
   "id": "81aeffbd-75d5-4233-93c8-8bcd9811f9a7",
   "metadata": {},
   "outputs": [],
   "source": [
    "#histogramming.client_start()"
   ]
  },
  {
   "cell_type": "code",
   "execution_count": 9,
   "id": "3f7c8882-3bd6-4105-9064-8cee8ee8aac9",
   "metadata": {},
   "outputs": [
    {
     "data": {
      "text/plain": [
       "['test0.h5',\n",
       " 'test1.h5',\n",
       " 'test2.h5',\n",
       " 'test3.h5',\n",
       " 'test4.h5',\n",
       " 'test5.h5',\n",
       " 'test6.h5',\n",
       " 'test7.h5',\n",
       " 'test8.h5',\n",
       " 'test9.h5']"
      ]
     },
     "execution_count": 9,
     "metadata": {},
     "output_type": "execute_result"
    }
   ],
   "source": [
    "file_names"
   ]
  },
  {
   "cell_type": "code",
   "execution_count": 10,
   "id": "c89ab1d5-389a-4640-b217-9d5a45a0a47f",
   "metadata": {},
   "outputs": [
    {
     "name": "stdout",
     "output_type": "stream",
     "text": [
      "read time: 1.1117823123931885\n",
      "reset time: 0.21937894821166992\n",
      "converting: 0.2788815498352051\n",
      "read time: 1.1355865001678467\n",
      "reset time: 0.22549009323120117\n",
      "converting: 0.2800102233886719\n",
      "read time: 1.1444284915924072\n",
      "reset time: 0.21973156929016113\n",
      "converting: 0.27895665168762207\n",
      "read time: 1.1483261585235596\n",
      "reset time: 0.22172760963439941\n",
      "converting: 0.27861762046813965\n",
      "read time: 1.154381275177002\n",
      "reset time: 0.21864819526672363\n",
      "converting: 0.278240442276001\n",
      "read time: 1.1447618007659912\n",
      "reset time: 0.2180616855621338\n",
      "converting: 0.27855491638183594\n",
      "read time: 1.107800006866455\n",
      "reset time: 0.21701979637145996\n",
      "converting: 0.2812376022338867\n",
      "read time: 1.1366450786590576\n",
      "reset time: 0.20912694931030273\n",
      "converting: 0.2813136577606201\n",
      "read time: 1.128711462020874\n",
      "reset time: 0.24388527870178223\n",
      "converting: 0.27884626388549805\n",
      "read time: 1.2624843120574951\n",
      "reset time: 0.20619940757751465\n",
      "converting: 0.2800285816192627\n",
      "CPU times: user 9.56 s, sys: 6.96 s, total: 16.5 s\n",
      "Wall time: 16.5 s\n"
     ]
    },
    {
     "data": {
      "text/plain": [
       "'Skl_Data'"
      ]
     },
     "execution_count": 10,
     "metadata": {},
     "output_type": "execute_result"
    }
   ],
   "source": [
    "%%time\n",
    "folder = 'Skl_Data'\n",
    "f_list = file_names\n",
    "dask.delayed(histogramming.load_data(folder_name = folder,file_list =f_list ,drop_existing= True)).compute()\n",
    "folder"
   ]
  },
  {
   "cell_type": "code",
   "execution_count": 11,
   "id": "6fc6e1b1-6d13-48d4-98af-18248694fe59",
   "metadata": {},
   "outputs": [
    {
     "data": {
      "text/plain": [
       "{'h0': Hist(Regular(100, 0, 1e+06, name='test', label='test'), storage=Double()),\n",
       " 'h1': Hist(Regular(100, 0, 1e+06, name='test', label='test'), storage=Double()),\n",
       " 'h2': Hist(Regular(100, 0, 1e+06, name='test', label='test'), storage=Double()),\n",
       " 'h3': Hist(Regular(100, 0, 1e+06, name='test', label='test'), storage=Double()),\n",
       " 'h4': Hist(Regular(100, 0, 1e+06, name='test', label='test'), storage=Double()),\n",
       " 'h5': Hist(Regular(100, 0, 1e+06, name='test', label='test'), storage=Double()),\n",
       " 'h6': Hist(Regular(100, 0, 1e+06, name='test', label='test'), storage=Double()),\n",
       " 'h7': Hist(Regular(100, 0, 1e+06, name='test', label='test'), storage=Double()),\n",
       " 'h8': Hist(Regular(100, 0, 1e+06, name='test', label='test'), storage=Double()),\n",
       " 'h9': Hist(Regular(100, 0, 1e+06, name='test', label='test'), storage=Double())}"
      ]
     },
     "execution_count": 11,
     "metadata": {},
     "output_type": "execute_result"
    }
   ],
   "source": [
    "\n",
    "h_params = {'bins': 100, 'start' : 0, 'stop': 1*10**6,'name': 'test'}\n",
    "histogramming.create_histograms(drop_existing = True, histogram_names = h_names, histogram_params = h_params)"
   ]
  },
  {
   "cell_type": "code",
   "execution_count": 12,
   "id": "4e38ff98-5942-4167-b3b4-1c2c30186e20",
   "metadata": {},
   "outputs": [
    {
     "data": {
      "text/html": [
       "<div><strong>Dask DataFrame Structure:</strong></div>\n",
       "<div>\n",
       "<style scoped>\n",
       "    .dataframe tbody tr th:only-of-type {\n",
       "        vertical-align: middle;\n",
       "    }\n",
       "\n",
       "    .dataframe tbody tr th {\n",
       "        vertical-align: top;\n",
       "    }\n",
       "\n",
       "    .dataframe thead th {\n",
       "        text-align: right;\n",
       "    }\n",
       "</style>\n",
       "<table border=\"1\" class=\"dataframe\">\n",
       "  <thead>\n",
       "    <tr style=\"text-align: right;\">\n",
       "      <th></th>\n",
       "      <th>event</th>\n",
       "      <th>lep</th>\n",
       "      <th>jet</th>\n",
       "      <th>bdt</th>\n",
       "      <th>leptons_pt</th>\n",
       "      <th>jets_pt</th>\n",
       "      <th>weight_mc</th>\n",
       "      <th>runNumber</th>\n",
       "      <th>BDT</th>\n",
       "    </tr>\n",
       "    <tr>\n",
       "      <th>npartitions=1</th>\n",
       "      <th></th>\n",
       "      <th></th>\n",
       "      <th></th>\n",
       "      <th></th>\n",
       "      <th></th>\n",
       "      <th></th>\n",
       "      <th></th>\n",
       "      <th></th>\n",
       "      <th></th>\n",
       "    </tr>\n",
       "  </thead>\n",
       "  <tbody>\n",
       "    <tr>\n",
       "      <th>0</th>\n",
       "      <td>int64</td>\n",
       "      <td>int64</td>\n",
       "      <td>int64</td>\n",
       "      <td>int64</td>\n",
       "      <td>float32</td>\n",
       "      <td>float32</td>\n",
       "      <td>float32</td>\n",
       "      <td>uint32</td>\n",
       "      <td>float64</td>\n",
       "    </tr>\n",
       "    <tr>\n",
       "      <th>2919999</th>\n",
       "      <td>...</td>\n",
       "      <td>...</td>\n",
       "      <td>...</td>\n",
       "      <td>...</td>\n",
       "      <td>...</td>\n",
       "      <td>...</td>\n",
       "      <td>...</td>\n",
       "      <td>...</td>\n",
       "      <td>...</td>\n",
       "    </tr>\n",
       "  </tbody>\n",
       "</table>\n",
       "</div>\n",
       "<div>Dask Name: from_pandas, 1 tasks</div>"
      ],
      "text/plain": [
       "Dask DataFrame Structure:\n",
       "               event    lep    jet    bdt leptons_pt  jets_pt weight_mc runNumber      BDT\n",
       "npartitions=1                                                                             \n",
       "0              int64  int64  int64  int64    float32  float32   float32    uint32  float64\n",
       "2919999          ...    ...    ...    ...        ...      ...       ...       ...      ...\n",
       "Dask Name: from_pandas, 1 tasks"
      ]
     },
     "execution_count": 12,
     "metadata": {},
     "output_type": "execute_result"
    }
   ],
   "source": [
    "histogramming.dask_dfs[0]"
   ]
  },
  {
   "cell_type": "code",
   "execution_count": 13,
   "id": "243c4971-5319-421e-978b-b63c7ddc544e",
   "metadata": {},
   "outputs": [
    {
     "data": {
      "text/html": [
       "<div>\n",
       "<style scoped>\n",
       "    .dataframe tbody tr th:only-of-type {\n",
       "        vertical-align: middle;\n",
       "    }\n",
       "\n",
       "    .dataframe tbody tr th {\n",
       "        vertical-align: top;\n",
       "    }\n",
       "\n",
       "    .dataframe thead th {\n",
       "        text-align: right;\n",
       "    }\n",
       "</style>\n",
       "<table border=\"1\" class=\"dataframe\">\n",
       "  <thead>\n",
       "    <tr style=\"text-align: right;\">\n",
       "      <th></th>\n",
       "      <th></th>\n",
       "      <th></th>\n",
       "      <th></th>\n",
       "      <th>leptons_pt</th>\n",
       "      <th>jets_pt</th>\n",
       "      <th>weight_mc</th>\n",
       "      <th>runNumber</th>\n",
       "      <th>BDT</th>\n",
       "    </tr>\n",
       "    <tr>\n",
       "      <th>event</th>\n",
       "      <th>lep</th>\n",
       "      <th>jet</th>\n",
       "      <th>bdt</th>\n",
       "      <th></th>\n",
       "      <th></th>\n",
       "      <th></th>\n",
       "      <th></th>\n",
       "      <th></th>\n",
       "    </tr>\n",
       "  </thead>\n",
       "  <tbody>\n",
       "    <tr>\n",
       "      <th rowspan=\"5\" valign=\"top\">0</th>\n",
       "      <th rowspan=\"5\" valign=\"top\">0</th>\n",
       "      <th rowspan=\"5\" valign=\"top\">0</th>\n",
       "      <th>0</th>\n",
       "      <td>127083.039062</td>\n",
       "      <td>104784.4375</td>\n",
       "      <td>736.971985</td>\n",
       "      <td>284500</td>\n",
       "      <td>0.344902</td>\n",
       "    </tr>\n",
       "    <tr>\n",
       "      <th>1</th>\n",
       "      <td>127083.039062</td>\n",
       "      <td>104784.4375</td>\n",
       "      <td>736.971985</td>\n",
       "      <td>284500</td>\n",
       "      <td>0.367624</td>\n",
       "    </tr>\n",
       "    <tr>\n",
       "      <th>2</th>\n",
       "      <td>127083.039062</td>\n",
       "      <td>104784.4375</td>\n",
       "      <td>736.971985</td>\n",
       "      <td>284500</td>\n",
       "      <td>0.069904</td>\n",
       "    </tr>\n",
       "    <tr>\n",
       "      <th>3</th>\n",
       "      <td>127083.039062</td>\n",
       "      <td>104784.4375</td>\n",
       "      <td>736.971985</td>\n",
       "      <td>284500</td>\n",
       "      <td>0.010252</td>\n",
       "    </tr>\n",
       "    <tr>\n",
       "      <th>4</th>\n",
       "      <td>127083.039062</td>\n",
       "      <td>104784.4375</td>\n",
       "      <td>736.971985</td>\n",
       "      <td>284500</td>\n",
       "      <td>0.207318</td>\n",
       "    </tr>\n",
       "    <tr>\n",
       "      <th>...</th>\n",
       "      <th>...</th>\n",
       "      <th>...</th>\n",
       "      <th>...</th>\n",
       "      <td>...</td>\n",
       "      <td>...</td>\n",
       "      <td>...</td>\n",
       "      <td>...</td>\n",
       "      <td>...</td>\n",
       "    </tr>\n",
       "    <tr>\n",
       "      <th rowspan=\"5\" valign=\"top\">3681</th>\n",
       "      <th rowspan=\"5\" valign=\"top\">0</th>\n",
       "      <th rowspan=\"5\" valign=\"top\">3</th>\n",
       "      <th>0</th>\n",
       "      <td>89429.367188</td>\n",
       "      <td>48895.3125</td>\n",
       "      <td>735.537537</td>\n",
       "      <td>284500</td>\n",
       "      <td>0.151289</td>\n",
       "    </tr>\n",
       "    <tr>\n",
       "      <th>1</th>\n",
       "      <td>89429.367188</td>\n",
       "      <td>48895.3125</td>\n",
       "      <td>735.537537</td>\n",
       "      <td>284500</td>\n",
       "      <td>0.329823</td>\n",
       "    </tr>\n",
       "    <tr>\n",
       "      <th>2</th>\n",
       "      <td>89429.367188</td>\n",
       "      <td>48895.3125</td>\n",
       "      <td>735.537537</td>\n",
       "      <td>284500</td>\n",
       "      <td>0.144091</td>\n",
       "    </tr>\n",
       "    <tr>\n",
       "      <th>3</th>\n",
       "      <td>89429.367188</td>\n",
       "      <td>48895.3125</td>\n",
       "      <td>735.537537</td>\n",
       "      <td>284500</td>\n",
       "      <td>0.116522</td>\n",
       "    </tr>\n",
       "    <tr>\n",
       "      <th>4</th>\n",
       "      <td>89429.367188</td>\n",
       "      <td>48895.3125</td>\n",
       "      <td>735.537537</td>\n",
       "      <td>284500</td>\n",
       "      <td>0.258275</td>\n",
       "    </tr>\n",
       "  </tbody>\n",
       "</table>\n",
       "<p>2920000 rows × 5 columns</p>\n",
       "</div>"
      ],
      "text/plain": [
       "                      leptons_pt      jets_pt   weight_mc  runNumber       BDT\n",
       "event lep jet bdt                                                             \n",
       "0     0   0   0    127083.039062  104784.4375  736.971985     284500  0.344902\n",
       "              1    127083.039062  104784.4375  736.971985     284500  0.367624\n",
       "              2    127083.039062  104784.4375  736.971985     284500  0.069904\n",
       "              3    127083.039062  104784.4375  736.971985     284500  0.010252\n",
       "              4    127083.039062  104784.4375  736.971985     284500  0.207318\n",
       "...                          ...          ...         ...        ...       ...\n",
       "3681  0   3   0     89429.367188   48895.3125  735.537537     284500  0.151289\n",
       "              1     89429.367188   48895.3125  735.537537     284500  0.329823\n",
       "              2     89429.367188   48895.3125  735.537537     284500  0.144091\n",
       "              3     89429.367188   48895.3125  735.537537     284500  0.116522\n",
       "              4     89429.367188   48895.3125  735.537537     284500  0.258275\n",
       "\n",
       "[2920000 rows x 5 columns]"
      ]
     },
     "execution_count": 13,
     "metadata": {},
     "output_type": "execute_result"
    }
   ],
   "source": [
    "temp\n",
    "##delayed(self.dask_delayed)().compute()"
   ]
  },
  {
   "cell_type": "code",
   "execution_count": 14,
   "id": "5a521ebc-4b5b-4a7d-bbe4-b3ce0f075693",
   "metadata": {},
   "outputs": [
    {
     "name": "stdout",
     "output_type": "stream",
     "text": [
      "fill time: 0.29291868209838867\n"
     ]
    }
   ],
   "source": [
    "t1 = time.time()\n",
    "zzzzzzz = dask.delayed(histogramming.fill_histograms('leptons_pt')).compute()\n",
    "t2 = time.time()\n",
    "print(\"fill time:\", t2-t1)"
   ]
  },
  {
   "cell_type": "code",
   "execution_count": 15,
   "id": "6e394f04-8cce-49f5-8d63-ed6ad9e65615",
   "metadata": {},
   "outputs": [
    {
     "data": {
      "text/plain": [
       "{'h0': Hist(Regular(100, 0, 1e+06, name='test', label='test'), storage=Double()) # Sum: 2920000.0,\n",
       " 'h1': Hist(Regular(100, 0, 1e+06, name='test', label='test'), storage=Double()) # Sum: 2920000.0,\n",
       " 'h2': Hist(Regular(100, 0, 1e+06, name='test', label='test'), storage=Double()) # Sum: 2920000.0,\n",
       " 'h3': Hist(Regular(100, 0, 1e+06, name='test', label='test'), storage=Double()) # Sum: 2920000.0,\n",
       " 'h4': Hist(Regular(100, 0, 1e+06, name='test', label='test'), storage=Double()) # Sum: 2920000.0,\n",
       " 'h5': Hist(Regular(100, 0, 1e+06, name='test', label='test'), storage=Double()) # Sum: 2920000.0,\n",
       " 'h6': Hist(Regular(100, 0, 1e+06, name='test', label='test'), storage=Double()) # Sum: 2920000.0,\n",
       " 'h7': Hist(Regular(100, 0, 1e+06, name='test', label='test'), storage=Double()) # Sum: 2920000.0,\n",
       " 'h8': Hist(Regular(100, 0, 1e+06, name='test', label='test'), storage=Double()) # Sum: 2920000.0,\n",
       " 'h9': Hist(Regular(100, 0, 1e+06, name='test', label='test'), storage=Double()) # Sum: 2920000.0}"
      ]
     },
     "execution_count": 15,
     "metadata": {},
     "output_type": "execute_result"
    }
   ],
   "source": [
    "zzzzzzz"
   ]
  },
  {
   "cell_type": "code",
   "execution_count": 16,
   "id": "4adda1cf-74dc-43d9-bf4d-116001486d1e",
   "metadata": {},
   "outputs": [
    {
     "name": "stdout",
     "output_type": "stream",
     "text": [
      "fill time: 0.28405308723449707\n"
     ]
    }
   ],
   "source": [
    "t1 = time.time()\n",
    "z = histogramming.fill_histograms('leptons_pt')\n",
    "t2 = time.time()\n",
    "print(\"fill time:\", t2-t1)"
   ]
  },
  {
   "cell_type": "code",
   "execution_count": 17,
   "id": "5c201684-e9ef-4ec2-8e7c-609c47879e43",
   "metadata": {},
   "outputs": [
    {
     "data": {
      "text/plain": [
       "{'h0': Hist(Regular(100, 0, 1e+06, name='test', label='test'), storage=Double()) # Sum: 5840000.0,\n",
       " 'h1': Hist(Regular(100, 0, 1e+06, name='test', label='test'), storage=Double()) # Sum: 5840000.0,\n",
       " 'h2': Hist(Regular(100, 0, 1e+06, name='test', label='test'), storage=Double()) # Sum: 5840000.0,\n",
       " 'h3': Hist(Regular(100, 0, 1e+06, name='test', label='test'), storage=Double()) # Sum: 5840000.0,\n",
       " 'h4': Hist(Regular(100, 0, 1e+06, name='test', label='test'), storage=Double()) # Sum: 5840000.0,\n",
       " 'h5': Hist(Regular(100, 0, 1e+06, name='test', label='test'), storage=Double()) # Sum: 5840000.0,\n",
       " 'h6': Hist(Regular(100, 0, 1e+06, name='test', label='test'), storage=Double()) # Sum: 5840000.0,\n",
       " 'h7': Hist(Regular(100, 0, 1e+06, name='test', label='test'), storage=Double()) # Sum: 5840000.0,\n",
       " 'h8': Hist(Regular(100, 0, 1e+06, name='test', label='test'), storage=Double()) # Sum: 5840000.0,\n",
       " 'h9': Hist(Regular(100, 0, 1e+06, name='test', label='test'), storage=Double()) # Sum: 5840000.0}"
      ]
     },
     "execution_count": 17,
     "metadata": {},
     "output_type": "execute_result"
    }
   ],
   "source": [
    "z"
   ]
  },
  {
   "cell_type": "code",
   "execution_count": 18,
   "id": "a6f692b5-7f9d-40ba-9d51-9b4e32bc92bd",
   "metadata": {},
   "outputs": [
    {
     "data": {
      "text/html": [
       "<html>\n",
       "<div style=\"display:flex; align-items:center;\">\n",
       "<div style=\"width:290px;\">\n",
       "<svg xmlns=\"http://www.w3.org/2000/svg\" viewBox=\"-10 -105 270 120\">\n",
       "<line x1=\"-5\" y1=\"0\" x2=\"255\" y2=\"0\" style=\"fill:none;stroke-width:2;stroke:currentColor\"/>\n",
       "<text text-anchor=\"middle\" x=\"0\" y=\"15\" style=\"fill:currentColor;\">\n",
       "0\n",
       "</text>\n",
       "<text text-anchor=\"middle\" x=\"250\" y=\"15\" style=\"fill:currentColor;\">\n",
       "1e+06\n",
       "</text>\n",
       "<text text-anchor=\"middle\" x=\"125.0\" y=\"15\" style=\"fill:currentColor;\">\n",
       "test\n",
       "</text>\n",
       "<polyline points=\"  0,0   0,-0 2.5,-0 2.5,-0   5,-0   5,-33.7 7.5,-33.7 7.5,-100  10,-100  10,-85.9 12.5,-85.9 12.5,-73.5  15,-73.5  15,-59.2 17.5,-59.2 17.5,-48  20,-48  20,-38 22.5,-38 22.5,-25.3  25,-25.3  25,-21.5 27.5,-21.5 27.5,-14  30,-14  30,-12.3 32.5,-12.3 32.5,-9.95  35,-9.95  35,-6.68 37.5,-6.68 37.5,-5.89  40,-5.89  40,-4.11 42.5,-4.11 42.5,-2.6  45,-2.6  45,-2.45 47.5,-2.45 47.5,-1.42  50,-1.42  50,-1.66 52.5,-1.66 52.5,-1.18  55,-1.18  55,-0.877 57.5,-0.877 57.5,-0.514  60,-0.514  60,-0.363 62.5,-0.363 62.5,-0.786  65,-0.786  65,-0.302 67.5,-0.302 67.5,-0  70,-0  70,-0 72.5,-0 72.5,-0.272  75,-0.272  75,-0.514 77.5,-0.514 77.5,-0  80,-0  80,-0 82.5,-0 82.5,-0  85,-0  85,-0.151 87.5,-0.151 87.5,-0.121  90,-0.121  90,-0.151 92.5,-0.151 92.5,-0  95,-0  95,-0 97.5,-0 97.5,-0.151 100,-0.151 100,-0 102.5,-0 102.5,-0 105,-0 105,-0 107.5,-0 107.5,-0 110,-0 110,-0 112.5,-0 112.5,-0 115,-0 115,-0.181 117.5,-0.181 117.5,-0 120,-0 120,-0 122.5,-0 122.5,-0 125,-0 125,-0 127.5,-0 127.5,-0 130,-0 130,-0 132.5,-0 132.5,-0 135,-0 135,-0 137.5,-0 137.5,-0 140,-0 140,-0.121 142.5,-0.121 142.5,-0 145,-0 145,-0 147.5,-0 147.5,-0 150,-0 150,-0 152.5,-0 152.5,-0 155,-0 155,-0 157.5,-0 157.5,-0 160,-0 160,-0 162.5,-0 162.5,-0 165,-0 165,-0 167.5,-0 167.5,-0 170,-0 170,-0 172.5,-0 172.5,-0 175,-0 175,-0 177.5,-0 177.5,-0 180,-0 180,-0 182.5,-0 182.5,-0 185,-0 185,-0 187.5,-0 187.5,-0 190,-0 190,-0 192.5,-0 192.5,-0 195,-0 195,-0 197.5,-0 197.5,-0 200,-0 200,-0 202.5,-0 202.5,-0 205,-0 205,-0 207.5,-0 207.5,-0 210,-0 210,-0 212.5,-0 212.5,-0 215,-0 215,-0 217.5,-0 217.5,-0 220,-0 220,-0 222.5,-0 222.5,-0 225,-0 225,-0 227.5,-0 227.5,-0 230,-0 230,-0 232.5,-0 232.5,-0 235,-0 235,-0 237.5,-0 237.5,-0 240,-0 240,-0 242.5,-0 242.5,-0 245,-0 245,-0 247.5,-0 247.5,-0 250,-0 250,0\" style=\"fill:none; stroke:currentColor;\"/>\n",
       "</svg>\n",
       "</div>\n",
       "<div style=\"flex=grow:1;\">\n",
       "Regular(100, 0, 1e+06, name='test', label='test')<br/>\n",
       "<hr style=\"margin-top:.2em; margin-bottom:.2em;\"/>\n",
       "Double() Σ=5840000.0\n",
       "\n",
       "</div>\n",
       "</div>\n",
       "</html>"
      ],
      "text/plain": [
       "Hist(Regular(100, 0, 1e+06, name='test', label='test'), storage=Double()) # Sum: 5840000.0"
      ]
     },
     "execution_count": 18,
     "metadata": {},
     "output_type": "execute_result"
    }
   ],
   "source": [
    "histogramming.histograms['h9']"
   ]
  },
  {
   "cell_type": "code",
   "execution_count": 19,
   "id": "cc812dc5-fd13-4d45-9fc0-513ad57f123f",
   "metadata": {},
   "outputs": [],
   "source": [
    "t = {'n_workers':4}"
   ]
  },
  {
   "cell_type": "code",
   "execution_count": 20,
   "id": "0d232101-110f-4ba2-864f-b3f3ea77c184",
   "metadata": {},
   "outputs": [
    {
     "data": {
      "text/plain": [
       "{'histograms': {'h0': Hist(Regular(100, 0, 1e+06, name='test', label='test'), storage=Double()) # Sum: 5840000.0,\n",
       "  'h1': Hist(Regular(100, 0, 1e+06, name='test', label='test'), storage=Double()) # Sum: 5840000.0,\n",
       "  'h2': Hist(Regular(100, 0, 1e+06, name='test', label='test'), storage=Double()) # Sum: 5840000.0,\n",
       "  'h3': Hist(Regular(100, 0, 1e+06, name='test', label='test'), storage=Double()) # Sum: 5840000.0,\n",
       "  'h4': Hist(Regular(100, 0, 1e+06, name='test', label='test'), storage=Double()) # Sum: 5840000.0,\n",
       "  'h5': Hist(Regular(100, 0, 1e+06, name='test', label='test'), storage=Double()) # Sum: 5840000.0,\n",
       "  'h6': Hist(Regular(100, 0, 1e+06, name='test', label='test'), storage=Double()) # Sum: 5840000.0,\n",
       "  'h7': Hist(Regular(100, 0, 1e+06, name='test', label='test'), storage=Double()) # Sum: 5840000.0,\n",
       "  'h8': Hist(Regular(100, 0, 1e+06, name='test', label='test'), storage=Double()) # Sum: 5840000.0,\n",
       "  'h9': Hist(Regular(100, 0, 1e+06, name='test', label='test'), storage=Double()) # Sum: 5840000.0},\n",
       " 'folder_name': 'Skl_Data',\n",
       " 'file_list': ['test0.h5',\n",
       "  'test1.h5',\n",
       "  'test2.h5',\n",
       "  'test3.h5',\n",
       "  'test4.h5',\n",
       "  'test5.h5',\n",
       "  'test6.h5',\n",
       "  'test7.h5',\n",
       "  'test8.h5',\n",
       "  'test9.h5'],\n",
       " 'client_params': {},\n",
       " 'dask_dfs': [Dask DataFrame Structure:\n",
       "                 event    lep    jet    bdt leptons_pt  jets_pt weight_mc runNumber      BDT\n",
       "  npartitions=1                                                                             \n",
       "  0              int64  int64  int64  int64    float32  float32   float32    uint32  float64\n",
       "  2919999          ...    ...    ...    ...        ...      ...       ...       ...      ...\n",
       "  Dask Name: from_pandas, 1 tasks,\n",
       "  Dask DataFrame Structure:\n",
       "                 event    lep    jet    bdt leptons_pt  jets_pt weight_mc runNumber      BDT\n",
       "  npartitions=1                                                                             \n",
       "  0              int64  int64  int64  int64    float32  float32   float32    uint32  float64\n",
       "  2919999          ...    ...    ...    ...        ...      ...       ...       ...      ...\n",
       "  Dask Name: from_pandas, 1 tasks,\n",
       "  Dask DataFrame Structure:\n",
       "                 event    lep    jet    bdt leptons_pt  jets_pt weight_mc runNumber      BDT\n",
       "  npartitions=1                                                                             \n",
       "  0              int64  int64  int64  int64    float32  float32   float32    uint32  float64\n",
       "  2919999          ...    ...    ...    ...        ...      ...       ...       ...      ...\n",
       "  Dask Name: from_pandas, 1 tasks,\n",
       "  Dask DataFrame Structure:\n",
       "                 event    lep    jet    bdt leptons_pt  jets_pt weight_mc runNumber      BDT\n",
       "  npartitions=1                                                                             \n",
       "  0              int64  int64  int64  int64    float32  float32   float32    uint32  float64\n",
       "  2919999          ...    ...    ...    ...        ...      ...       ...       ...      ...\n",
       "  Dask Name: from_pandas, 1 tasks,\n",
       "  Dask DataFrame Structure:\n",
       "                 event    lep    jet    bdt leptons_pt  jets_pt weight_mc runNumber      BDT\n",
       "  npartitions=1                                                                             \n",
       "  0              int64  int64  int64  int64    float32  float32   float32    uint32  float64\n",
       "  2919999          ...    ...    ...    ...        ...      ...       ...       ...      ...\n",
       "  Dask Name: from_pandas, 1 tasks,\n",
       "  Dask DataFrame Structure:\n",
       "                 event    lep    jet    bdt leptons_pt  jets_pt weight_mc runNumber      BDT\n",
       "  npartitions=1                                                                             \n",
       "  0              int64  int64  int64  int64    float32  float32   float32    uint32  float64\n",
       "  2919999          ...    ...    ...    ...        ...      ...       ...       ...      ...\n",
       "  Dask Name: from_pandas, 1 tasks,\n",
       "  Dask DataFrame Structure:\n",
       "                 event    lep    jet    bdt leptons_pt  jets_pt weight_mc runNumber      BDT\n",
       "  npartitions=1                                                                             \n",
       "  0              int64  int64  int64  int64    float32  float32   float32    uint32  float64\n",
       "  2919999          ...    ...    ...    ...        ...      ...       ...       ...      ...\n",
       "  Dask Name: from_pandas, 1 tasks,\n",
       "  Dask DataFrame Structure:\n",
       "                 event    lep    jet    bdt leptons_pt  jets_pt weight_mc runNumber      BDT\n",
       "  npartitions=1                                                                             \n",
       "  0              int64  int64  int64  int64    float32  float32   float32    uint32  float64\n",
       "  2919999          ...    ...    ...    ...        ...      ...       ...       ...      ...\n",
       "  Dask Name: from_pandas, 1 tasks,\n",
       "  Dask DataFrame Structure:\n",
       "                 event    lep    jet    bdt leptons_pt  jets_pt weight_mc runNumber      BDT\n",
       "  npartitions=1                                                                             \n",
       "  0              int64  int64  int64  int64    float32  float32   float32    uint32  float64\n",
       "  2919999          ...    ...    ...    ...        ...      ...       ...       ...      ...\n",
       "  Dask Name: from_pandas, 1 tasks,\n",
       "  Dask DataFrame Structure:\n",
       "                 event    lep    jet    bdt leptons_pt  jets_pt weight_mc runNumber      BDT\n",
       "  npartitions=1                                                                             \n",
       "  0              int64  int64  int64  int64    float32  float32   float32    uint32  float64\n",
       "  2919999          ...    ...    ...    ...        ...      ...       ...       ...      ...\n",
       "  Dask Name: from_pandas, 1 tasks],\n",
       " 'hist_names': ['h0', 'h1', 'h2', 'h3', 'h4', 'h5', 'h6', 'h7', 'h8', 'h9'],\n",
       " 'hist_params': {'bins': 100, 'start': 0, 'stop': 1000000, 'name': 'test'},\n",
       " 'client': None}"
      ]
     },
     "execution_count": 20,
     "metadata": {},
     "output_type": "execute_result"
    }
   ],
   "source": [
    "histogramming.get_att()"
   ]
  }
 ],
 "metadata": {
  "kernelspec": {
   "display_name": "Python 3",
   "language": "python",
   "name": "python3"
  },
  "language_info": {
   "codemirror_mode": {
    "name": "ipython",
    "version": 3
   },
   "file_extension": ".py",
   "mimetype": "text/x-python",
   "name": "python",
   "nbconvert_exporter": "python",
   "pygments_lexer": "ipython3",
   "version": "3.6.8"
  }
 },
 "nbformat": 4,
 "nbformat_minor": 5
}
