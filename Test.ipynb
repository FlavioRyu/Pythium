{
 "cells": [
  {
   "cell_type": "code",
   "execution_count": 1,
   "id": "89cb4893-bf7e-4b43-b177-40aed5d4197f",
   "metadata": {},
   "outputs": [],
   "source": [
    "import os\n",
    "import sys\n",
    "import dask\n",
    "import uproot4\n",
    "import numpy as np\n",
    "import pandas as pd\n",
    "from hist import Hist\n",
    "import hist\n",
    "import uproot4 as uproot\n",
    "from dask.array import histogram as ds_hist\n",
    "import dask.dataframe as dd\n",
    "import timeit\n",
    "from dask.distributed import Client\n",
    "\n",
    "##procedurre to make client dask work\n",
    "# read hdf data convert it to csv and save it, then read csv with dask data frame"
   ]
  },
  {
   "cell_type": "code",
   "execution_count": 2,
   "id": "921489d3-f404-40c8-8be3-7819b3b26745",
   "metadata": {},
   "outputs": [],
   "source": [
    "client = Client(n_workers=4)"
   ]
  },
  {
   "cell_type": "code",
   "execution_count": 3,
   "id": "eafd4db4-24f5-4b1e-b91c-83ff1fdd1703",
   "metadata": {},
   "outputs": [
    {
     "data": {
      "text/html": [
       "<table style=\"border: 2px solid white;\">\n",
       "<tr>\n",
       "<td style=\"vertical-align: top; border: 0px solid white\">\n",
       "<h3 style=\"text-align: left;\">Client</h3>\n",
       "<ul style=\"text-align: left; list-style: none; margin: 0; padding: 0;\">\n",
       "  <li><b>Scheduler: </b>tcp://127.0.0.1:46106</li>\n",
       "  <li><b>Dashboard: </b><a href='http://127.0.0.1:8787/status' target='_blank'>http://127.0.0.1:8787/status</a></li>\n",
       "</ul>\n",
       "</td>\n",
       "<td style=\"vertical-align: top; border: 0px solid white\">\n",
       "<h3 style=\"text-align: left;\">Cluster</h3>\n",
       "<ul style=\"text-align: left; list-style:none; margin: 0; padding: 0;\">\n",
       "  <li><b>Workers: </b>4</li>\n",
       "  <li><b>Cores: </b>12</li>\n",
       "  <li><b>Memory: </b>30.71 GB</li>\n",
       "</ul>\n",
       "</td>\n",
       "</tr>\n",
       "</table>"
      ],
      "text/plain": [
       "<Client: 'tcp://127.0.0.1:46106' processes=4 threads=12, memory=30.71 GB>"
      ]
     },
     "execution_count": 3,
     "metadata": {},
     "output_type": "execute_result"
    }
   ],
   "source": [
    "client"
   ]
  },
  {
   "cell_type": "code",
   "execution_count": 17,
   "id": "f7d44b90-94bf-400a-b335-ce0e4018365d",
   "metadata": {},
   "outputs": [],
   "source": [
    "temp = pd.read_hdf('Skl_Data/test12345.h5')\n",
    "\n"
   ]
  },
  {
   "cell_type": "code",
   "execution_count": 5,
   "id": "68952a4e-3d18-4e53-a6c6-228a16b6da67",
   "metadata": {},
   "outputs": [
    {
     "data": {
      "text/plain": [
       "pandas.core.frame.DataFrame"
      ]
     },
     "execution_count": 5,
     "metadata": {},
     "output_type": "execute_result"
    }
   ],
   "source": [
    "type(temp)"
   ]
  },
  {
   "cell_type": "code",
   "execution_count": 22,
   "id": "9900c62a-7610-422b-bf15-d0c99620d4d8",
   "metadata": {},
   "outputs": [
    {
     "data": {
      "text/html": [
       "<div>\n",
       "<style scoped>\n",
       "    .dataframe tbody tr th:only-of-type {\n",
       "        vertical-align: middle;\n",
       "    }\n",
       "\n",
       "    .dataframe tbody tr th {\n",
       "        vertical-align: top;\n",
       "    }\n",
       "\n",
       "    .dataframe thead th {\n",
       "        text-align: right;\n",
       "    }\n",
       "</style>\n",
       "<table border=\"1\" class=\"dataframe\">\n",
       "  <thead>\n",
       "    <tr style=\"text-align: right;\">\n",
       "      <th></th>\n",
       "      <th></th>\n",
       "      <th></th>\n",
       "      <th></th>\n",
       "      <th>leptons_pt</th>\n",
       "      <th>jets_pt</th>\n",
       "      <th>weight_mc</th>\n",
       "      <th>runNumber</th>\n",
       "      <th>BDT</th>\n",
       "    </tr>\n",
       "    <tr>\n",
       "      <th>event</th>\n",
       "      <th>lep</th>\n",
       "      <th>jet</th>\n",
       "      <th>bdt</th>\n",
       "      <th></th>\n",
       "      <th></th>\n",
       "      <th></th>\n",
       "      <th></th>\n",
       "      <th></th>\n",
       "    </tr>\n",
       "  </thead>\n",
       "  <tbody>\n",
       "    <tr>\n",
       "      <th rowspan=\"5\" valign=\"top\">0</th>\n",
       "      <th rowspan=\"5\" valign=\"top\">0</th>\n",
       "      <th rowspan=\"5\" valign=\"top\">0</th>\n",
       "      <th>0</th>\n",
       "      <td>127083.039062</td>\n",
       "      <td>104784.4375</td>\n",
       "      <td>736.971985</td>\n",
       "      <td>284500</td>\n",
       "      <td>0.344902</td>\n",
       "    </tr>\n",
       "    <tr>\n",
       "      <th>1</th>\n",
       "      <td>127083.039062</td>\n",
       "      <td>104784.4375</td>\n",
       "      <td>736.971985</td>\n",
       "      <td>284500</td>\n",
       "      <td>0.367624</td>\n",
       "    </tr>\n",
       "    <tr>\n",
       "      <th>2</th>\n",
       "      <td>127083.039062</td>\n",
       "      <td>104784.4375</td>\n",
       "      <td>736.971985</td>\n",
       "      <td>284500</td>\n",
       "      <td>0.069904</td>\n",
       "    </tr>\n",
       "    <tr>\n",
       "      <th>3</th>\n",
       "      <td>127083.039062</td>\n",
       "      <td>104784.4375</td>\n",
       "      <td>736.971985</td>\n",
       "      <td>284500</td>\n",
       "      <td>0.010252</td>\n",
       "    </tr>\n",
       "    <tr>\n",
       "      <th>4</th>\n",
       "      <td>127083.039062</td>\n",
       "      <td>104784.4375</td>\n",
       "      <td>736.971985</td>\n",
       "      <td>284500</td>\n",
       "      <td>0.207318</td>\n",
       "    </tr>\n",
       "    <tr>\n",
       "      <th>...</th>\n",
       "      <th>...</th>\n",
       "      <th>...</th>\n",
       "      <th>...</th>\n",
       "      <td>...</td>\n",
       "      <td>...</td>\n",
       "      <td>...</td>\n",
       "      <td>...</td>\n",
       "      <td>...</td>\n",
       "    </tr>\n",
       "    <tr>\n",
       "      <th rowspan=\"5\" valign=\"top\">3681</th>\n",
       "      <th rowspan=\"5\" valign=\"top\">0</th>\n",
       "      <th rowspan=\"5\" valign=\"top\">3</th>\n",
       "      <th>0</th>\n",
       "      <td>89429.367188</td>\n",
       "      <td>48895.3125</td>\n",
       "      <td>735.537537</td>\n",
       "      <td>284500</td>\n",
       "      <td>0.151289</td>\n",
       "    </tr>\n",
       "    <tr>\n",
       "      <th>1</th>\n",
       "      <td>89429.367188</td>\n",
       "      <td>48895.3125</td>\n",
       "      <td>735.537537</td>\n",
       "      <td>284500</td>\n",
       "      <td>0.329823</td>\n",
       "    </tr>\n",
       "    <tr>\n",
       "      <th>2</th>\n",
       "      <td>89429.367188</td>\n",
       "      <td>48895.3125</td>\n",
       "      <td>735.537537</td>\n",
       "      <td>284500</td>\n",
       "      <td>0.144091</td>\n",
       "    </tr>\n",
       "    <tr>\n",
       "      <th>3</th>\n",
       "      <td>89429.367188</td>\n",
       "      <td>48895.3125</td>\n",
       "      <td>735.537537</td>\n",
       "      <td>284500</td>\n",
       "      <td>0.116522</td>\n",
       "    </tr>\n",
       "    <tr>\n",
       "      <th>4</th>\n",
       "      <td>89429.367188</td>\n",
       "      <td>48895.3125</td>\n",
       "      <td>735.537537</td>\n",
       "      <td>284500</td>\n",
       "      <td>0.258275</td>\n",
       "    </tr>\n",
       "  </tbody>\n",
       "</table>\n",
       "<p>91250 rows × 5 columns</p>\n",
       "</div>"
      ],
      "text/plain": [
       "                      leptons_pt      jets_pt   weight_mc  runNumber       BDT\n",
       "event lep jet bdt                                                             \n",
       "0     0   0   0    127083.039062  104784.4375  736.971985     284500  0.344902\n",
       "              1    127083.039062  104784.4375  736.971985     284500  0.367624\n",
       "              2    127083.039062  104784.4375  736.971985     284500  0.069904\n",
       "              3    127083.039062  104784.4375  736.971985     284500  0.010252\n",
       "              4    127083.039062  104784.4375  736.971985     284500  0.207318\n",
       "...                          ...          ...         ...        ...       ...\n",
       "3681  0   3   0     89429.367188   48895.3125  735.537537     284500  0.151289\n",
       "              1     89429.367188   48895.3125  735.537537     284500  0.329823\n",
       "              2     89429.367188   48895.3125  735.537537     284500  0.144091\n",
       "              3     89429.367188   48895.3125  735.537537     284500  0.116522\n",
       "              4     89429.367188   48895.3125  735.537537     284500  0.258275\n",
       "\n",
       "[91250 rows x 5 columns]"
      ]
     },
     "execution_count": 22,
     "metadata": {},
     "output_type": "execute_result"
    }
   ],
   "source": [
    "temp"
   ]
  },
  {
   "cell_type": "code",
   "execution_count": 25,
   "id": "4e3cb5d5-f328-42e1-8c0f-850b6ad76ee3",
   "metadata": {},
   "outputs": [],
   "source": [
    "lol = dd.read_csv(\"Skl_Data/test0.csv\")"
   ]
  },
  {
   "cell_type": "code",
   "execution_count": 44,
   "id": "63857134-e4fc-47ee-8ea8-37ea63ab92a1",
   "metadata": {},
   "outputs": [],
   "source": [
    "df = lol.compute()"
   ]
  },
  {
   "cell_type": "code",
   "execution_count": 48,
   "id": "455b0ad9-181b-4df1-a103-5b14f17d3f2b",
   "metadata": {},
   "outputs": [
    {
     "data": {
      "text/plain": [
       "0        127083.040\n",
       "1        127083.040\n",
       "2        127083.040\n",
       "3        127083.040\n",
       "4        127083.040\n",
       "            ...    \n",
       "45346     55017.620\n",
       "45347     55017.620\n",
       "45348     55017.620\n",
       "45349     55017.620\n",
       "45350     53743.227\n",
       "Name: leptons_pt, Length: 45351, dtype: float64"
      ]
     },
     "execution_count": 48,
     "metadata": {},
     "output_type": "execute_result"
    }
   ],
   "source": [
    "df['leptons_pt']"
   ]
  },
  {
   "cell_type": "code",
   "execution_count": 23,
   "id": "69b89e2e-b7b8-426f-8814-e1c2af1abd20",
   "metadata": {},
   "outputs": [
    {
     "ename": "NotImplementedError",
     "evalue": "Dask does not support MultiIndex Dataframes.",
     "output_type": "error",
     "traceback": [
      "\u001b[0;31m---------------------------------------------------------------------------\u001b[0m",
      "\u001b[0;31mNotImplementedError\u001b[0m                       Traceback (most recent call last)",
      "\u001b[0;32m<ipython-input-23-27557c9ea3f5>\u001b[0m in \u001b[0;36m<module>\u001b[0;34m\u001b[0m\n\u001b[0;32m----> 1\u001b[0;31m \u001b[0mlol\u001b[0m \u001b[0;34m=\u001b[0m \u001b[0mdd\u001b[0m\u001b[0;34m.\u001b[0m\u001b[0mfrom_pandas\u001b[0m\u001b[0;34m(\u001b[0m\u001b[0mtemp\u001b[0m\u001b[0;34m,\u001b[0m\u001b[0mnpartitions\u001b[0m\u001b[0;34m=\u001b[0m\u001b[0;36m1\u001b[0m\u001b[0;34m)\u001b[0m\u001b[0;34m\u001b[0m\u001b[0;34m\u001b[0m\u001b[0m\n\u001b[0m",
      "\u001b[0;32m~/test_env/lib64/python3.6/site-packages/dask/dataframe/io/io.py\u001b[0m in \u001b[0;36mfrom_pandas\u001b[0;34m(data, npartitions, chunksize, sort, name)\u001b[0m\n\u001b[1;32m    200\u001b[0m     \"\"\"\n\u001b[1;32m    201\u001b[0m     \u001b[0;32mif\u001b[0m \u001b[0misinstance\u001b[0m\u001b[0;34m(\u001b[0m\u001b[0mgetattr\u001b[0m\u001b[0;34m(\u001b[0m\u001b[0mdata\u001b[0m\u001b[0;34m,\u001b[0m \u001b[0;34m\"index\"\u001b[0m\u001b[0;34m,\u001b[0m \u001b[0;32mNone\u001b[0m\u001b[0;34m)\u001b[0m\u001b[0;34m,\u001b[0m \u001b[0mpd\u001b[0m\u001b[0;34m.\u001b[0m\u001b[0mMultiIndex\u001b[0m\u001b[0;34m)\u001b[0m\u001b[0;34m:\u001b[0m\u001b[0;34m\u001b[0m\u001b[0;34m\u001b[0m\u001b[0m\n\u001b[0;32m--> 202\u001b[0;31m         \u001b[0;32mraise\u001b[0m \u001b[0mNotImplementedError\u001b[0m\u001b[0;34m(\u001b[0m\u001b[0;34m\"Dask does not support MultiIndex Dataframes.\"\u001b[0m\u001b[0;34m)\u001b[0m\u001b[0;34m\u001b[0m\u001b[0;34m\u001b[0m\u001b[0m\n\u001b[0m\u001b[1;32m    203\u001b[0m \u001b[0;34m\u001b[0m\u001b[0m\n\u001b[1;32m    204\u001b[0m     \u001b[0;32mif\u001b[0m \u001b[0;32mnot\u001b[0m \u001b[0mhas_parallel_type\u001b[0m\u001b[0;34m(\u001b[0m\u001b[0mdata\u001b[0m\u001b[0;34m)\u001b[0m\u001b[0;34m:\u001b[0m\u001b[0;34m\u001b[0m\u001b[0;34m\u001b[0m\u001b[0m\n",
      "\u001b[0;31mNotImplementedError\u001b[0m: Dask does not support MultiIndex Dataframes."
     ]
    }
   ],
   "source": [
    "#lol = dd.from_pandas(temp,npartitions=1)"
   ]
  },
  {
   "cell_type": "code",
   "execution_count": 6,
   "id": "aae38b38-e80a-4d16-ba37-4e8af4657257",
   "metadata": {},
   "outputs": [
    {
     "data": {
      "text/plain": [
       "leptons_pt     39250.191406\n",
       "jets_pt       111290.656250\n",
       "weight_mc        735.962708\n",
       "runNumber     284500.000000\n",
       "BDT                0.261029\n",
       "Name: (3000, 0, 0, 0), dtype: float64"
      ]
     },
     "execution_count": 6,
     "metadata": {},
     "output_type": "execute_result"
    }
   ],
   "source": [
    "temp.loc[(3000,0,0,0)]"
   ]
  },
  {
   "cell_type": "code",
   "execution_count": 7,
   "id": "b00de735-65b7-45c0-9218-67af3953b635",
   "metadata": {},
   "outputs": [
    {
     "data": {
      "text/plain": [
       "562724.75"
      ]
     },
     "execution_count": 7,
     "metadata": {},
     "output_type": "execute_result"
    }
   ],
   "source": [
    "temp.columns\n",
    "max(temp['leptons_pt'])"
   ]
  },
  {
   "cell_type": "code",
   "execution_count": 8,
   "id": "43a3335a-0b5c-4366-a439-21061d9a2e54",
   "metadata": {},
   "outputs": [
    {
     "data": {
      "text/plain": [
       "3681"
      ]
     },
     "execution_count": 8,
     "metadata": {},
     "output_type": "execute_result"
    }
   ],
   "source": [
    "temp.index[len(temp)-1][0]"
   ]
  },
  {
   "cell_type": "code",
   "execution_count": 9,
   "id": "3a129632-e93a-43d1-b376-c46a03352830",
   "metadata": {},
   "outputs": [],
   "source": [
    "x = [temp.loc[:(int(temp.index[len(temp)-1][0]/2),0,0,0)],temp.loc[(int(temp.index[len(temp)-1][0]/2),0,0,0):]] ##change that later but w/e"
   ]
  },
  {
   "cell_type": "code",
   "execution_count": 10,
   "id": "fc1bdfc1-fb1c-4ef4-b192-90443136ac62",
   "metadata": {},
   "outputs": [
    {
     "data": {
      "text/plain": [
       "pandas.core.frame.DataFrame"
      ]
     },
     "execution_count": 10,
     "metadata": {},
     "output_type": "execute_result"
    }
   ],
   "source": [
    "type(x[0])"
   ]
  },
  {
   "cell_type": "code",
   "execution_count": 11,
   "id": "470ffd9c-aa60-46a7-b9bc-109a19668244",
   "metadata": {},
   "outputs": [
    {
     "data": {
      "text/html": [
       "<div>\n",
       "<style scoped>\n",
       "    .dataframe tbody tr th:only-of-type {\n",
       "        vertical-align: middle;\n",
       "    }\n",
       "\n",
       "    .dataframe tbody tr th {\n",
       "        vertical-align: top;\n",
       "    }\n",
       "\n",
       "    .dataframe thead th {\n",
       "        text-align: right;\n",
       "    }\n",
       "</style>\n",
       "<table border=\"1\" class=\"dataframe\">\n",
       "  <thead>\n",
       "    <tr style=\"text-align: right;\">\n",
       "      <th></th>\n",
       "      <th></th>\n",
       "      <th></th>\n",
       "      <th></th>\n",
       "      <th>leptons_pt</th>\n",
       "      <th>jets_pt</th>\n",
       "      <th>weight_mc</th>\n",
       "      <th>runNumber</th>\n",
       "      <th>BDT</th>\n",
       "    </tr>\n",
       "    <tr>\n",
       "      <th>event</th>\n",
       "      <th>lep</th>\n",
       "      <th>jet</th>\n",
       "      <th>bdt</th>\n",
       "      <th></th>\n",
       "      <th></th>\n",
       "      <th></th>\n",
       "      <th></th>\n",
       "      <th></th>\n",
       "    </tr>\n",
       "  </thead>\n",
       "  <tbody>\n",
       "    <tr>\n",
       "      <th rowspan=\"5\" valign=\"top\">0</th>\n",
       "      <th rowspan=\"5\" valign=\"top\">0</th>\n",
       "      <th rowspan=\"5\" valign=\"top\">0</th>\n",
       "      <th>0</th>\n",
       "      <td>127083.039062</td>\n",
       "      <td>104784.437500</td>\n",
       "      <td>736.971985</td>\n",
       "      <td>284500</td>\n",
       "      <td>0.344902</td>\n",
       "    </tr>\n",
       "    <tr>\n",
       "      <th>1</th>\n",
       "      <td>127083.039062</td>\n",
       "      <td>104784.437500</td>\n",
       "      <td>736.971985</td>\n",
       "      <td>284500</td>\n",
       "      <td>0.367624</td>\n",
       "    </tr>\n",
       "    <tr>\n",
       "      <th>2</th>\n",
       "      <td>127083.039062</td>\n",
       "      <td>104784.437500</td>\n",
       "      <td>736.971985</td>\n",
       "      <td>284500</td>\n",
       "      <td>0.069904</td>\n",
       "    </tr>\n",
       "    <tr>\n",
       "      <th>3</th>\n",
       "      <td>127083.039062</td>\n",
       "      <td>104784.437500</td>\n",
       "      <td>736.971985</td>\n",
       "      <td>284500</td>\n",
       "      <td>0.010252</td>\n",
       "    </tr>\n",
       "    <tr>\n",
       "      <th>4</th>\n",
       "      <td>127083.039062</td>\n",
       "      <td>104784.437500</td>\n",
       "      <td>736.971985</td>\n",
       "      <td>284500</td>\n",
       "      <td>0.207318</td>\n",
       "    </tr>\n",
       "    <tr>\n",
       "      <th>...</th>\n",
       "      <th>...</th>\n",
       "      <th>...</th>\n",
       "      <th>...</th>\n",
       "      <td>...</td>\n",
       "      <td>...</td>\n",
       "      <td>...</td>\n",
       "      <td>...</td>\n",
       "      <td>...</td>\n",
       "    </tr>\n",
       "    <tr>\n",
       "      <th rowspan=\"4\" valign=\"top\">1839</th>\n",
       "      <th rowspan=\"4\" valign=\"top\">0</th>\n",
       "      <th rowspan=\"4\" valign=\"top\">2</th>\n",
       "      <th>1</th>\n",
       "      <td>55017.621094</td>\n",
       "      <td>47182.367188</td>\n",
       "      <td>735.715088</td>\n",
       "      <td>284500</td>\n",
       "      <td>0.037250</td>\n",
       "    </tr>\n",
       "    <tr>\n",
       "      <th>2</th>\n",
       "      <td>55017.621094</td>\n",
       "      <td>47182.367188</td>\n",
       "      <td>735.715088</td>\n",
       "      <td>284500</td>\n",
       "      <td>0.072236</td>\n",
       "    </tr>\n",
       "    <tr>\n",
       "      <th>3</th>\n",
       "      <td>55017.621094</td>\n",
       "      <td>47182.367188</td>\n",
       "      <td>735.715088</td>\n",
       "      <td>284500</td>\n",
       "      <td>0.155460</td>\n",
       "    </tr>\n",
       "    <tr>\n",
       "      <th>4</th>\n",
       "      <td>55017.621094</td>\n",
       "      <td>47182.367188</td>\n",
       "      <td>735.715088</td>\n",
       "      <td>284500</td>\n",
       "      <td>0.132336</td>\n",
       "    </tr>\n",
       "    <tr>\n",
       "      <th>1840</th>\n",
       "      <th>0</th>\n",
       "      <th>0</th>\n",
       "      <th>0</th>\n",
       "      <td>53743.226562</td>\n",
       "      <td>207344.234375</td>\n",
       "      <td>735.715088</td>\n",
       "      <td>284500</td>\n",
       "      <td>0.436274</td>\n",
       "    </tr>\n",
       "  </tbody>\n",
       "</table>\n",
       "<p>45351 rows × 5 columns</p>\n",
       "</div>"
      ],
      "text/plain": [
       "                      leptons_pt        jets_pt   weight_mc  runNumber  \\\n",
       "event lep jet bdt                                                        \n",
       "0     0   0   0    127083.039062  104784.437500  736.971985     284500   \n",
       "              1    127083.039062  104784.437500  736.971985     284500   \n",
       "              2    127083.039062  104784.437500  736.971985     284500   \n",
       "              3    127083.039062  104784.437500  736.971985     284500   \n",
       "              4    127083.039062  104784.437500  736.971985     284500   \n",
       "...                          ...            ...         ...        ...   \n",
       "1839  0   2   1     55017.621094   47182.367188  735.715088     284500   \n",
       "              2     55017.621094   47182.367188  735.715088     284500   \n",
       "              3     55017.621094   47182.367188  735.715088     284500   \n",
       "              4     55017.621094   47182.367188  735.715088     284500   \n",
       "1840  0   0   0     53743.226562  207344.234375  735.715088     284500   \n",
       "\n",
       "                        BDT  \n",
       "event lep jet bdt            \n",
       "0     0   0   0    0.344902  \n",
       "              1    0.367624  \n",
       "              2    0.069904  \n",
       "              3    0.010252  \n",
       "              4    0.207318  \n",
       "...                     ...  \n",
       "1839  0   2   1    0.037250  \n",
       "              2    0.072236  \n",
       "              3    0.155460  \n",
       "              4    0.132336  \n",
       "1840  0   0   0    0.436274  \n",
       "\n",
       "[45351 rows x 5 columns]"
      ]
     },
     "execution_count": 11,
     "metadata": {},
     "output_type": "execute_result"
    }
   ],
   "source": [
    "x[0]"
   ]
  },
  {
   "cell_type": "code",
   "execution_count": 12,
   "id": "ad32caec-6e90-42e2-aeb7-465d98986f1b",
   "metadata": {},
   "outputs": [],
   "source": [
    "for i in range(len(x)):\n",
    "    x[i].to_csv(f'Skl_Data/test{i}.csv')"
   ]
  },
  {
   "cell_type": "code",
   "execution_count": 18,
   "id": "042e104f-f9f2-490a-8b8a-c76c64f3a4cf",
   "metadata": {},
   "outputs": [],
   "source": [
    "storage = pd.HDFStore('Skl_Data/storage_test.h5')\n",
    "storage.put('data1',x[0],format = 'table')"
   ]
  },
  {
   "cell_type": "code",
   "execution_count": 19,
   "id": "a6471416-cae0-40e7-a0eb-49f8bb62a57c",
   "metadata": {},
   "outputs": [],
   "source": [
    "\n",
    "z = dd.read_hdf('Skl_Data/storage_test.h5','data1')"
   ]
  },
  {
   "cell_type": "code",
   "execution_count": 20,
   "id": "e874d13e-1686-4a7d-99f8-eef278f3d922",
   "metadata": {},
   "outputs": [
    {
     "data": {
      "text/plain": [
       "dask.dataframe.core.DataFrame"
      ]
     },
     "execution_count": 20,
     "metadata": {},
     "output_type": "execute_result"
    }
   ],
   "source": [
    "type(z)"
   ]
  },
  {
   "cell_type": "code",
   "execution_count": null,
   "id": "5ec91866-35e3-4978-badb-ed8f931b5513",
   "metadata": {},
   "outputs": [],
   "source": []
  },
  {
   "cell_type": "code",
   "execution_count": 27,
   "id": "2f5459bb-32aa-46b3-a4eb-13d6a9e03fea",
   "metadata": {},
   "outputs": [],
   "source": [
    "x, bins = ds_hist(lol['leptons_pt'], bins = 100,range = [0,562724.75*1.5])"
   ]
  },
  {
   "cell_type": "code",
   "execution_count": 28,
   "id": "f3b0ff7f-bfee-4d7c-b364-6803c7f0b4bc",
   "metadata": {},
   "outputs": [
    {
     "name": "stdout",
     "output_type": "stream",
     "text": [
      "CPU times: user 29.2 ms, sys: 12.7 ms, total: 41.8 ms\n",
      "Wall time: 381 ms\n"
     ]
    },
    {
     "data": {
      "text/plain": [
       "array([   0,    0,    0, 6250, 6785, 5510, 5291, 4230, 3595, 2760, 2040,\n",
       "       1630, 1445,  945,  845,  885,  795,  385,  335,  345,  220,  165,\n",
       "        100,  160,  170,   65,   95,   55,   30,   25,   50,   35,    0,\n",
       "          0,    0,    0,   60,    0,    0,    0,    0,    0,    0,   25,\n",
       "          0,    0,   25,    0,    0,    0,    0,    0,    0,    0,    0,\n",
       "          0,    0,    0,    0,    0,    0,    0,    0,    0,    0,    0,\n",
       "          0,    0,    0,    0,    0,    0,    0,    0,    0,    0,    0,\n",
       "          0,    0,    0,    0,    0,    0,    0,    0,    0,    0,    0,\n",
       "          0,    0,    0,    0,    0,    0,    0,    0,    0,    0,    0,\n",
       "          0])"
      ]
     },
     "execution_count": 28,
     "metadata": {},
     "output_type": "execute_result"
    }
   ],
   "source": [
    "%%time\n",
    "x.compute()"
   ]
  },
  {
   "cell_type": "code",
   "execution_count": 29,
   "id": "ebf96d77-611f-42ef-bc4d-039e23a596bd",
   "metadata": {},
   "outputs": [
    {
     "data": {
      "text/plain": [
       "array([     0.     ,   8440.87125,  16881.7425 ,  25322.61375,\n",
       "        33763.485  ,  42204.35625,  50645.2275 ,  59086.09875,\n",
       "        67526.97   ,  75967.84125,  84408.7125 ,  92849.58375,\n",
       "       101290.455  , 109731.32625, 118172.1975 , 126613.06875,\n",
       "       135053.94   , 143494.81125, 151935.6825 , 160376.55375,\n",
       "       168817.425  , 177258.29625, 185699.1675 , 194140.03875,\n",
       "       202580.91   , 211021.78125, 219462.6525 , 227903.52375,\n",
       "       236344.395  , 244785.26625, 253226.1375 , 261667.00875,\n",
       "       270107.88   , 278548.75125, 286989.6225 , 295430.49375,\n",
       "       303871.365  , 312312.23625, 320753.1075 , 329193.97875,\n",
       "       337634.85   , 346075.72125, 354516.5925 , 362957.46375,\n",
       "       371398.335  , 379839.20625, 388280.0775 , 396720.94875,\n",
       "       405161.82   , 413602.69125, 422043.5625 , 430484.43375,\n",
       "       438925.305  , 447366.17625, 455807.0475 , 464247.91875,\n",
       "       472688.79   , 481129.66125, 489570.5325 , 498011.40375,\n",
       "       506452.275  , 514893.14625, 523334.0175 , 531774.88875,\n",
       "       540215.76   , 548656.63125, 557097.5025 , 565538.37375,\n",
       "       573979.245  , 582420.11625, 590860.9875 , 599301.85875,\n",
       "       607742.73   , 616183.60125, 624624.4725 , 633065.34375,\n",
       "       641506.215  , 649947.08625, 658387.9575 , 666828.82875,\n",
       "       675269.7    , 683710.57125, 692151.4425 , 700592.31375,\n",
       "       709033.185  , 717474.05625, 725914.9275 , 734355.79875,\n",
       "       742796.67   , 751237.54125, 759678.4125 , 768119.28375,\n",
       "       776560.155  , 785001.02625, 793441.8975 , 801882.76875,\n",
       "       810323.64   , 818764.51125, 827205.3825 , 835646.25375,\n",
       "       844087.125  ])"
      ]
     },
     "execution_count": 29,
     "metadata": {},
     "output_type": "execute_result"
    }
   ],
   "source": [
    "bins"
   ]
  },
  {
   "cell_type": "code",
   "execution_count": 60,
   "id": "e9632721-a8f4-4fa9-96b6-d55cf3c56808",
   "metadata": {},
   "outputs": [],
   "source": [
    "h = (\n",
    "    Hist.new.Reg(100, 0, 562724.75*1.5, name=\"S\", label=\"s [units]\", flow=False)\n",
    "    .Double()\n",
    ")"
   ]
  },
  {
   "cell_type": "code",
   "execution_count": 61,
   "id": "93368451-0573-4cd2-8892-c1f22da298ec",
   "metadata": {},
   "outputs": [],
   "source": [
    "@dask.delayed\n",
    "def fill_hist(empty_hist,data_list):\n",
    "    for data in data_list:\n",
    "        empty_hist.fill(data)\n",
    "        \n",
    "    return empty_hist"
   ]
  },
  {
   "cell_type": "code",
   "execution_count": 68,
   "id": "477f5774-caf2-41e9-a7fc-86a2fa4fe84b",
   "metadata": {},
   "outputs": [
    {
     "data": {
      "text/plain": [
       "Delayed('fill_hist-016b99a3-8355-4780-9672-c81d09055eac')"
      ]
     },
     "execution_count": 68,
     "metadata": {},
     "output_type": "execute_result"
    }
   ],
   "source": [
    "fill_hist(h,[lol['leptons_pt'],lol['leptons_pt']])"
   ]
  },
  {
   "cell_type": "code",
   "execution_count": null,
   "id": "0d008c06-4030-49a0-b5d4-e141382c5e65",
   "metadata": {},
   "outputs": [],
   "source": []
  },
  {
   "cell_type": "code",
   "execution_count": 69,
   "id": "ef95069a-988a-4d00-9e04-675155f70804",
   "metadata": {},
   "outputs": [
    {
     "data": {
      "image/png": "[encoded data removed]",
      "text/plain": [
       "<IPython.core.display.Image object>"
      ]
     },
     "execution_count": 69,
     "metadata": {},
     "output_type": "execute_result"
    }
   ],
   "source": [
    "fill_hist(h,[lol['leptons_pt'],lol['leptons_pt']]).visualize()"
   ]
  },
  {
   "cell_type": "code",
   "execution_count": 70,
   "id": "77ab166d-affa-4aeb-b123-268b0209e888",
   "metadata": {},
   "outputs": [],
   "source": [
    "h = fill_hist(h,[lol['leptons_pt'],lol['leptons_pt']]).compute()"
   ]
  },
  {
   "cell_type": "code",
   "execution_count": 71,
   "id": "1c5ff9ec-afa8-49fc-9a8e-05924cfe2c92",
   "metadata": {},
   "outputs": [
    {
     "data": {
      "text/html": [
       "<html>\n",
       "<div style=\"display:flex; align-items:center;\">\n",
       "<div style=\"width:290px;\">\n",
       "<svg xmlns=\"http://www.w3.org/2000/svg\" viewBox=\"-10 -105 270 120\">\n",
       "<line x1=\"-5\" y1=\"0\" x2=\"255\" y2=\"0\" style=\"fill:none;stroke-width:2;stroke:currentColor\"/>\n",
       "<text text-anchor=\"middle\" x=\"0\" y=\"15\" style=\"fill:currentColor;\">\n",
       "0\n",
       "</text>\n",
       "<text text-anchor=\"middle\" x=\"250\" y=\"15\" style=\"fill:currentColor;\">\n",
       "8.44e+05\n",
       "</text>\n",
       "<text text-anchor=\"middle\" x=\"125.0\" y=\"15\" style=\"fill:currentColor;\">\n",
       "s [units]\n",
       "</text>\n",
       "<polyline points=\"  0,0   0,-0 2.5,-0 2.5,-0   5,-0   5,-0 7.5,-0 7.5,-92.1  10,-92.1  10,-100 12.5,-100 12.5,-81.2  15,-81.2  15,-78 17.5,-78 17.5,-62.3  20,-62.3  20,-53 22.5,-53 22.5,-40.7  25,-40.7  25,-30.1 27.5,-30.1 27.5,-24  30,-24  30,-21.3 32.5,-21.3 32.5,-13.9  35,-13.9  35,-12.5 37.5,-12.5 37.5,-13  40,-13  40,-11.7 42.5,-11.7 42.5,-5.67  45,-5.67  45,-4.94 47.5,-4.94 47.5,-5.08  50,-5.08  50,-3.24 52.5,-3.24 52.5,-2.43  55,-2.43  55,-1.47 57.5,-1.47 57.5,-2.36  60,-2.36  60,-2.51 62.5,-2.51 62.5,-0.958  65,-0.958  65,-1.4 67.5,-1.4 67.5,-0.811  70,-0.811  70,-0.442 72.5,-0.442 72.5,-0.368  75,-0.368  75,-0.737 77.5,-0.737 77.5,-0.516  80,-0.516  80,-0 82.5,-0 82.5,-0  85,-0  85,-0 87.5,-0 87.5,-0  90,-0  90,-0.884 92.5,-0.884 92.5,-0  95,-0  95,-0 97.5,-0 97.5,-0 100,-0 100,-0 102.5,-0 102.5,-0 105,-0 105,-0 107.5,-0 107.5,-0.368 110,-0.368 110,-0 112.5,-0 112.5,-0 115,-0 115,-0.368 117.5,-0.368 117.5,-0 120,-0 120,-0 122.5,-0 122.5,-0 125,-0 125,-0 127.5,-0 127.5,-0 130,-0 130,-0 132.5,-0 132.5,-0 135,-0 135,-0 137.5,-0 137.5,-0 140,-0 140,-0 142.5,-0 142.5,-0 145,-0 145,-0 147.5,-0 147.5,-0 150,-0 150,-0 152.5,-0 152.5,-0 155,-0 155,-0 157.5,-0 157.5,-0 160,-0 160,-0 162.5,-0 162.5,-0 165,-0 165,-0 167.5,-0 167.5,-0 170,-0 170,-0 172.5,-0 172.5,-0 175,-0 175,-0 177.5,-0 177.5,-0 180,-0 180,-0 182.5,-0 182.5,-0 185,-0 185,-0 187.5,-0 187.5,-0 190,-0 190,-0 192.5,-0 192.5,-0 195,-0 195,-0 197.5,-0 197.5,-0 200,-0 200,-0 202.5,-0 202.5,-0 205,-0 205,-0 207.5,-0 207.5,-0 210,-0 210,-0 212.5,-0 212.5,-0 215,-0 215,-0 217.5,-0 217.5,-0 220,-0 220,-0 222.5,-0 222.5,-0 225,-0 225,-0 227.5,-0 227.5,-0 230,-0 230,-0 232.5,-0 232.5,-0 235,-0 235,-0 237.5,-0 237.5,-0 240,-0 240,-0 242.5,-0 242.5,-0 245,-0 245,-0 247.5,-0 247.5,-0 250,-0 250,0\" style=\"fill:none; stroke:currentColor;\"/>\n",
       "</svg>\n",
       "</div>\n",
       "<div style=\"flex=grow:1;\">\n",
       "Regular(100, 0, 844087, name='S', label='s [units]')<br/>\n",
       "<hr style=\"margin-top:.2em; margin-bottom:.2em;\"/>\n",
       "Double() Σ=136053.0\n",
       "\n",
       "</div>\n",
       "</div>\n",
       "</html>"
      ],
      "text/plain": [
       "Hist(Regular(100, 0, 844087, name='S', label='s [units]'), storage=Double()) # Sum: 136053.0"
      ]
     },
     "execution_count": 71,
     "metadata": {},
     "output_type": "execute_result"
    }
   ],
   "source": [
    "h"
   ]
  },
  {
   "cell_type": "code",
   "execution_count": 72,
   "id": "fdeaff25-2858-4697-b296-aef6cdb4ffaa",
   "metadata": {},
   "outputs": [
    {
     "data": {
      "text/plain": [
       "Dask Series Structure:\n",
       "npartitions=1\n",
       "    float32\n",
       "        ...\n",
       "Name: leptons_pt, dtype: float32\n",
       "Dask Name: getitem, 2 tasks"
      ]
     },
     "execution_count": 72,
     "metadata": {},
     "output_type": "execute_result"
    }
   ],
   "source": [
    "z['leptons_pt']"
   ]
  },
  {
   "cell_type": "code",
   "execution_count": null,
   "id": "a7cc832d-f76f-4612-a295-999fee4f3297",
   "metadata": {},
   "outputs": [],
   "source": []
  },
  {
   "cell_type": "code",
   "execution_count": null,
   "id": "b900ac83-12b0-4faa-98f7-e3e620266777",
   "metadata": {},
   "outputs": [],
   "source": []
  }
 ],
 "metadata": {
  "kernelspec": {
   "display_name": "Python 3",
   "language": "python",
   "name": "python3"
  },
  "language_info": {
   "codemirror_mode": {
    "name": "ipython",
    "version": 3
   },
   "file_extension": ".py",
   "mimetype": "text/x-python",
   "name": "python",
   "nbconvert_exporter": "python",
   "pygments_lexer": "ipython3",
   "version": "3.6.8"
  }
 },
 "nbformat": 4,
 "nbformat_minor": 5
}
