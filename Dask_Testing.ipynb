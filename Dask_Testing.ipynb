{
 "cells": [
  {
   "cell_type": "code",
   "execution_count": 1,
   "id": "77cb4a3f-dd8b-4fc2-8432-b3413c658366",
   "metadata": {},
   "outputs": [],
   "source": [
    "import os\n",
    "import sys\n",
    "import dask\n",
    "import uproot4\n",
    "import numpy as np\n",
    "import pandas as pd\n",
    "from hist import Hist\n",
    "import hist\n",
    "import uproot4 as uproot\n",
    "from dask.array import histogram as ds_hist\n",
    "import dask.dataframe as dd\n",
    "import timeit\n",
    "from distributed import Client\n",
    "import storage_functions as sf\n",
    "import time\n",
    "import psutil\n",
    "import matplotlib.pyplot as plt\n",
    "import pyarrow as pa\n",
    "import re\n",
    "import subprocess\n",
    "from pympler import asizeof\n",
    "import hist_vars\n",
    "import itertools\n",
    "import hist_wrapper\n",
    "from hurry.filesize import size\n",
    "import pyarrow.parquet as pq"
   ]
  },
  {
   "cell_type": "code",
   "execution_count": null,
   "id": "41410f9a-249a-4164-bd87-9caeffbde995",
   "metadata": {},
   "outputs": [],
   "source": []
  },
  {
   "cell_type": "code",
   "execution_count": 2,
   "id": "098fb21f-126f-4e33-9bfd-15fa33677ab5",
   "metadata": {},
   "outputs": [
    {
     "data": {
      "text/plain": [
       "<dask.config.set at 0x7f7db8fc13a0>"
      ]
     },
     "execution_count": 2,
     "metadata": {},
     "output_type": "execute_result"
    }
   ],
   "source": [
    "dask.config.set({'temporary_directory': '/tmp/kmalirz'})"
   ]
  },
  {
   "cell_type": "code",
   "execution_count": 3,
   "id": "14d3ee81-8b3b-4050-a712-64f1ef352ca9",
   "metadata": {},
   "outputs": [
    {
     "data": {
      "text/html": [
       "<html>\n",
       "<div style=\"display:flex; align-items:center;\">\n",
       "<div style=\"width:290px;\">\n",
       "<svg xmlns=\"http://www.w3.org/2000/svg\" viewBox=\"-10 -105 270 120\">\n",
       "<line x1=\"-5\" y1=\"0\" x2=\"255\" y2=\"0\" style=\"fill:none;stroke-width:2;stroke:currentColor\"/>\n",
       "<text text-anchor=\"middle\" x=\"0\" y=\"15\" style=\"fill:currentColor;\">\n",
       "3e+05\n",
       "</text>\n",
       "<text text-anchor=\"middle\" x=\"250\" y=\"15\" style=\"fill:currentColor;\">\n",
       "6e+05\n",
       "</text>\n",
       "<text text-anchor=\"middle\" x=\"125.0\" y=\"15\" style=\"fill:currentColor;\">\n",
       "$p_{T}$[MeV]\n",
       "</text>\n",
       "<polyline points=\"  0,0   0,-0 12.5,-0 12.5,-0  25,-0  25,-0 37.5,-0 37.5,-0  50,-0  50,-0 62.5,-0 62.5,-0  75,-0  75,-0 87.5,-0 87.5,-0 100,-0 100,-0 112.5,-0 112.5,-0 125,-0 125,-0 137.5,-0 137.5,-0 150,-0 150,-0 162.5,-0 162.5,-0 175,-0 175,-0 187.5,-0 187.5,-0 200,-0 200,-0 212.5,-0 212.5,-0 225,-0 225,-0 237.5,-0 237.5,-0 250,-0 250,0\" style=\"fill:none; stroke:currentColor;\"/>\n",
       "</svg>\n",
       "</div>\n",
       "<div style=\"flex=grow:1;\">\n",
       "Regular(20, 300000, 600000, name='x', label='$p_{T}$[MeV]')<br/>\n",
       "<hr style=\"margin-top:.2em; margin-bottom:.2em;\"/>\n",
       "Double() Σ=0.0\n",
       "\n",
       "</div>\n",
       "</div>\n",
       "</html>"
      ],
      "text/plain": [
       "Hist(Regular(20, 300000, 600000, name='x', label='$p_{T}$[MeV]'), storage=Double())"
      ]
     },
     "execution_count": 3,
     "metadata": {},
     "output_type": "execute_result"
    }
   ],
   "source": [
    "(Hist(hist.axis.Regular(20, 300000, 600000, name='x', label='$p_{T}$[MeV]')))"
   ]
  },
  {
   "cell_type": "code",
   "execution_count": 4,
   "id": "5abe261f-a878-4d05-850a-a48e31de1858",
   "metadata": {},
   "outputs": [],
   "source": [
    "#(sf.Histogram_wrapper(hist.axis.Regular(20, 300000, 600000, name='x', label='$p_{T}$[MeV]'),name='x'))"
   ]
  },
  {
   "cell_type": "code",
   "execution_count": 5,
   "id": "7b2fe131-4a75-4848-9138-d0705392b339",
   "metadata": {},
   "outputs": [],
   "source": [
    "histo_var_dict = sf.combine_dicts([hist_vars.var_main, hist_vars.var_series, hist_vars.var_beta, \n",
    "                               hist_vars.var_ecf_beta, hist_vars.var_dichoric, hist_vars.var_ecfg])"
   ]
  },
  {
   "cell_type": "code",
   "execution_count": 6,
   "id": "3a05740e-27b7-4c6a-bdc6-1137298208a7",
   "metadata": {},
   "outputs": [],
   "source": [
    "#histo_var_dict = dict(itertools.islice(histo_var_dict.items(), 10))"
   ]
  },
  {
   "cell_type": "code",
   "execution_count": 7,
   "id": "cae8913c-4c06-46c3-94f3-535b124cfdff",
   "metadata": {},
   "outputs": [
    {
     "data": {
      "text/plain": [
       "93"
      ]
     },
     "execution_count": 7,
     "metadata": {},
     "output_type": "execute_result"
    }
   ],
   "source": [
    "len(histo_var_dict)"
   ]
  },
  {
   "cell_type": "code",
   "execution_count": 8,
   "id": "096003f1-2305-4d10-b0b6-576f013f3d0e",
   "metadata": {},
   "outputs": [],
   "source": [
    "histogramming = sf.HistoMaker()"
   ]
  },
  {
   "cell_type": "code",
   "execution_count": 9,
   "id": "735ae53f-c0cc-418e-8a9c-348e56793ff3",
   "metadata": {},
   "outputs": [],
   "source": [
    "client = histogramming.client_start(n_workers = 4,memory_limit='5GB',threads_per_worker=1)"
   ]
  },
  {
   "cell_type": "code",
   "execution_count": 10,
   "id": "385226d7-a6dd-4c58-b2af-aff476d42a24",
   "metadata": {},
   "outputs": [
    {
     "data": {
      "text/html": [
       "<div>\n",
       "    <div style=\"width: 24px; height: 24px; background-color: #e1e1e1; border: 3px solid #9D9D9D; border-radius: 5px; position: absolute;\"> </div>\n",
       "    <div style=\"margin-left: 48px;\">\n",
       "        <h3 style=\"margin-bottom: 0px;\">Client</h3>\n",
       "        <p style=\"color: #9D9D9D; margin-bottom: 0px;\">Client-f3f6aa42-8867-11ec-9d35-fa163e255718</p>\n",
       "        <table style=\"width: 100%; text-align: left;\">\n",
       "\n",
       "        <tr>\n",
       "        \n",
       "            <td style=\"text-align: left;\"><strong>Connection method:</strong> Cluster object</td>\n",
       "            <td style=\"text-align: left;\"><strong>Cluster type:</strong> distributed.LocalCluster</td>\n",
       "        \n",
       "        </tr>\n",
       "\n",
       "        \n",
       "            <tr>\n",
       "                <td style=\"text-align: left;\">\n",
       "                    <strong>Dashboard: </strong> <a href=\"http://127.0.0.1:8787/status\" target=\"_blank\">http://127.0.0.1:8787/status</a>\n",
       "                </td>\n",
       "                <td style=\"text-align: left;\"></td>\n",
       "            </tr>\n",
       "        \n",
       "\n",
       "        </table>\n",
       "\n",
       "        \n",
       "            <details>\n",
       "            <summary style=\"margin-bottom: 20px;\"><h3 style=\"display: inline;\">Cluster Info</h3></summary>\n",
       "            <div class=\"jp-RenderedHTMLCommon jp-RenderedHTML jp-mod-trusted jp-OutputArea-output\">\n",
       "    <div style=\"width: 24px; height: 24px; background-color: #e1e1e1; border: 3px solid #9D9D9D; border-radius: 5px; position: absolute;\">\n",
       "    </div>\n",
       "    <div style=\"margin-left: 48px;\">\n",
       "        <h3 style=\"margin-bottom: 0px; margin-top: 0px;\">LocalCluster</h3>\n",
       "        <p style=\"color: #9D9D9D; margin-bottom: 0px;\">74565edc</p>\n",
       "        <table style=\"width: 100%; text-align: left;\">\n",
       "            <tr>\n",
       "                <td style=\"text-align: left;\">\n",
       "                    <strong>Dashboard:</strong> <a href=\"http://127.0.0.1:8787/status\" target=\"_blank\">http://127.0.0.1:8787/status</a>\n",
       "                </td>\n",
       "                <td style=\"text-align: left;\">\n",
       "                    <strong>Workers:</strong> 4\n",
       "                </td>\n",
       "            </tr>\n",
       "            <tr>\n",
       "                <td style=\"text-align: left;\">\n",
       "                    <strong>Total threads:</strong> 4\n",
       "                </td>\n",
       "                <td style=\"text-align: left;\">\n",
       "                    <strong>Total memory:</strong> 18.63 GiB\n",
       "                </td>\n",
       "            </tr>\n",
       "            \n",
       "            <tr>\n",
       "    <td style=\"text-align: left;\"><strong>Status:</strong> running</td>\n",
       "    <td style=\"text-align: left;\"><strong>Using processes:</strong> True</td>\n",
       "</tr>\n",
       "\n",
       "            \n",
       "        </table>\n",
       "\n",
       "        <details>\n",
       "            <summary style=\"margin-bottom: 20px;\">\n",
       "                <h3 style=\"display: inline;\">Scheduler Info</h3>\n",
       "            </summary>\n",
       "\n",
       "            <div style=\"\">\n",
       "    <div>\n",
       "        <div style=\"width: 24px; height: 24px; background-color: #FFF7E5; border: 3px solid #FF6132; border-radius: 5px; position: absolute;\"> </div>\n",
       "        <div style=\"margin-left: 48px;\">\n",
       "            <h3 style=\"margin-bottom: 0px;\">Scheduler</h3>\n",
       "            <p style=\"color: #9D9D9D; margin-bottom: 0px;\">Scheduler-2dcac62b-2c58-477d-aebf-9bd54dac7cee</p>\n",
       "            <table style=\"width: 100%; text-align: left;\">\n",
       "                <tr>\n",
       "                    <td style=\"text-align: left;\">\n",
       "                        <strong>Comm:</strong> tcp://127.0.0.1:34784\n",
       "                    </td>\n",
       "                    <td style=\"text-align: left;\">\n",
       "                        <strong>Workers:</strong> 4\n",
       "                    </td>\n",
       "                </tr>\n",
       "                <tr>\n",
       "                    <td style=\"text-align: left;\">\n",
       "                        <strong>Dashboard:</strong> <a href=\"http://127.0.0.1:8787/status\" target=\"_blank\">http://127.0.0.1:8787/status</a>\n",
       "                    </td>\n",
       "                    <td style=\"text-align: left;\">\n",
       "                        <strong>Total threads:</strong> 4\n",
       "                    </td>\n",
       "                </tr>\n",
       "                <tr>\n",
       "                    <td style=\"text-align: left;\">\n",
       "                        <strong>Started:</strong> Just now\n",
       "                    </td>\n",
       "                    <td style=\"text-align: left;\">\n",
       "                        <strong>Total memory:</strong> 18.63 GiB\n",
       "                    </td>\n",
       "                </tr>\n",
       "            </table>\n",
       "        </div>\n",
       "    </div>\n",
       "\n",
       "    <details style=\"margin-left: 48px;\">\n",
       "        <summary style=\"margin-bottom: 20px;\">\n",
       "            <h3 style=\"display: inline;\">Workers</h3>\n",
       "        </summary>\n",
       "\n",
       "        \n",
       "        <div style=\"margin-bottom: 20px;\">\n",
       "            <div style=\"width: 24px; height: 24px; background-color: #DBF5FF; border: 3px solid #4CC9FF; border-radius: 5px; position: absolute;\"> </div>\n",
       "            <div style=\"margin-left: 48px;\">\n",
       "            <details>\n",
       "                <summary>\n",
       "                    <h4 style=\"margin-bottom: 0px; display: inline;\">Worker: 0</h4>\n",
       "                </summary>\n",
       "                <table style=\"width: 100%; text-align: left;\">\n",
       "                    <tr>\n",
       "                        <td style=\"text-align: left;\">\n",
       "                            <strong>Comm: </strong> tcp://127.0.0.1:42307\n",
       "                        </td>\n",
       "                        <td style=\"text-align: left;\">\n",
       "                            <strong>Total threads: </strong> 1\n",
       "                        </td>\n",
       "                    </tr>\n",
       "                    <tr>\n",
       "                        <td style=\"text-align: left;\">\n",
       "                            <strong>Dashboard: </strong> <a href=\"http://127.0.0.1:34258/status\" target=\"_blank\">http://127.0.0.1:34258/status</a>\n",
       "                        </td>\n",
       "                        <td style=\"text-align: left;\">\n",
       "                            <strong>Memory: </strong> 4.66 GiB\n",
       "                        </td>\n",
       "                    </tr>\n",
       "                    <tr>\n",
       "                        <td style=\"text-align: left;\">\n",
       "                            <strong>Nanny: </strong> tcp://127.0.0.1:39889\n",
       "                        </td>\n",
       "                        <td style=\"text-align: left;\"></td>\n",
       "                    </tr>\n",
       "                    <tr>\n",
       "                        <td colspan=\"2\" style=\"text-align: left;\">\n",
       "                            <strong>Local directory: </strong> /tmp/kmalirz/dask-worker-space/worker-dz44hh98\n",
       "                        </td>\n",
       "                    </tr>\n",
       "\n",
       "                    \n",
       "\n",
       "                    \n",
       "\n",
       "                </table>\n",
       "            </details>\n",
       "            </div>\n",
       "        </div>\n",
       "        \n",
       "        <div style=\"margin-bottom: 20px;\">\n",
       "            <div style=\"width: 24px; height: 24px; background-color: #DBF5FF; border: 3px solid #4CC9FF; border-radius: 5px; position: absolute;\"> </div>\n",
       "            <div style=\"margin-left: 48px;\">\n",
       "            <details>\n",
       "                <summary>\n",
       "                    <h4 style=\"margin-bottom: 0px; display: inline;\">Worker: 1</h4>\n",
       "                </summary>\n",
       "                <table style=\"width: 100%; text-align: left;\">\n",
       "                    <tr>\n",
       "                        <td style=\"text-align: left;\">\n",
       "                            <strong>Comm: </strong> tcp://127.0.0.1:34280\n",
       "                        </td>\n",
       "                        <td style=\"text-align: left;\">\n",
       "                            <strong>Total threads: </strong> 1\n",
       "                        </td>\n",
       "                    </tr>\n",
       "                    <tr>\n",
       "                        <td style=\"text-align: left;\">\n",
       "                            <strong>Dashboard: </strong> <a href=\"http://127.0.0.1:40243/status\" target=\"_blank\">http://127.0.0.1:40243/status</a>\n",
       "                        </td>\n",
       "                        <td style=\"text-align: left;\">\n",
       "                            <strong>Memory: </strong> 4.66 GiB\n",
       "                        </td>\n",
       "                    </tr>\n",
       "                    <tr>\n",
       "                        <td style=\"text-align: left;\">\n",
       "                            <strong>Nanny: </strong> tcp://127.0.0.1:36150\n",
       "                        </td>\n",
       "                        <td style=\"text-align: left;\"></td>\n",
       "                    </tr>\n",
       "                    <tr>\n",
       "                        <td colspan=\"2\" style=\"text-align: left;\">\n",
       "                            <strong>Local directory: </strong> /tmp/kmalirz/dask-worker-space/worker-ffzlcef8\n",
       "                        </td>\n",
       "                    </tr>\n",
       "\n",
       "                    \n",
       "\n",
       "                    \n",
       "\n",
       "                </table>\n",
       "            </details>\n",
       "            </div>\n",
       "        </div>\n",
       "        \n",
       "        <div style=\"margin-bottom: 20px;\">\n",
       "            <div style=\"width: 24px; height: 24px; background-color: #DBF5FF; border: 3px solid #4CC9FF; border-radius: 5px; position: absolute;\"> </div>\n",
       "            <div style=\"margin-left: 48px;\">\n",
       "            <details>\n",
       "                <summary>\n",
       "                    <h4 style=\"margin-bottom: 0px; display: inline;\">Worker: 2</h4>\n",
       "                </summary>\n",
       "                <table style=\"width: 100%; text-align: left;\">\n",
       "                    <tr>\n",
       "                        <td style=\"text-align: left;\">\n",
       "                            <strong>Comm: </strong> tcp://127.0.0.1:36670\n",
       "                        </td>\n",
       "                        <td style=\"text-align: left;\">\n",
       "                            <strong>Total threads: </strong> 1\n",
       "                        </td>\n",
       "                    </tr>\n",
       "                    <tr>\n",
       "                        <td style=\"text-align: left;\">\n",
       "                            <strong>Dashboard: </strong> <a href=\"http://127.0.0.1:40642/status\" target=\"_blank\">http://127.0.0.1:40642/status</a>\n",
       "                        </td>\n",
       "                        <td style=\"text-align: left;\">\n",
       "                            <strong>Memory: </strong> 4.66 GiB\n",
       "                        </td>\n",
       "                    </tr>\n",
       "                    <tr>\n",
       "                        <td style=\"text-align: left;\">\n",
       "                            <strong>Nanny: </strong> tcp://127.0.0.1:46752\n",
       "                        </td>\n",
       "                        <td style=\"text-align: left;\"></td>\n",
       "                    </tr>\n",
       "                    <tr>\n",
       "                        <td colspan=\"2\" style=\"text-align: left;\">\n",
       "                            <strong>Local directory: </strong> /tmp/kmalirz/dask-worker-space/worker-qfiswwg6\n",
       "                        </td>\n",
       "                    </tr>\n",
       "\n",
       "                    \n",
       "\n",
       "                    \n",
       "\n",
       "                </table>\n",
       "            </details>\n",
       "            </div>\n",
       "        </div>\n",
       "        \n",
       "        <div style=\"margin-bottom: 20px;\">\n",
       "            <div style=\"width: 24px; height: 24px; background-color: #DBF5FF; border: 3px solid #4CC9FF; border-radius: 5px; position: absolute;\"> </div>\n",
       "            <div style=\"margin-left: 48px;\">\n",
       "            <details>\n",
       "                <summary>\n",
       "                    <h4 style=\"margin-bottom: 0px; display: inline;\">Worker: 3</h4>\n",
       "                </summary>\n",
       "                <table style=\"width: 100%; text-align: left;\">\n",
       "                    <tr>\n",
       "                        <td style=\"text-align: left;\">\n",
       "                            <strong>Comm: </strong> tcp://127.0.0.1:41244\n",
       "                        </td>\n",
       "                        <td style=\"text-align: left;\">\n",
       "                            <strong>Total threads: </strong> 1\n",
       "                        </td>\n",
       "                    </tr>\n",
       "                    <tr>\n",
       "                        <td style=\"text-align: left;\">\n",
       "                            <strong>Dashboard: </strong> <a href=\"http://127.0.0.1:36036/status\" target=\"_blank\">http://127.0.0.1:36036/status</a>\n",
       "                        </td>\n",
       "                        <td style=\"text-align: left;\">\n",
       "                            <strong>Memory: </strong> 4.66 GiB\n",
       "                        </td>\n",
       "                    </tr>\n",
       "                    <tr>\n",
       "                        <td style=\"text-align: left;\">\n",
       "                            <strong>Nanny: </strong> tcp://127.0.0.1:37049\n",
       "                        </td>\n",
       "                        <td style=\"text-align: left;\"></td>\n",
       "                    </tr>\n",
       "                    <tr>\n",
       "                        <td colspan=\"2\" style=\"text-align: left;\">\n",
       "                            <strong>Local directory: </strong> /tmp/kmalirz/dask-worker-space/worker-quhg51jw\n",
       "                        </td>\n",
       "                    </tr>\n",
       "\n",
       "                    \n",
       "\n",
       "                    \n",
       "\n",
       "                </table>\n",
       "            </details>\n",
       "            </div>\n",
       "        </div>\n",
       "        \n",
       "\n",
       "    </details>\n",
       "</div>\n",
       "\n",
       "        </details>\n",
       "    </div>\n",
       "</div>\n",
       "            </details>\n",
       "        \n",
       "\n",
       "    </div>\n",
       "</div>"
      ],
      "text/plain": [
       "<Client: 'tcp://127.0.0.1:34784' processes=4 threads=4, memory=18.63 GiB>"
      ]
     },
     "execution_count": 10,
     "metadata": {},
     "output_type": "execute_result"
    }
   ],
   "source": [
    "client"
   ]
  },
  {
   "cell_type": "code",
   "execution_count": 11,
   "id": "41d2b65d-8d86-495e-bdea-27d25ae505aa",
   "metadata": {},
   "outputs": [
    {
     "data": {
      "text/plain": [
       "'http://127.0.0.1:8787/status'"
      ]
     },
     "execution_count": 11,
     "metadata": {},
     "output_type": "execute_result"
    }
   ],
   "source": [
    "client.dashboard_link"
   ]
  },
  {
   "cell_type": "code",
   "execution_count": 12,
   "id": "5d03daa9-2327-4152-a648-4b2cbc893847",
   "metadata": {},
   "outputs": [],
   "source": [
    "\n",
    "x = histogramming.create_file_list(top_directory = '/eos/atlas/atlascerngroupdisk/perf-jets/JSS/WTopBackgroundSF2019/UFO_test/slimmed_SEP_v2/',file_regex = '(?=^[^.].)(.*gammajet_210921.*|.*15.*)(.*h5$)')"
   ]
  },
  {
   "cell_type": "code",
   "execution_count": 13,
   "id": "b1c33edf-ed7c-4dae-bb58-d321104b9c9f",
   "metadata": {},
   "outputs": [
    {
     "data": {
      "text/plain": [
       "'6G'"
      ]
     },
     "execution_count": 13,
     "metadata": {},
     "output_type": "execute_result"
    }
   ],
   "source": [
    "size(sum([os.path.getsize(y) for y in x[:]]))"
   ]
  },
  {
   "cell_type": "code",
   "execution_count": 14,
   "id": "6e58983a-8c37-46a7-87fa-3a08978c86af",
   "metadata": {},
   "outputs": [],
   "source": [
    "#size(file_size)"
   ]
  },
  {
   "cell_type": "code",
   "execution_count": 15,
   "id": "e3fa7157-f18b-472a-9aa7-485adadaeb93",
   "metadata": {},
   "outputs": [
    {
     "data": {
      "text/plain": [
       "953"
      ]
     },
     "execution_count": 15,
     "metadata": {},
     "output_type": "execute_result"
    }
   ],
   "source": [
    "len(x)"
   ]
  },
  {
   "cell_type": "code",
   "execution_count": 16,
   "id": "9a9b1cbf-5104-4701-8a5d-48279e31b024",
   "metadata": {},
   "outputs": [
    {
     "data": {
      "text/plain": [
       "'/eos/atlas/atlascerngroupdisk/perf-jets/JSS/WTopBackgroundSF2019/UFO_test/slimmed_SEP_v2/user.brle.305435.Sherpa.DAOD_JETM6.e5037_s3126_r10201_p4308.mc16d_gammajet_210921_sys_v2_output_root_0.h5'"
      ]
     },
     "execution_count": 16,
     "metadata": {},
     "output_type": "execute_result"
    }
   ],
   "source": [
    "x[0]"
   ]
  },
  {
   "cell_type": "code",
   "execution_count": 17,
   "id": "3f179e08-f3db-448b-8c42-522e5adc71bf",
   "metadata": {},
   "outputs": [],
   "source": [
    "data = histogramming.load_h5('Skl_Data/test12345.h5')"
   ]
  },
  {
   "cell_type": "code",
   "execution_count": 18,
   "id": "f5348ed9-0816-4086-b101-81554ff896bc",
   "metadata": {},
   "outputs": [],
   "source": [
    "test = data.compute()"
   ]
  },
  {
   "cell_type": "code",
   "execution_count": 19,
   "id": "6b996427-8645-47ea-950e-1aa7eda40529",
   "metadata": {},
   "outputs": [
    {
     "data": {
      "text/html": [
       "<div>\n",
       "<style scoped>\n",
       "    .dataframe tbody tr th:only-of-type {\n",
       "        vertical-align: middle;\n",
       "    }\n",
       "\n",
       "    .dataframe tbody tr th {\n",
       "        vertical-align: top;\n",
       "    }\n",
       "\n",
       "    .dataframe thead th {\n",
       "        text-align: right;\n",
       "    }\n",
       "</style>\n",
       "<table border=\"1\" class=\"dataframe\">\n",
       "  <thead>\n",
       "    <tr style=\"text-align: right;\">\n",
       "      <th></th>\n",
       "      <th></th>\n",
       "      <th></th>\n",
       "      <th></th>\n",
       "      <th>leptons_pt</th>\n",
       "      <th>jets_pt</th>\n",
       "      <th>weight_mc</th>\n",
       "      <th>runNumber</th>\n",
       "      <th>BDT</th>\n",
       "    </tr>\n",
       "    <tr>\n",
       "      <th>event</th>\n",
       "      <th>lep</th>\n",
       "      <th>jet</th>\n",
       "      <th>bdt</th>\n",
       "      <th></th>\n",
       "      <th></th>\n",
       "      <th></th>\n",
       "      <th></th>\n",
       "      <th></th>\n",
       "    </tr>\n",
       "  </thead>\n",
       "  <tbody>\n",
       "    <tr>\n",
       "      <th rowspan=\"10\" valign=\"top\">0</th>\n",
       "      <th rowspan=\"10\" valign=\"top\">0</th>\n",
       "      <th rowspan=\"5\" valign=\"top\">0</th>\n",
       "      <th>0</th>\n",
       "      <td>127083.039062</td>\n",
       "      <td>104784.437500</td>\n",
       "      <td>736.971985</td>\n",
       "      <td>284500</td>\n",
       "      <td>0.344902</td>\n",
       "    </tr>\n",
       "    <tr>\n",
       "      <th>1</th>\n",
       "      <td>127083.039062</td>\n",
       "      <td>104784.437500</td>\n",
       "      <td>736.971985</td>\n",
       "      <td>284500</td>\n",
       "      <td>0.367624</td>\n",
       "    </tr>\n",
       "    <tr>\n",
       "      <th>2</th>\n",
       "      <td>127083.039062</td>\n",
       "      <td>104784.437500</td>\n",
       "      <td>736.971985</td>\n",
       "      <td>284500</td>\n",
       "      <td>0.069904</td>\n",
       "    </tr>\n",
       "    <tr>\n",
       "      <th>3</th>\n",
       "      <td>127083.039062</td>\n",
       "      <td>104784.437500</td>\n",
       "      <td>736.971985</td>\n",
       "      <td>284500</td>\n",
       "      <td>0.010252</td>\n",
       "    </tr>\n",
       "    <tr>\n",
       "      <th>4</th>\n",
       "      <td>127083.039062</td>\n",
       "      <td>104784.437500</td>\n",
       "      <td>736.971985</td>\n",
       "      <td>284500</td>\n",
       "      <td>0.207318</td>\n",
       "    </tr>\n",
       "    <tr>\n",
       "      <th rowspan=\"5\" valign=\"top\">1</th>\n",
       "      <th>0</th>\n",
       "      <td>127083.039062</td>\n",
       "      <td>100864.882812</td>\n",
       "      <td>736.971985</td>\n",
       "      <td>284500</td>\n",
       "      <td>0.344902</td>\n",
       "    </tr>\n",
       "    <tr>\n",
       "      <th>1</th>\n",
       "      <td>127083.039062</td>\n",
       "      <td>100864.882812</td>\n",
       "      <td>736.971985</td>\n",
       "      <td>284500</td>\n",
       "      <td>0.367624</td>\n",
       "    </tr>\n",
       "    <tr>\n",
       "      <th>2</th>\n",
       "      <td>127083.039062</td>\n",
       "      <td>100864.882812</td>\n",
       "      <td>736.971985</td>\n",
       "      <td>284500</td>\n",
       "      <td>0.069904</td>\n",
       "    </tr>\n",
       "    <tr>\n",
       "      <th>3</th>\n",
       "      <td>127083.039062</td>\n",
       "      <td>100864.882812</td>\n",
       "      <td>736.971985</td>\n",
       "      <td>284500</td>\n",
       "      <td>0.010252</td>\n",
       "    </tr>\n",
       "    <tr>\n",
       "      <th>4</th>\n",
       "      <td>127083.039062</td>\n",
       "      <td>100864.882812</td>\n",
       "      <td>736.971985</td>\n",
       "      <td>284500</td>\n",
       "      <td>0.207318</td>\n",
       "    </tr>\n",
       "  </tbody>\n",
       "</table>\n",
       "</div>"
      ],
      "text/plain": [
       "                      leptons_pt        jets_pt   weight_mc  runNumber  \\\n",
       "event lep jet bdt                                                        \n",
       "0     0   0   0    127083.039062  104784.437500  736.971985     284500   \n",
       "              1    127083.039062  104784.437500  736.971985     284500   \n",
       "              2    127083.039062  104784.437500  736.971985     284500   \n",
       "              3    127083.039062  104784.437500  736.971985     284500   \n",
       "              4    127083.039062  104784.437500  736.971985     284500   \n",
       "          1   0    127083.039062  100864.882812  736.971985     284500   \n",
       "              1    127083.039062  100864.882812  736.971985     284500   \n",
       "              2    127083.039062  100864.882812  736.971985     284500   \n",
       "              3    127083.039062  100864.882812  736.971985     284500   \n",
       "              4    127083.039062  100864.882812  736.971985     284500   \n",
       "\n",
       "                        BDT  \n",
       "event lep jet bdt            \n",
       "0     0   0   0    0.344902  \n",
       "              1    0.367624  \n",
       "              2    0.069904  \n",
       "              3    0.010252  \n",
       "              4    0.207318  \n",
       "          1   0    0.344902  \n",
       "              1    0.367624  \n",
       "              2    0.069904  \n",
       "              3    0.010252  \n",
       "              4    0.207318  "
      ]
     },
     "execution_count": 19,
     "metadata": {},
     "output_type": "execute_result"
    }
   ],
   "source": [
    "test.head(10)"
   ]
  },
  {
   "cell_type": "code",
   "execution_count": 20,
   "id": "432198b0-83e9-4c4e-864b-ffabbecf2b2f",
   "metadata": {},
   "outputs": [
    {
     "data": {
      "text/html": [
       "<div>\n",
       "<style scoped>\n",
       "    .dataframe tbody tr th:only-of-type {\n",
       "        vertical-align: middle;\n",
       "    }\n",
       "\n",
       "    .dataframe tbody tr th {\n",
       "        vertical-align: top;\n",
       "    }\n",
       "\n",
       "    .dataframe thead th {\n",
       "        text-align: right;\n",
       "    }\n",
       "</style>\n",
       "<table border=\"1\" class=\"dataframe\">\n",
       "  <thead>\n",
       "    <tr style=\"text-align: right;\">\n",
       "      <th></th>\n",
       "      <th></th>\n",
       "      <th></th>\n",
       "      <th></th>\n",
       "      <th>leptons_pt</th>\n",
       "      <th>jets_pt</th>\n",
       "      <th>weight_mc</th>\n",
       "      <th>runNumber</th>\n",
       "      <th>BDT</th>\n",
       "    </tr>\n",
       "    <tr>\n",
       "      <th>event</th>\n",
       "      <th>lep</th>\n",
       "      <th>jet</th>\n",
       "      <th>bdt</th>\n",
       "      <th></th>\n",
       "      <th></th>\n",
       "      <th></th>\n",
       "      <th></th>\n",
       "      <th></th>\n",
       "    </tr>\n",
       "  </thead>\n",
       "  <tbody>\n",
       "    <tr>\n",
       "      <th rowspan=\"10\" valign=\"top\">0</th>\n",
       "      <th rowspan=\"10\" valign=\"top\">0</th>\n",
       "      <th rowspan=\"5\" valign=\"top\">0</th>\n",
       "      <th>0</th>\n",
       "      <td>127083.039062</td>\n",
       "      <td>104784.437500</td>\n",
       "      <td>736.971985</td>\n",
       "      <td>284500</td>\n",
       "      <td>0.344902</td>\n",
       "    </tr>\n",
       "    <tr>\n",
       "      <th>1</th>\n",
       "      <td>127083.039062</td>\n",
       "      <td>104784.437500</td>\n",
       "      <td>736.971985</td>\n",
       "      <td>284500</td>\n",
       "      <td>0.367624</td>\n",
       "    </tr>\n",
       "    <tr>\n",
       "      <th>2</th>\n",
       "      <td>127083.039062</td>\n",
       "      <td>104784.437500</td>\n",
       "      <td>736.971985</td>\n",
       "      <td>284500</td>\n",
       "      <td>0.069904</td>\n",
       "    </tr>\n",
       "    <tr>\n",
       "      <th>3</th>\n",
       "      <td>127083.039062</td>\n",
       "      <td>104784.437500</td>\n",
       "      <td>736.971985</td>\n",
       "      <td>284500</td>\n",
       "      <td>0.010252</td>\n",
       "    </tr>\n",
       "    <tr>\n",
       "      <th>4</th>\n",
       "      <td>127083.039062</td>\n",
       "      <td>104784.437500</td>\n",
       "      <td>736.971985</td>\n",
       "      <td>284500</td>\n",
       "      <td>0.207318</td>\n",
       "    </tr>\n",
       "    <tr>\n",
       "      <th rowspan=\"5\" valign=\"top\">1</th>\n",
       "      <th>0</th>\n",
       "      <td>127083.039062</td>\n",
       "      <td>100864.882812</td>\n",
       "      <td>736.971985</td>\n",
       "      <td>284500</td>\n",
       "      <td>0.344902</td>\n",
       "    </tr>\n",
       "    <tr>\n",
       "      <th>1</th>\n",
       "      <td>127083.039062</td>\n",
       "      <td>100864.882812</td>\n",
       "      <td>736.971985</td>\n",
       "      <td>284500</td>\n",
       "      <td>0.367624</td>\n",
       "    </tr>\n",
       "    <tr>\n",
       "      <th>2</th>\n",
       "      <td>127083.039062</td>\n",
       "      <td>100864.882812</td>\n",
       "      <td>736.971985</td>\n",
       "      <td>284500</td>\n",
       "      <td>0.069904</td>\n",
       "    </tr>\n",
       "    <tr>\n",
       "      <th>3</th>\n",
       "      <td>127083.039062</td>\n",
       "      <td>100864.882812</td>\n",
       "      <td>736.971985</td>\n",
       "      <td>284500</td>\n",
       "      <td>0.010252</td>\n",
       "    </tr>\n",
       "    <tr>\n",
       "      <th>4</th>\n",
       "      <td>127083.039062</td>\n",
       "      <td>100864.882812</td>\n",
       "      <td>736.971985</td>\n",
       "      <td>284500</td>\n",
       "      <td>0.207318</td>\n",
       "    </tr>\n",
       "  </tbody>\n",
       "</table>\n",
       "</div>"
      ],
      "text/plain": [
       "                      leptons_pt        jets_pt   weight_mc  runNumber  \\\n",
       "event lep jet bdt                                                        \n",
       "0     0   0   0    127083.039062  104784.437500  736.971985     284500   \n",
       "              1    127083.039062  104784.437500  736.971985     284500   \n",
       "              2    127083.039062  104784.437500  736.971985     284500   \n",
       "              3    127083.039062  104784.437500  736.971985     284500   \n",
       "              4    127083.039062  104784.437500  736.971985     284500   \n",
       "          1   0    127083.039062  100864.882812  736.971985     284500   \n",
       "              1    127083.039062  100864.882812  736.971985     284500   \n",
       "              2    127083.039062  100864.882812  736.971985     284500   \n",
       "              3    127083.039062  100864.882812  736.971985     284500   \n",
       "              4    127083.039062  100864.882812  736.971985     284500   \n",
       "\n",
       "                        BDT  \n",
       "event lep jet bdt            \n",
       "0     0   0   0    0.344902  \n",
       "              1    0.367624  \n",
       "              2    0.069904  \n",
       "              3    0.010252  \n",
       "              4    0.207318  \n",
       "          1   0    0.344902  \n",
       "              1    0.367624  \n",
       "              2    0.069904  \n",
       "              3    0.010252  \n",
       "              4    0.207318  "
      ]
     },
     "execution_count": 20,
     "metadata": {},
     "output_type": "execute_result"
    }
   ],
   "source": [
    "table = pa.Table.from_pandas(test)\n",
    "\n",
    "pq.write_table(table, '/tmp/kmalirz/example.parquet')\n",
    "\n",
    "table2 = pq.read_table('/tmp/kmalirz/example.parquet')\n",
    "\n",
    "table2.to_pandas().head(10)"
   ]
  },
  {
   "cell_type": "code",
   "execution_count": 21,
   "id": "6a497e2d-69f1-4702-88c0-b582736b27e6",
   "metadata": {},
   "outputs": [
    {
     "data": {
      "text/plain": [
       "dask.dataframe.core.DataFrame"
      ]
     },
     "execution_count": 21,
     "metadata": {},
     "output_type": "execute_result"
    }
   ],
   "source": [
    "df = dd.read_parquet('/tmp/kmalirz/example.parquet')\n",
    "\n",
    "type(df)"
   ]
  },
  {
   "cell_type": "code",
   "execution_count": 22,
   "id": "a2da478c-6ad4-4dec-bc55-7d343a43124b",
   "metadata": {},
   "outputs": [
    {
     "data": {
      "text/plain": [
       "2"
      ]
     },
     "execution_count": 22,
     "metadata": {},
     "output_type": "execute_result"
    }
   ],
   "source": [
    "df = df.repartition(npartitions=2)\n",
    "\n",
    "df.npartitions"
   ]
  },
  {
   "cell_type": "code",
   "execution_count": 23,
   "id": "dfb54a65-c83e-446b-a78b-a6e81a7851a9",
   "metadata": {},
   "outputs": [
    {
     "data": {
      "text/html": [
       "<div>\n",
       "<style scoped>\n",
       "    .dataframe tbody tr th:only-of-type {\n",
       "        vertical-align: middle;\n",
       "    }\n",
       "\n",
       "    .dataframe tbody tr th {\n",
       "        vertical-align: top;\n",
       "    }\n",
       "\n",
       "    .dataframe thead th {\n",
       "        text-align: right;\n",
       "    }\n",
       "</style>\n",
       "<table border=\"1\" class=\"dataframe\">\n",
       "  <thead>\n",
       "    <tr style=\"text-align: right;\">\n",
       "      <th></th>\n",
       "      <th></th>\n",
       "      <th></th>\n",
       "      <th></th>\n",
       "      <th>leptons_pt</th>\n",
       "      <th>jets_pt</th>\n",
       "      <th>weight_mc</th>\n",
       "      <th>runNumber</th>\n",
       "      <th>BDT</th>\n",
       "    </tr>\n",
       "    <tr>\n",
       "      <th>event</th>\n",
       "      <th>lep</th>\n",
       "      <th>jet</th>\n",
       "      <th>bdt</th>\n",
       "      <th></th>\n",
       "      <th></th>\n",
       "      <th></th>\n",
       "      <th></th>\n",
       "      <th></th>\n",
       "    </tr>\n",
       "  </thead>\n",
       "  <tbody>\n",
       "    <tr>\n",
       "      <th rowspan=\"10\" valign=\"top\">0</th>\n",
       "      <th rowspan=\"10\" valign=\"top\">0</th>\n",
       "      <th rowspan=\"5\" valign=\"top\">0</th>\n",
       "      <th>0</th>\n",
       "      <td>127083.039062</td>\n",
       "      <td>104784.437500</td>\n",
       "      <td>736.971985</td>\n",
       "      <td>284500</td>\n",
       "      <td>0.344902</td>\n",
       "    </tr>\n",
       "    <tr>\n",
       "      <th>1</th>\n",
       "      <td>127083.039062</td>\n",
       "      <td>104784.437500</td>\n",
       "      <td>736.971985</td>\n",
       "      <td>284500</td>\n",
       "      <td>0.367624</td>\n",
       "    </tr>\n",
       "    <tr>\n",
       "      <th>2</th>\n",
       "      <td>127083.039062</td>\n",
       "      <td>104784.437500</td>\n",
       "      <td>736.971985</td>\n",
       "      <td>284500</td>\n",
       "      <td>0.069904</td>\n",
       "    </tr>\n",
       "    <tr>\n",
       "      <th>3</th>\n",
       "      <td>127083.039062</td>\n",
       "      <td>104784.437500</td>\n",
       "      <td>736.971985</td>\n",
       "      <td>284500</td>\n",
       "      <td>0.010252</td>\n",
       "    </tr>\n",
       "    <tr>\n",
       "      <th>4</th>\n",
       "      <td>127083.039062</td>\n",
       "      <td>104784.437500</td>\n",
       "      <td>736.971985</td>\n",
       "      <td>284500</td>\n",
       "      <td>0.207318</td>\n",
       "    </tr>\n",
       "    <tr>\n",
       "      <th rowspan=\"5\" valign=\"top\">1</th>\n",
       "      <th>0</th>\n",
       "      <td>127083.039062</td>\n",
       "      <td>100864.882812</td>\n",
       "      <td>736.971985</td>\n",
       "      <td>284500</td>\n",
       "      <td>0.344902</td>\n",
       "    </tr>\n",
       "    <tr>\n",
       "      <th>1</th>\n",
       "      <td>127083.039062</td>\n",
       "      <td>100864.882812</td>\n",
       "      <td>736.971985</td>\n",
       "      <td>284500</td>\n",
       "      <td>0.367624</td>\n",
       "    </tr>\n",
       "    <tr>\n",
       "      <th>2</th>\n",
       "      <td>127083.039062</td>\n",
       "      <td>100864.882812</td>\n",
       "      <td>736.971985</td>\n",
       "      <td>284500</td>\n",
       "      <td>0.069904</td>\n",
       "    </tr>\n",
       "    <tr>\n",
       "      <th>3</th>\n",
       "      <td>127083.039062</td>\n",
       "      <td>100864.882812</td>\n",
       "      <td>736.971985</td>\n",
       "      <td>284500</td>\n",
       "      <td>0.010252</td>\n",
       "    </tr>\n",
       "    <tr>\n",
       "      <th>4</th>\n",
       "      <td>127083.039062</td>\n",
       "      <td>100864.882812</td>\n",
       "      <td>736.971985</td>\n",
       "      <td>284500</td>\n",
       "      <td>0.207318</td>\n",
       "    </tr>\n",
       "  </tbody>\n",
       "</table>\n",
       "</div>"
      ],
      "text/plain": [
       "                      leptons_pt        jets_pt   weight_mc  runNumber  \\\n",
       "event lep jet bdt                                                        \n",
       "0     0   0   0    127083.039062  104784.437500  736.971985     284500   \n",
       "              1    127083.039062  104784.437500  736.971985     284500   \n",
       "              2    127083.039062  104784.437500  736.971985     284500   \n",
       "              3    127083.039062  104784.437500  736.971985     284500   \n",
       "              4    127083.039062  104784.437500  736.971985     284500   \n",
       "          1   0    127083.039062  100864.882812  736.971985     284500   \n",
       "              1    127083.039062  100864.882812  736.971985     284500   \n",
       "              2    127083.039062  100864.882812  736.971985     284500   \n",
       "              3    127083.039062  100864.882812  736.971985     284500   \n",
       "              4    127083.039062  100864.882812  736.971985     284500   \n",
       "\n",
       "                        BDT  \n",
       "event lep jet bdt            \n",
       "0     0   0   0    0.344902  \n",
       "              1    0.367624  \n",
       "              2    0.069904  \n",
       "              3    0.010252  \n",
       "              4    0.207318  \n",
       "          1   0    0.344902  \n",
       "              1    0.367624  \n",
       "              2    0.069904  \n",
       "              3    0.010252  \n",
       "              4    0.207318  "
      ]
     },
     "execution_count": 23,
     "metadata": {},
     "output_type": "execute_result"
    }
   ],
   "source": [
    "df.partitions[0].compute()"
   ]
  },
  {
   "cell_type": "code",
   "execution_count": 24,
   "id": "ffd567e2-eb0f-4041-971f-d244552994e5",
   "metadata": {},
   "outputs": [
    {
     "data": {
      "text/plain": [
       "{}"
      ]
     },
     "execution_count": 24,
     "metadata": {},
     "output_type": "execute_result"
    }
   ],
   "source": [
    "histogramming.histogram_variables"
   ]
  },
  {
   "cell_type": "code",
   "execution_count": 25,
   "id": "1a61717a-1f8f-494a-9d7a-e006e1d6e4c6",
   "metadata": {},
   "outputs": [],
   "source": [
    "zzzzzz = data.compute()"
   ]
  },
  {
   "cell_type": "code",
   "execution_count": 26,
   "id": "b76bdccd-3147-4d02-8a24-ae041ea01d82",
   "metadata": {},
   "outputs": [
    {
     "data": {
      "text/html": [
       "<div>\n",
       "<style scoped>\n",
       "    .dataframe tbody tr th:only-of-type {\n",
       "        vertical-align: middle;\n",
       "    }\n",
       "\n",
       "    .dataframe tbody tr th {\n",
       "        vertical-align: top;\n",
       "    }\n",
       "\n",
       "    .dataframe thead th {\n",
       "        text-align: right;\n",
       "    }\n",
       "</style>\n",
       "<table border=\"1\" class=\"dataframe\">\n",
       "  <thead>\n",
       "    <tr style=\"text-align: right;\">\n",
       "      <th></th>\n",
       "      <th></th>\n",
       "      <th></th>\n",
       "      <th></th>\n",
       "      <th>leptons_pt</th>\n",
       "      <th>jets_pt</th>\n",
       "      <th>weight_mc</th>\n",
       "      <th>runNumber</th>\n",
       "      <th>BDT</th>\n",
       "    </tr>\n",
       "    <tr>\n",
       "      <th>event</th>\n",
       "      <th>lep</th>\n",
       "      <th>jet</th>\n",
       "      <th>bdt</th>\n",
       "      <th></th>\n",
       "      <th></th>\n",
       "      <th></th>\n",
       "      <th></th>\n",
       "      <th></th>\n",
       "    </tr>\n",
       "  </thead>\n",
       "  <tbody>\n",
       "    <tr>\n",
       "      <th rowspan=\"5\" valign=\"top\">0</th>\n",
       "      <th rowspan=\"5\" valign=\"top\">0</th>\n",
       "      <th rowspan=\"5\" valign=\"top\">0</th>\n",
       "      <th>0</th>\n",
       "      <td>127083.039062</td>\n",
       "      <td>104784.4375</td>\n",
       "      <td>736.971985</td>\n",
       "      <td>284500</td>\n",
       "      <td>0.344902</td>\n",
       "    </tr>\n",
       "    <tr>\n",
       "      <th>1</th>\n",
       "      <td>127083.039062</td>\n",
       "      <td>104784.4375</td>\n",
       "      <td>736.971985</td>\n",
       "      <td>284500</td>\n",
       "      <td>0.367624</td>\n",
       "    </tr>\n",
       "    <tr>\n",
       "      <th>2</th>\n",
       "      <td>127083.039062</td>\n",
       "      <td>104784.4375</td>\n",
       "      <td>736.971985</td>\n",
       "      <td>284500</td>\n",
       "      <td>0.069904</td>\n",
       "    </tr>\n",
       "    <tr>\n",
       "      <th>3</th>\n",
       "      <td>127083.039062</td>\n",
       "      <td>104784.4375</td>\n",
       "      <td>736.971985</td>\n",
       "      <td>284500</td>\n",
       "      <td>0.010252</td>\n",
       "    </tr>\n",
       "    <tr>\n",
       "      <th>4</th>\n",
       "      <td>127083.039062</td>\n",
       "      <td>104784.4375</td>\n",
       "      <td>736.971985</td>\n",
       "      <td>284500</td>\n",
       "      <td>0.207318</td>\n",
       "    </tr>\n",
       "    <tr>\n",
       "      <th>...</th>\n",
       "      <th>...</th>\n",
       "      <th>...</th>\n",
       "      <th>...</th>\n",
       "      <td>...</td>\n",
       "      <td>...</td>\n",
       "      <td>...</td>\n",
       "      <td>...</td>\n",
       "      <td>...</td>\n",
       "    </tr>\n",
       "    <tr>\n",
       "      <th rowspan=\"5\" valign=\"top\">3681</th>\n",
       "      <th rowspan=\"5\" valign=\"top\">0</th>\n",
       "      <th rowspan=\"5\" valign=\"top\">3</th>\n",
       "      <th>0</th>\n",
       "      <td>89429.367188</td>\n",
       "      <td>48895.3125</td>\n",
       "      <td>735.537537</td>\n",
       "      <td>284500</td>\n",
       "      <td>0.151289</td>\n",
       "    </tr>\n",
       "    <tr>\n",
       "      <th>1</th>\n",
       "      <td>89429.367188</td>\n",
       "      <td>48895.3125</td>\n",
       "      <td>735.537537</td>\n",
       "      <td>284500</td>\n",
       "      <td>0.329823</td>\n",
       "    </tr>\n",
       "    <tr>\n",
       "      <th>2</th>\n",
       "      <td>89429.367188</td>\n",
       "      <td>48895.3125</td>\n",
       "      <td>735.537537</td>\n",
       "      <td>284500</td>\n",
       "      <td>0.144091</td>\n",
       "    </tr>\n",
       "    <tr>\n",
       "      <th>3</th>\n",
       "      <td>89429.367188</td>\n",
       "      <td>48895.3125</td>\n",
       "      <td>735.537537</td>\n",
       "      <td>284500</td>\n",
       "      <td>0.116522</td>\n",
       "    </tr>\n",
       "    <tr>\n",
       "      <th>4</th>\n",
       "      <td>89429.367188</td>\n",
       "      <td>48895.3125</td>\n",
       "      <td>735.537537</td>\n",
       "      <td>284500</td>\n",
       "      <td>0.258275</td>\n",
       "    </tr>\n",
       "  </tbody>\n",
       "</table>\n",
       "<p>91250 rows × 5 columns</p>\n",
       "</div>"
      ],
      "text/plain": [
       "                      leptons_pt      jets_pt   weight_mc  runNumber       BDT\n",
       "event lep jet bdt                                                             \n",
       "0     0   0   0    127083.039062  104784.4375  736.971985     284500  0.344902\n",
       "              1    127083.039062  104784.4375  736.971985     284500  0.367624\n",
       "              2    127083.039062  104784.4375  736.971985     284500  0.069904\n",
       "              3    127083.039062  104784.4375  736.971985     284500  0.010252\n",
       "              4    127083.039062  104784.4375  736.971985     284500  0.207318\n",
       "...                          ...          ...         ...        ...       ...\n",
       "3681  0   3   0     89429.367188   48895.3125  735.537537     284500  0.151289\n",
       "              1     89429.367188   48895.3125  735.537537     284500  0.329823\n",
       "              2     89429.367188   48895.3125  735.537537     284500  0.144091\n",
       "              3     89429.367188   48895.3125  735.537537     284500  0.116522\n",
       "              4     89429.367188   48895.3125  735.537537     284500  0.258275\n",
       "\n",
       "[91250 rows x 5 columns]"
      ]
     },
     "execution_count": 26,
     "metadata": {},
     "output_type": "execute_result"
    }
   ],
   "source": [
    "zzzzzz"
   ]
  },
  {
   "cell_type": "code",
   "execution_count": 27,
   "id": "95daa4e8-f7bd-4fd3-9aa0-cc2f16779c62",
   "metadata": {},
   "outputs": [],
   "source": [
    "output = dask.compute(histogramming.fill(data,histo_var_dict))"
   ]
  },
  {
   "cell_type": "code",
   "execution_count": 28,
   "id": "3e7926c2-cd79-4016-88dd-2fc9b98aad6a",
   "metadata": {},
   "outputs": [
    {
     "data": {
      "text/plain": [
       "([],)"
      ]
     },
     "execution_count": 28,
     "metadata": {},
     "output_type": "execute_result"
    }
   ],
   "source": [
    "output"
   ]
  },
  {
   "cell_type": "code",
   "execution_count": 29,
   "id": "7eb77f7d-a3a8-4dc8-a774-28c2d39607fa",
   "metadata": {},
   "outputs": [
    {
     "data": {
      "image/png": "[encoded data removed]",
      "text/plain": [
       "<IPython.core.display.Image object>"
      ]
     },
     "execution_count": 29,
     "metadata": {},
     "output_type": "execute_result"
    }
   ],
   "source": [
    "dask.visualize(histogramming.load_and_fill(file_list = x[:10]))"
   ]
  },
  {
   "cell_type": "code",
   "execution_count": 30,
   "id": "1c4d3eea-d208-407c-9586-bd060da7018b",
   "metadata": {},
   "outputs": [],
   "source": [
    "#%%time\n",
    "#temp = dask.compute(histogramming.load_and_fill(data_column = 'rljet_pt_comb',file_list = x[:200]))"
   ]
  },
  {
   "cell_type": "code",
   "execution_count": 49,
   "id": "34f7609b-8edf-4085-9809-d21fa045af3f",
   "metadata": {},
   "outputs": [
    {
     "name": "stdout",
     "output_type": "stream",
     "text": [
      "done\n",
      "done\n",
      "done\n",
      "done\n",
      "done\n",
      "done\n",
      "done\n",
      "done\n",
      "done\n",
      "done\n",
      "CPU times: user 27.5 s, sys: 2.93 s, total: 30.5 s\n",
      "Wall time: 58.8 s\n"
     ]
    }
   ],
   "source": [
    "%%time\n",
    "xxxxx = histogramming.compute_histograms(chunk_size = 100, histogram_variables = histo_var_dict, file_list = x[:])"
   ]
  },
  {
   "cell_type": "code",
   "execution_count": 32,
   "id": "3fb6ef3a-7a68-48b4-8183-766c3ed7f992",
   "metadata": {},
   "outputs": [
    {
     "data": {
      "text/html": [
       "<html>\n",
       "<div style=\"display:flex; align-items:center;\">\n",
       "<div style=\"width:290px;\">\n",
       "<svg xmlns=\"http://www.w3.org/2000/svg\" viewBox=\"-10 -105 270 120\">\n",
       "<line x1=\"-5\" y1=\"0\" x2=\"255\" y2=\"0\" style=\"fill:none;stroke-width:2;stroke:currentColor\"/>\n",
       "<text text-anchor=\"middle\" x=\"0\" y=\"15\" style=\"fill:currentColor;\">\n",
       "3e+05\n",
       "</text>\n",
       "<text text-anchor=\"middle\" x=\"250\" y=\"15\" style=\"fill:currentColor;\">\n",
       "6e+05\n",
       "</text>\n",
       "<text text-anchor=\"middle\" x=\"125.0\" y=\"15\" style=\"fill:currentColor;\">\n",
       "$p_{T}$[MeV]\n",
       "</text>\n",
       "<polyline points=\"  0,0   0,-100 12.5,-100 12.5,-83.5  25,-83.5  25,-66.6 37.5,-66.6 37.5,-59.9  50,-59.9  50,-49.5 62.5,-49.5 62.5,-43.8  75,-43.8  75,-36.5 87.5,-36.5 87.5,-30.3 100,-30.3 100,-27.7 112.5,-27.7 112.5,-22.6 125,-22.6 125,-21 137.5,-21 137.5,-18.7 150,-18.7 150,-16.7 162.5,-16.7 162.5,-14.2 175,-14.2 175,-12.7 187.5,-12.7 187.5,-10.5 200,-10.5 200,-9.66 212.5,-9.66 212.5,-8.71 225,-8.71 225,-7.89 237.5,-7.89 237.5,-6.67 250,-6.67 250,0\" style=\"fill:none; stroke:currentColor;\"/>\n",
       "</svg>\n",
       "</div>\n",
       "<div style=\"flex=grow:1;\">\n",
       "Regular(20, 300000, 600000, name='x', label='$p_{T}$[MeV]')<br/>\n",
       "<hr style=\"margin-top:.2em; margin-bottom:.2em;\"/>\n",
       "Double() Σ=24438.0 <em>(75154.0 with flow)</em>\n",
       "\n",
       "</div>\n",
       "</div>\n",
       "</html>"
      ],
      "text/plain": [
       "Hist(Regular(20, 300000, 600000, name='x', label='$p_{T}$[MeV]'), storage=Double()) # Sum: 24438.0 (75154.0 with flow)"
      ]
     },
     "execution_count": 32,
     "metadata": {},
     "output_type": "execute_result"
    }
   ],
   "source": [
    "a = histogramming.histograms_computed[1][0]\n",
    "b = histogramming.histograms_computed[0][0]\n",
    "\n",
    "a+b"
   ]
  },
  {
   "cell_type": "code",
   "execution_count": 33,
   "id": "ac81ab3b-7e33-48b8-9587-98cdc279f6ca",
   "metadata": {},
   "outputs": [
    {
     "data": {
      "text/plain": [
       "891"
      ]
     },
     "execution_count": 33,
     "metadata": {},
     "output_type": "execute_result"
    }
   ],
   "source": [
    "len(histogramming.histograms_computed)\n"
   ]
  },
  {
   "cell_type": "code",
   "execution_count": 50,
   "id": "580b6a86-1f6e-44bb-ac71-b1f1a3d75fda",
   "metadata": {},
   "outputs": [],
   "source": [
    "zzz, histograms_named = histogramming.combine_histograms()\n",
    "\n"
   ]
  },
  {
   "cell_type": "code",
   "execution_count": 51,
   "id": "c64b19fe-d1d9-4fbb-a374-1bdf4c460c48",
   "metadata": {},
   "outputs": [
    {
     "data": {
      "text/plain": [
       "{'rljet_pt_comb': Hist(Regular(20, 300000, 600000, name='x', label='$p_{T}$[MeV]'), storage=Double()) # Sum: 7904609.0 (16142323.0 with flow),\n",
       " 'rljet_m_comb[:,0]': Hist(Regular(20, 50000, 500000, name='x', label='m [MeV]'), storage=Double()) # Sum: 16021483.0 (16142323.0 with flow),\n",
       " 'rljet_Angularity': Hist(Regular(20, 0, 0.1, name='x', label='Angularity'), storage=Double()) # Sum: 16142323.0,\n",
       " 'rljet_Aplanarity': Hist(Regular(20, 0, 1, name='x', label='Aplanarity'), storage=Double()) # Sum: 16142321.0 (16142323.0 with flow),\n",
       " 'rljet_C2': Hist(Regular(20, 0, 1, name='x', label='$C_{2}$'), storage=Double()) # Sum: 16142321.0 (16142323.0 with flow),\n",
       " 'rljet_D2': Hist(Regular(20, 0, 6, name='x', label='$D_{2}$'), storage=Double()) # Sum: 16121708.0 (16142323.0 with flow),\n",
       " 'rljet_Dip12': Hist(Regular(20, 0, 2, name='x', label='Dip12'), storage=Double()) # Sum: 16135010.0 (16142323.0 with flow),\n",
       " 'rljet_ECF1': Hist(Regular(20, 0, 1e+07, name='x', label='ECF$_{1}$'), storage=Double()) # Sum: 16142323.0,\n",
       " 'rljet_ECF2': Hist(Regular(20, 0, 1e+12, name='x', label='ECF$_{2}$'), storage=Double()) # Sum: 16131878.0 (16142323.0 with flow),\n",
       " 'rljet_ECF3': Hist(Regular(20, 0, 1e+17, name='x', label='ECF$_{3}$'), storage=Double()) # Sum: 16134835.0 (16142323.0 with flow),\n",
       " 'rljet_FoxWolfram0': Hist(Regular(20, 0, 1, name='x', label='FoxWolfram0'), storage=Double()) # Sum: 16142321.0 (16142323.0 with flow),\n",
       " 'rljet_FoxWolfram2': Hist(Regular(20, 0, 1, name='x', label='FoxWolfram2'), storage=Double()) # Sum: 16115628.0 (16142323.0 with flow),\n",
       " 'rljet_KtDR': Hist(Regular(20, 0, 6, name='x', label='KtDR'), storage=Double()) # Sum: 15952155.0 (16142323.0 with flow),\n",
       " 'rljet_Mu12': Hist(Regular(20, 0, 1, name='x', label='Mu12'), storage=Double()) # Sum: 16142310.0 (16142323.0 with flow),\n",
       " 'rljet_L1': Hist(Regular(20, 0, 1, name='x', label='$L_{1}$'), storage=Double()) # Sum: 16142319.0 (16142323.0 with flow),\n",
       " 'rljet_L2': Hist(Regular(20, 0, 1, name='x', label='$L_{2}$'), storage=Double()) # Sum: 16142319.0 (16142323.0 with flow),\n",
       " 'rljet_L3': Hist(Regular(20, 0, 1, name='x', label='$L_{3}$'), storage=Double()) # Sum: 16142037.0 (16142323.0 with flow),\n",
       " 'rljet_L4': Hist(Regular(20, 0, 5, name='x', label='$L_{4}$'), storage=Double()) # Sum: 16140450.0 (16142323.0 with flow),\n",
       " 'rljet_N2': Hist(Regular(20, 0, 1, name='x', label='$N_{2}$'), storage=Double()) # Sum: 16142321.0 (16142323.0 with flow),\n",
       " 'rljet_PlanarFlow': Hist(Regular(20, 0, 2, name='x', label='PlanarFlow'), storage=Double()) # Sum: 16142298.0 (16142323.0 with flow),\n",
       " 'rljet_Qw': Hist(Regular(20, 0, 1e+06, name='x', label='$Q_{w}$'), storage=Double()) # Sum: 16142323.0,\n",
       " 'rljet_Sphericity': Hist(Regular(20, 0, 1, name='x', label='Sphericity'), storage=Double()) # Sum: 16142321.0 (16142323.0 with flow),\n",
       " 'rljet_Split12': Hist(Regular(20, 0, 1e+06, name='x', label='$sqrt{12}$'), storage=Double()) # Sum: 16141544.0 (16142323.0 with flow),\n",
       " 'rljet_Split23': Hist(Regular(20, 0, 1e+06, name='x', label='$sqrt{23}$'), storage=Double()) # Sum: 16142323.0,\n",
       " 'rljet_Split34': Hist(Regular(20, 0, 1e+06, name='x', label='$sqrt{34}$'), storage=Double()) # Sum: 16142323.0,\n",
       " 'rljet_Tau1_wta': Hist(Regular(20, 0, 1, name='x', label='$\\\\tau_{1}$'), storage=Double()) # Sum: 16142323.0,\n",
       " 'rljet_Tau2_wta': Hist(Regular(20, 0, 1, name='x', label='$\\\\tau_{2}$'), storage=Double()) # Sum: 16142323.0,\n",
       " 'rljet_Tau32_wta': Hist(Regular(20, 0, 1, name='x', label='$\\\\tau_{32}$'), storage=Double()) # Sum: 16142251.0 (16142323.0 with flow),\n",
       " 'rljet_Tau3_wta': Hist(Regular(20, 0, 1, name='x', label='$\\\\tau_{3}$'), storage=Double()) # Sum: 16142323.0,\n",
       " 'rljet_Tau42_wta': Hist(Regular(20, 0, 1, name='x', label='$\\\\tau_{42}$'), storage=Double()) # Sum: 16142251.0 (16142323.0 with flow),\n",
       " 'rljet_Tau4_wta': Hist(Regular(20, 0, 1, name='x', label='$\\\\tau{4}$'), storage=Double()) # Sum: 16142323.0,\n",
       " 'rljet_ThrustMaj': Hist(Regular(20, 0, 1, name='x', label='ThrustMaj'), storage=Double()) # Sum: 16142131.0 (16142323.0 with flow),\n",
       " 'rljet_ThrustMin': Hist(Regular(20, 0, 1, name='x', label='ThrustMin'), storage=Double()) # Sum: 16142131.0 (16142323.0 with flow),\n",
       " 'rljet_ZCut12': Hist(Regular(20, 0, 1, name='x', label='ZCut12'), storage=Double()) # Sum: 16142323.0,\n",
       " 'rljet_n_constituents': Hist(Regular(20, 0, 200, name='x', label='$n_{const.}$'), storage=Double()) # Sum: 16141769.0 (16142323.0 with flow),\n",
       " 'rljet_ungroomed_ntrk500': Hist(Regular(20, 0, 100, name='x', label='$N_{trk,500}$'), storage=Double()) # Sum: 16138093.0 (16142323.0 with flow),\n",
       " 'rljet_L5': Hist(Regular(20, 0, 1, name='x', label='$L_{5}$'), storage=Double()) # Sum: 16106663.0 (16142323.0 with flow),\n",
       " 'rljet_M2': Hist(Regular(20, 0, 1, name='x', label='$M_{2}$'), storage=Double()) # Sum: 16142321.0 (16142323.0 with flow),\n",
       " 'rljet_N3': Hist(Regular(20, 0, 6, name='x', label='$N_{3}$'), storage=Double()) # Sum: 16131007.0 (16142323.0 with flow),\n",
       " 'rljet_C1_Beta0p5': Hist(Regular(20, 0, 1, name='x', label='$C_{1}^{\\x08eta=0.5}'), storage=Double()) # Sum: 16142323.0,\n",
       " 'rljet_C1_Beta1p2': Hist(Regular(20, 0, 1, name='x', label='$C_{1}^{\\x08eta=1.2}'), storage=Double()) # Sum: 16142323.0,\n",
       " 'rljet_C1_Beta1p5': Hist(Regular(20, 0, 1, name='x', label='$C_{1}^{\\x08eta=1.5}'), storage=Double()) # Sum: 16142323.0,\n",
       " 'rljet_C1_Beta1p7': Hist(Regular(20, 0, 1, name='x', label='$C_{1}^{\\x08eta=1.7}'), storage=Double()) # Sum: 16142323.0,\n",
       " 'rljet_C1_Beta2p0': Hist(Regular(20, 0, 1, name='x', label='$C_{1}^{\\x08eta=2.0}'), storage=Double()) # Sum: 16142323.0,\n",
       " 'rljet_C1_Beta2p3': Hist(Regular(20, 0, 1, name='x', label='$C_{1}^{\\x08eta=2.3}'), storage=Double()) # Sum: 16142323.0,\n",
       " 'rljet_C2_Beta0p5': Hist(Regular(20, 0, 1, name='x', label='$C_{2}^{\\x08eta=0.5}'), storage=Double()) # Sum: 16142321.0 (16142323.0 with flow),\n",
       " 'rljet_C2_Beta1p2': Hist(Regular(20, 0, 1, name='x', label='$C_{2}^{\\x08eta=1.2}'), storage=Double()) # Sum: 16142321.0 (16142323.0 with flow),\n",
       " 'rljet_C2_Beta1p5': Hist(Regular(20, 0, 1, name='x', label='$C_{2}^{\\x08eta=1.5}'), storage=Double()) # Sum: 16142321.0 (16142323.0 with flow),\n",
       " 'rljet_C2_Beta1p7': Hist(Regular(20, 0, 1, name='x', label='$C_{2}^{\\x08eta=1.7}'), storage=Double()) # Sum: 16142321.0 (16142323.0 with flow),\n",
       " 'rljet_C2_Beta2p0': Hist(Regular(20, 0, 1, name='x', label='$C_{2}^{\\x08eta=2.0}'), storage=Double()) # Sum: 16142321.0 (16142323.0 with flow),\n",
       " 'rljet_C2_Beta2p3': Hist(Regular(20, 0, 1, name='x', label='$C_{2}^{\\x08eta=2.3}'), storage=Double()) # Sum: 16142321.0 (16142323.0 with flow),\n",
       " 'rljet_C3_Beta0p5': Hist(Regular(20, 0, 1, name='x', label='$C_{3}^{\\x08eta=0.5}'), storage=Double()) # Sum: 16142259.0 (16142323.0 with flow),\n",
       " 'rljet_C3_Beta1p2': Hist(Regular(20, 0, 1, name='x', label='$C_{3}^{\\x08eta=1.2}'), storage=Double()) # Sum: 16142258.0 (16142323.0 with flow),\n",
       " 'rljet_C3_Beta1p5': Hist(Regular(20, 0, 1, name='x', label='$C_{3}^{\\x08eta=1.5}'), storage=Double()) # Sum: 16142258.0 (16142323.0 with flow),\n",
       " 'rljet_C3_Beta1p7': Hist(Regular(20, 0, 1, name='x', label='$C_{3}^{\\x08eta=1.7}'), storage=Double()) # Sum: 16142164.0 (16142323.0 with flow),\n",
       " 'rljet_C3_Beta2p0': Hist(Regular(20, 0, 1, name='x', label='$C_{3}^{\\x08eta=2.0}'), storage=Double()) # Sum: 16138558.0 (16142323.0 with flow),\n",
       " 'rljet_C3_Beta2p3': Hist(Regular(20, 0, 1, name='x', label='$C_{3}^{\\x08eta=2.3}'), storage=Double()) # Sum: 16121520.0 (16142323.0 with flow),\n",
       " 'rljet_D2_Beta0p5': Hist(Regular(20, 0, 4, name='x', label='$D_{2}^{\\x08eta=0.5}'), storage=Double()) # Sum: 16112734.0 (16142323.0 with flow),\n",
       " 'rljet_D2_Beta1p2': Hist(Regular(20, 0, 6, name='x', label='$D_{2}^{\\x08eta=1.2}'), storage=Double()) # Sum: 16099740.0 (16142323.0 with flow),\n",
       " 'rljet_D2_Beta1p5': Hist(Regular(20, 0, 8, name='x', label='$D_{2}^{\\x08eta=1.5}'), storage=Double()) # Sum: 16125106.0 (16142323.0 with flow),\n",
       " 'rljet_D2_Beta1p7': Hist(Regular(20, 0, 10, name='x', label='$D_{2}^{\\x08eta=1.7}'), storage=Double()) # Sum: 16134176.0 (16142323.0 with flow),\n",
       " 'rljet_D2_Beta2p0': Hist(Regular(20, 0, 13, name='x', label='$D_{2}^{\\x08eta=2.0}'), storage=Double()) # Sum: 16137492.0 (16142323.0 with flow),\n",
       " 'rljet_D2_Beta2p3': Hist(Regular(20, 0, 16, name='x', label='$D_{2}^{\\x08eta=2.3}'), storage=Double()) # Sum: 16137998.0 (16142323.0 with flow),\n",
       " 'rljet_ECF2_Beta0p5': Hist(Regular(20, 0, 1e+12, name='x', label='$ECF2_{\\x08eta=0.5}$'), storage=Double()) # Sum: 16112471.0 (16142323.0 with flow),\n",
       " 'rljet_ECF2_Beta1p2': Hist(Regular(20, 0, 1e+12, name='x', label='$ECF2_{\\x08eta=1.2}$'), storage=Double()) # Sum: 16134262.0 (16142323.0 with flow),\n",
       " 'rljet_ECF2_Beta1p5': Hist(Regular(20, 0, 1e+12, name='x', label='$ECF2_{\\x08eta=1.5}$'), storage=Double()) # Sum: 16136327.0 (16142323.0 with flow),\n",
       " 'rljet_ECF2_Beta1p7': Hist(Regular(20, 0, 1e+12, name='x', label='$ECF2_{\\x08eta=1.7}$'), storage=Double()) # Sum: 16137213.0 (16142323.0 with flow),\n",
       " 'rljet_ECF2_Beta2p0': Hist(Regular(20, 0, 1e+12, name='x', label='$ECF2_{\\x08eta=2.0}$'), storage=Double()) # Sum: 16138045.0 (16142323.0 with flow),\n",
       " 'rljet_ECF2_Beta2p3': Hist(Regular(20, 0, 1e+12, name='x', label='$ECF2_{\\x08eta=2.3}$'), storage=Double()) # Sum: 16138574.0 (16142323.0 with flow),\n",
       " 'rljet_ECF3_Beta0p5': Hist(Regular(20, 0, 1e+17, name='x', label='$ECF3_{\\x08eta=0.5}$'), storage=Double()) # Sum: 16105111.0 (16142323.0 with flow),\n",
       " 'rljet_ECF3_Beta1p2': Hist(Regular(20, 0, 1e+17, name='x', label='$ECF3_{\\x08eta=1.2}$'), storage=Double()) # Sum: 16137438.0 (16142323.0 with flow),\n",
       " 'rljet_ECF3_Beta1p5': Hist(Regular(20, 0, 1e+17, name='x', label='$ECF3_{\\x08eta=1.5}$'), storage=Double()) # Sum: 16139330.0 (16142323.0 with flow),\n",
       " 'rljet_ECF3_Beta1p7': Hist(Regular(20, 0, 1e+17, name='x', label='$ECF3_{\\x08eta=1.7}$'), storage=Double()) # Sum: 16140015.0 (16142323.0 with flow),\n",
       " 'rljet_ECF3_Beta2p0': Hist(Regular(20, 0, 1e+17, name='x', label='$ECF3_{\\x08eta=2.0}$'), storage=Double()) # Sum: 16140561.0 (16142323.0 with flow),\n",
       " 'rljet_ECF3_Beta2p3': Hist(Regular(20, 0, 1e+17, name='x', label='$ECF3_{\\x08eta=2.3}$'), storage=Double()) # Sum: 16140850.0 (16142323.0 with flow),\n",
       " 'rljet_Dichroic_D2': Hist(Regular(20, 0, 18, name='x', label='Dichroic_D2'), storage=Double()) # Sum: 16107112.0 (16142323.0 with flow),\n",
       " 'rljet_Dichroic_M2': Hist(Regular(20, 0, 1, name='x', label='Dichroic_M2'), storage=Double()) # Sum: 16142312.0 (16142323.0 with flow),\n",
       " 'rljet_Dichroic_N2': Hist(Regular(20, 0, 1, name='x', label='Dichroic_N2'), storage=Double()) # Sum: 16101933.0 (16142323.0 with flow),\n",
       " 'rljet_Dichroic_Tau21_wta': Hist(Regular(20, 0, 2, name='x', label='Dichroic_Tau21_wta'), storage=Double()) # Sum: 16132720.0 (16142323.0 with flow),\n",
       " 'rljet_Dichroic_Tau32_wta': Hist(Regular(20, 0, 4, name='x', label='Dichroic_Tau32_wta'), storage=Double()) # Sum: 16134305.0 (16142323.0 with flow),\n",
       " 'rljet_Dichroic_Tau42_wta': Hist(Regular(20, 0, 3, name='x', label='Dichroic_Tau42_wta'), storage=Double()) # Sum: 16132457.0 (16142323.0 with flow),\n",
       " 'rljet_ECFG_2_1': Hist(Regular(20, 0, 1, name='x', label='ECFG_2_1'), storage=Double()) # Sum: 16142323.0,\n",
       " 'rljet_ECFG_2_1_2': Hist(Regular(20, 0, 1, name='x', label='ECFG_2_1_2'), storage=Double()) # Sum: 16142323.0,\n",
       " 'rljet_ECFG_3_1': Hist(Regular(20, 0, 1, name='x', label='ECFG_3_1'), storage=Double()) # Sum: 16142323.0,\n",
       " 'rljet_ECFG_3_1_1': Hist(Regular(20, 0, 1, name='x', label='ECFG_3_1_1'), storage=Double()) # Sum: 16142323.0,\n",
       " 'rljet_ECFG_3_2': Hist(Regular(20, 0, 1, name='x', label='ECFG_3_2'), storage=Double()) # Sum: 16142323.0,\n",
       " 'rljet_ECFG_3_2_1': Hist(Regular(20, 0, 1, name='x', label='ECFG_3_2_1'), storage=Double()) # Sum: 16142323.0,\n",
       " 'rljet_ECFG_3_2_2': Hist(Regular(20, 0, 1, name='x', label='ECFG_3_2_2'), storage=Double()) # Sum: 16142323.0,\n",
       " 'rljet_ECFG_3_3_1': Hist(Regular(20, 0, 1, name='x', label='ECFG_3_3_1'), storage=Double()) # Sum: 16142323.0,\n",
       " 'rljet_ECFG_3_3_2': Hist(Regular(20, 0, 1, name='x', label='ECFG_3_3_2'), storage=Double()) # Sum: 16142323.0,\n",
       " 'rljet_ECFG_4_2': Hist(Regular(20, 0, 1, name='x', label='ECFG_4_2'), storage=Double()) # Sum: 16142323.0,\n",
       " 'rljet_ECFG_4_2_2': Hist(Regular(20, 0, 1, name='x', label='ECFG_4_2_2'), storage=Double()) # Sum: 16142323.0,\n",
       " 'rljet_ECFG_4_4_1': Hist(Regular(20, 0, 1, name='x', label='ECFG_4_4_1'), storage=Double()) # Sum: 16142323.0}"
      ]
     },
     "execution_count": 51,
     "metadata": {},
     "output_type": "execute_result"
    }
   ],
   "source": [
    "histograms_named\n"
   ]
  },
  {
   "cell_type": "code",
   "execution_count": 53,
   "id": "10ef6074-d796-462f-9cb8-7904b462fafd",
   "metadata": {},
   "outputs": [
    {
     "data": {
      "text/plain": [
       "93"
      ]
     },
     "execution_count": 53,
     "metadata": {},
     "output_type": "execute_result"
    }
   ],
   "source": [
    "len(histograms_named)"
   ]
  },
  {
   "cell_type": "code",
   "execution_count": 54,
   "id": "13131244-8063-45bc-98dc-a27cdd113e0d",
   "metadata": {},
   "outputs": [
    {
     "data": {
      "text/html": [
       "<html>\n",
       "<div style=\"display:flex; align-items:center;\">\n",
       "<div style=\"width:290px;\">\n",
       "<svg xmlns=\"http://www.w3.org/2000/svg\" viewBox=\"-10 -105 270 120\">\n",
       "<line x1=\"-5\" y1=\"0\" x2=\"255\" y2=\"0\" style=\"fill:none;stroke-width:2;stroke:currentColor\"/>\n",
       "<text text-anchor=\"middle\" x=\"0\" y=\"15\" style=\"fill:currentColor;\">\n",
       "3e+05\n",
       "</text>\n",
       "<text text-anchor=\"middle\" x=\"250\" y=\"15\" style=\"fill:currentColor;\">\n",
       "6e+05\n",
       "</text>\n",
       "<text text-anchor=\"middle\" x=\"125.0\" y=\"15\" style=\"fill:currentColor;\">\n",
       "$p_{T}$[MeV]\n",
       "</text>\n",
       "<polyline points=\"  0,0   0,-51.6 12.5,-51.6 12.5,-46.5  25,-46.5  25,-40.8 37.5,-40.8 37.5,-35.4  50,-35.4  50,-30.8 62.5,-30.8 62.5,-26.7  75,-26.7  75,-23.7 87.5,-23.7 87.5,-21 100,-21 100,-19.1 112.5,-19.1 112.5,-17.8 125,-17.8 125,-100 137.5,-100 137.5,-90.6 150,-90.6 150,-80.6 162.5,-80.6 162.5,-71.9 175,-71.9 175,-64.1 187.5,-64.1 187.5,-57.1 200,-57.1 200,-50.4 212.5,-50.4 212.5,-44.3 225,-44.3 225,-38.9 237.5,-38.9 237.5,-34.1 250,-34.1 250,0\" style=\"fill:none; stroke:currentColor;\"/>\n",
       "</svg>\n",
       "</div>\n",
       "<div style=\"flex=grow:1;\">\n",
       "Regular(20, 300000, 600000, name='x', label='$p_{T}$[MeV]')<br/>\n",
       "<hr style=\"margin-top:.2em; margin-bottom:.2em;\"/>\n",
       "Double() Σ=7904609.0 <em>(16142323.0 with flow)</em>\n",
       "\n",
       "</div>\n",
       "</div>\n",
       "</html>"
      ],
      "text/plain": [
       "Hist(Regular(20, 300000, 600000, name='x', label='$p_{T}$[MeV]'), storage=Double()) # Sum: 7904609.0 (16142323.0 with flow)"
      ]
     },
     "execution_count": 54,
     "metadata": {},
     "output_type": "execute_result"
    }
   ],
   "source": [
    "zzz[0]"
   ]
  },
  {
   "cell_type": "code",
   "execution_count": 38,
   "id": "d756dcc5-5b9c-44f8-b33f-92405dc9ce76",
   "metadata": {},
   "outputs": [
    {
     "name": "stdout",
     "output_type": "stream",
     "text": [
      "name = None\n",
      "label = None\n",
      "_variance_known = False\n",
      "metadata = None\n"
     ]
    }
   ],
   "source": [
    "for attribute, value in zzz[20].__dict__.items():\n",
    "    print(attribute, '=', value)"
   ]
  },
  {
   "cell_type": "code",
   "execution_count": 39,
   "id": "1576854f-ae2d-4540-ba3b-33fdcab06e78",
   "metadata": {},
   "outputs": [
    {
     "data": {
      "text/plain": [
       "891"
      ]
     },
     "execution_count": 39,
     "metadata": {},
     "output_type": "execute_result"
    }
   ],
   "source": [
    "len(xxxxx)"
   ]
  },
  {
   "cell_type": "code",
   "execution_count": 40,
   "id": "c40e01f8-80b3-46df-aa15-f6919375b3d9",
   "metadata": {},
   "outputs": [
    {
     "data": {
      "text/html": [
       "<html>\n",
       "<div style=\"display:flex; align-items:center;\">\n",
       "<div style=\"width:290px;\">\n",
       "<svg xmlns=\"http://www.w3.org/2000/svg\" viewBox=\"-10 -105 270 120\">\n",
       "<line x1=\"-5\" y1=\"0\" x2=\"255\" y2=\"0\" style=\"fill:none;stroke-width:2;stroke:currentColor\"/>\n",
       "<text text-anchor=\"middle\" x=\"0\" y=\"15\" style=\"fill:currentColor;\">\n",
       "3e+05\n",
       "</text>\n",
       "<text text-anchor=\"middle\" x=\"250\" y=\"15\" style=\"fill:currentColor;\">\n",
       "6e+05\n",
       "</text>\n",
       "<text text-anchor=\"middle\" x=\"125.0\" y=\"15\" style=\"fill:currentColor;\">\n",
       "$p_{T}$[MeV]\n",
       "</text>\n",
       "<polyline points=\"  0,0   0,-51.6 12.5,-51.6 12.5,-46.5  25,-46.5  25,-40.8 37.5,-40.8 37.5,-35.4  50,-35.4  50,-30.8 62.5,-30.8 62.5,-26.7  75,-26.7  75,-23.7 87.5,-23.7 87.5,-21 100,-21 100,-19.1 112.5,-19.1 112.5,-17.8 125,-17.8 125,-100 137.5,-100 137.5,-90.6 150,-90.6 150,-80.6 162.5,-80.6 162.5,-71.9 175,-71.9 175,-64.1 187.5,-64.1 187.5,-57.1 200,-57.1 200,-50.4 212.5,-50.4 212.5,-44.3 225,-44.3 225,-38.9 237.5,-38.9 237.5,-34.1 250,-34.1 250,0\" style=\"fill:none; stroke:currentColor;\"/>\n",
       "</svg>\n",
       "</div>\n",
       "<div style=\"flex=grow:1;\">\n",
       "Regular(20, 300000, 600000, name='x', label='$p_{T}$[MeV]')<br/>\n",
       "<hr style=\"margin-top:.2em; margin-bottom:.2em;\"/>\n",
       "Double() Σ=7904609.0 <em>(16142323.0 with flow)</em>\n",
       "\n",
       "</div>\n",
       "</div>\n",
       "</html>"
      ],
      "text/plain": [
       "Hist(Regular(20, 300000, 600000, name='x', label='$p_{T}$[MeV]'), storage=Double()) # Sum: 7904609.0 (16142323.0 with flow)"
      ]
     },
     "execution_count": 40,
     "metadata": {},
     "output_type": "execute_result"
    }
   ],
   "source": [
    "xxxxx[0][0]"
   ]
  },
  {
   "cell_type": "code",
   "execution_count": 41,
   "id": "4d592010-2f38-4c34-89be-2e936fb24cbb",
   "metadata": {},
   "outputs": [
    {
     "data": {
      "text/plain": [
       "93"
      ]
     },
     "execution_count": 41,
     "metadata": {},
     "output_type": "execute_result"
    }
   ],
   "source": [
    "min([len(x) for x in xxxxx])"
   ]
  },
  {
   "cell_type": "code",
   "execution_count": 42,
   "id": "93ee7d90-5763-4aa2-9d03-9d523ba0c310",
   "metadata": {},
   "outputs": [],
   "source": [
    "#dask.visualize(histogramming.load_and_fill(data_column = 'rljet_pt_comb',file_list = x[:4]))"
   ]
  },
  {
   "cell_type": "code",
   "execution_count": 43,
   "id": "b0729c40-31df-47b2-aa6e-cf2340b21e40",
   "metadata": {},
   "outputs": [
    {
     "data": {
      "text/plain": [
       "29.4"
      ]
     },
     "execution_count": 43,
     "metadata": {},
     "output_type": "execute_result"
    }
   ],
   "source": [
    "psutil.virtual_memory().percent"
   ]
  },
  {
   "cell_type": "code",
   "execution_count": 44,
   "id": "8041c2fb-0ca6-469f-914d-d38a1be1bc06",
   "metadata": {},
   "outputs": [
    {
     "name": "stdout",
     "output_type": "stream",
     "text": [
      "CPU times: user 2.56 s, sys: 1.76 s, total: 4.32 s\n",
      "Wall time: 4.87 s\n"
     ]
    }
   ],
   "source": [
    "%%time\n",
    "histogram_list = []\n",
    "i = -1\n",
    "for file in x[:20]:\n",
    "    temp = pd.read_hdf(file)\n",
    "    col_list = list(temp.columns)\n",
    "    histogram_list.append([])\n",
    "    i += 1\n",
    "    for col in col_list:\n",
    "        \n",
    "        if histo_var_dict.get(col) != None:\n",
    "            \n",
    "            ssss = hist.Hist(histo_var_dict[col])\n",
    "            ssss.fill(temp[col])\n",
    "            histogram_list[i].append(ssss)\n",
    "        \n",
    "        "
   ]
  },
  {
   "cell_type": "code",
   "execution_count": 45,
   "id": "95db17cb-88be-446e-a4b4-308e345149b0",
   "metadata": {},
   "outputs": [
    {
     "data": {
      "text/html": [
       "<html>\n",
       "<div style=\"display:flex; align-items:center;\">\n",
       "<div style=\"width:290px;\">\n",
       "<svg xmlns=\"http://www.w3.org/2000/svg\" viewBox=\"-10 -105 270 120\">\n",
       "<line x1=\"-5\" y1=\"0\" x2=\"255\" y2=\"0\" style=\"fill:none;stroke-width:2;stroke:currentColor\"/>\n",
       "<text text-anchor=\"middle\" x=\"0\" y=\"15\" style=\"fill:currentColor;\">\n",
       "0\n",
       "</text>\n",
       "<text text-anchor=\"middle\" x=\"250\" y=\"15\" style=\"fill:currentColor;\">\n",
       "1\n",
       "</text>\n",
       "<text text-anchor=\"middle\" x=\"125.0\" y=\"15\" style=\"fill:currentColor;\">\n",
       "Sphericity\n",
       "</text>\n",
       "<polyline points=\"  0,0   0,-100 12.5,-100 12.5,-88.1  25,-88.1  25,-56.6 37.5,-56.6 37.5,-39.7  50,-39.7  50,-30.6 62.5,-30.6 62.5,-21.8  75,-21.8  75,-17.6 87.5,-17.6 87.5,-14.5 100,-14.5 100,-11.2 112.5,-11.2 112.5,-9.5 125,-9.5 125,-7.05 137.5,-7.05 137.5,-5.94 150,-5.94 150,-4.79 162.5,-4.79 162.5,-2.95 175,-2.95 175,-1.65 187.5,-1.65 187.5,-0.748 200,-0.748 200,-0.214 212.5,-0.214 212.5,-0.0458 225,-0.0458 225,-0 237.5,-0 237.5,-0 250,-0 250,0\" style=\"fill:none; stroke:currentColor;\"/>\n",
       "</svg>\n",
       "</div>\n",
       "<div style=\"flex=grow:1;\">\n",
       "Regular(20, 0, 1, name='x', label='Sphericity')<br/>\n",
       "<hr style=\"margin-top:.2em; margin-bottom:.2em;\"/>\n",
       "Double() Σ=27047.0\n",
       "\n",
       "</div>\n",
       "</div>\n",
       "</html>"
      ],
      "text/plain": [
       "Hist(Regular(20, 0, 1, name='x', label='Sphericity'), storage=Double()) # Sum: 27047.0"
      ]
     },
     "execution_count": 45,
     "metadata": {},
     "output_type": "execute_result"
    }
   ],
   "source": [
    "histogram_list[0][1]"
   ]
  },
  {
   "cell_type": "code",
   "execution_count": 46,
   "id": "93b48dde-e1fb-4c77-88de-b7650687c6da",
   "metadata": {},
   "outputs": [
    {
     "data": {
      "image/png": "[encoded data removed]",
      "text/plain": [
       "<Figure size 432x288 with 1 Axes>"
      ]
     },
     "metadata": {
      "needs_background": "light"
     },
     "output_type": "display_data"
    }
   ],
   "source": [
    "fig, ax = plt.subplots(figsize=(6, 4))\n",
    "\n",
    "plt.title(\"Sphericity Plot\")\n",
    "histogram_list[0][1].plot1d(ax=ax, ls=\"-\", color=\"teal\", lw=2)\n",
    "plt.savefig(\"plot_test.jpeg\")\n",
    "plt.show()"
   ]
  },
  {
   "cell_type": "code",
   "execution_count": 47,
   "id": "da6ef48a-11a3-402f-9b86-25f137fa86bc",
   "metadata": {},
   "outputs": [
    {
     "data": {
      "text/plain": [
       "matplotlib.axes._subplots.AxesSubplot"
      ]
     },
     "execution_count": 47,
     "metadata": {},
     "output_type": "execute_result"
    }
   ],
   "source": [
    "type(ax)"
   ]
  },
  {
   "cell_type": "code",
   "execution_count": null,
   "id": "abd53c76-b4f2-4acd-a3b8-48ea1d4b2735",
   "metadata": {},
   "outputs": [],
   "source": []
  }
 ],
 "metadata": {
  "kernelspec": {
   "display_name": "Python 3 (ipykernel)",
   "language": "python",
   "name": "python3"
  },
  "language_info": {
   "codemirror_mode": {
    "name": "ipython",
    "version": 3
   },
   "file_extension": ".py",
   "mimetype": "text/x-python",
   "name": "python",
   "nbconvert_exporter": "python",
   "pygments_lexer": "ipython3",
   "version": "3.8.11"
  }
 },
 "nbformat": 4,
 "nbformat_minor": 5
}
