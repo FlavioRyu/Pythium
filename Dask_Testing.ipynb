{
 "cells": [
  {
   "cell_type": "code",
   "execution_count": 1,
   "id": "77cb4a3f-dd8b-4fc2-8432-b3413c658366",
   "metadata": {},
   "outputs": [],
   "source": [
    "import os\n",
    "import sys\n",
    "import dask\n",
    "import uproot4\n",
    "import numpy as np\n",
    "import pandas as pd\n",
    "from hist import Hist\n",
    "import hist\n",
    "import uproot4 as uproot\n",
    "from dask.array import histogram as ds_hist\n",
    "import dask.dataframe as dd\n",
    "import timeit\n",
    "from dask.distributed import Client\n",
    "import storage_functions as sf\n",
    "import time\n",
    "import psutil\n",
    "##procedurre to make client dask work\n",
    "# read hdf data convert it to csv and save it, then read csv with dask data frame\n",
    "# or just reset index and then go from there\n",
    "# 2tb of data run 2gb per job each job takes half a day\n",
    "# try load pickle create new files\n",
    "import re\n",
    "import subprocess\n",
    "from pympler import asizeof"
   ]
  },
  {
   "cell_type": "code",
   "execution_count": 2,
   "id": "0f47609e-9c73-43a5-bca5-421322f6e15c",
   "metadata": {},
   "outputs": [],
   "source": [
    "rootdir = \"/Skl_Data/\"\n"
   ]
  },
  {
   "cell_type": "code",
   "execution_count": 3,
   "id": "cabca4a5-7ef8-4135-8452-b4eb1ae22176",
   "metadata": {},
   "outputs": [
    {
     "data": {
      "text/plain": [
       "<generator object walk at 0x7f17e04d3728>"
      ]
     },
     "execution_count": 3,
     "metadata": {},
     "output_type": "execute_result"
    }
   ],
   "source": [
    "os.walk(rootdir)"
   ]
  },
  {
   "cell_type": "code",
   "execution_count": 4,
   "id": "e0096e05-c2aa-4171-9cd6-3fd9c3bca885",
   "metadata": {},
   "outputs": [],
   "source": [
    "full_path = str(subprocess.check_output(['pwd']))\n",
    "path = str(subprocess.check_output(['pwd']))[2:len(full_path)-3]"
   ]
  },
  {
   "cell_type": "code",
   "execution_count": 5,
   "id": "c54c6a74-b21c-4081-b857-2c2be730236e",
   "metadata": {},
   "outputs": [
    {
     "data": {
      "text/plain": [
       "\"b'/afs/cern.ch/user/k/kmalirz/pythium\\\\n'\""
      ]
     },
     "execution_count": 5,
     "metadata": {},
     "output_type": "execute_result"
    }
   ],
   "source": [
    "full_path"
   ]
  },
  {
   "cell_type": "code",
   "execution_count": 6,
   "id": "e7a4cd50-dab6-47f0-ace5-0cecd875c7c6",
   "metadata": {},
   "outputs": [
    {
     "data": {
      "text/plain": [
       "['.ipynb_checkpoints', 'test12345.h5']"
      ]
     },
     "execution_count": 6,
     "metadata": {},
     "output_type": "execute_result"
    }
   ],
   "source": [
    "os.listdir(path+rootdir)"
   ]
  },
  {
   "cell_type": "code",
   "execution_count": 7,
   "id": "8c6fbe62-2909-4824-904a-1716c016c645",
   "metadata": {},
   "outputs": [],
   "source": [
    "regex = re.compile('(?=^[^.].)(.*h5$)|(?=^[^.].)(.*csv$)')\n",
    "directory_check = re.compile('(?=^[^.].)')\n",
    "#print(rootdir)\n",
    "file_names = []\n",
    "for root, dirs, files in os.walk(path+rootdir,topdown = True):\n",
    "    dirs[:] = [d for d in dirs if directory_check.match(d)]\n",
    "    for file in files:\n",
    "        if regex.match(file):\n",
    "            file_names.append(root+file)"
   ]
  },
  {
   "cell_type": "code",
   "execution_count": 8,
   "id": "2b1159d3-b78d-4a85-a103-f6439cd57777",
   "metadata": {},
   "outputs": [
    {
     "data": {
      "text/plain": [
       "['/afs/cern.ch/user/k/kmalirz/pythium/Skl_Data/test12345.h5']"
      ]
     },
     "execution_count": 8,
     "metadata": {},
     "output_type": "execute_result"
    }
   ],
   "source": [
    "file_names"
   ]
  },
  {
   "cell_type": "code",
   "execution_count": 9,
   "id": "f59cb1ae-af78-4746-bde5-ed30f6902860",
   "metadata": {},
   "outputs": [],
   "source": [
    "h_names = []\n",
    "file_names = []\n",
    "temp = pd.read_hdf(\"Skl_Data/test12345.h5\")"
   ]
  },
  {
   "cell_type": "code",
   "execution_count": 10,
   "id": "f28371ae-eb50-4847-8532-5137bcb6d672",
   "metadata": {},
   "outputs": [
    {
     "data": {
      "text/html": [
       "<div>\n",
       "<style scoped>\n",
       "    .dataframe tbody tr th:only-of-type {\n",
       "        vertical-align: middle;\n",
       "    }\n",
       "\n",
       "    .dataframe tbody tr th {\n",
       "        vertical-align: top;\n",
       "    }\n",
       "\n",
       "    .dataframe thead th {\n",
       "        text-align: right;\n",
       "    }\n",
       "</style>\n",
       "<table border=\"1\" class=\"dataframe\">\n",
       "  <thead>\n",
       "    <tr style=\"text-align: right;\">\n",
       "      <th></th>\n",
       "      <th></th>\n",
       "      <th></th>\n",
       "      <th></th>\n",
       "      <th>leptons_pt</th>\n",
       "      <th>jets_pt</th>\n",
       "      <th>weight_mc</th>\n",
       "      <th>runNumber</th>\n",
       "      <th>BDT</th>\n",
       "    </tr>\n",
       "    <tr>\n",
       "      <th>event</th>\n",
       "      <th>lep</th>\n",
       "      <th>jet</th>\n",
       "      <th>bdt</th>\n",
       "      <th></th>\n",
       "      <th></th>\n",
       "      <th></th>\n",
       "      <th></th>\n",
       "      <th></th>\n",
       "    </tr>\n",
       "  </thead>\n",
       "  <tbody>\n",
       "    <tr>\n",
       "      <th rowspan=\"5\" valign=\"top\">0</th>\n",
       "      <th rowspan=\"5\" valign=\"top\">0</th>\n",
       "      <th rowspan=\"5\" valign=\"top\">0</th>\n",
       "      <th>0</th>\n",
       "      <td>127083.039062</td>\n",
       "      <td>104784.4375</td>\n",
       "      <td>736.971985</td>\n",
       "      <td>284500</td>\n",
       "      <td>0.344902</td>\n",
       "    </tr>\n",
       "    <tr>\n",
       "      <th>1</th>\n",
       "      <td>127083.039062</td>\n",
       "      <td>104784.4375</td>\n",
       "      <td>736.971985</td>\n",
       "      <td>284500</td>\n",
       "      <td>0.367624</td>\n",
       "    </tr>\n",
       "    <tr>\n",
       "      <th>2</th>\n",
       "      <td>127083.039062</td>\n",
       "      <td>104784.4375</td>\n",
       "      <td>736.971985</td>\n",
       "      <td>284500</td>\n",
       "      <td>0.069904</td>\n",
       "    </tr>\n",
       "    <tr>\n",
       "      <th>3</th>\n",
       "      <td>127083.039062</td>\n",
       "      <td>104784.4375</td>\n",
       "      <td>736.971985</td>\n",
       "      <td>284500</td>\n",
       "      <td>0.010252</td>\n",
       "    </tr>\n",
       "    <tr>\n",
       "      <th>4</th>\n",
       "      <td>127083.039062</td>\n",
       "      <td>104784.4375</td>\n",
       "      <td>736.971985</td>\n",
       "      <td>284500</td>\n",
       "      <td>0.207318</td>\n",
       "    </tr>\n",
       "    <tr>\n",
       "      <th>...</th>\n",
       "      <th>...</th>\n",
       "      <th>...</th>\n",
       "      <th>...</th>\n",
       "      <td>...</td>\n",
       "      <td>...</td>\n",
       "      <td>...</td>\n",
       "      <td>...</td>\n",
       "      <td>...</td>\n",
       "    </tr>\n",
       "    <tr>\n",
       "      <th rowspan=\"5\" valign=\"top\">3681</th>\n",
       "      <th rowspan=\"5\" valign=\"top\">0</th>\n",
       "      <th rowspan=\"5\" valign=\"top\">3</th>\n",
       "      <th>0</th>\n",
       "      <td>89429.367188</td>\n",
       "      <td>48895.3125</td>\n",
       "      <td>735.537537</td>\n",
       "      <td>284500</td>\n",
       "      <td>0.151289</td>\n",
       "    </tr>\n",
       "    <tr>\n",
       "      <th>1</th>\n",
       "      <td>89429.367188</td>\n",
       "      <td>48895.3125</td>\n",
       "      <td>735.537537</td>\n",
       "      <td>284500</td>\n",
       "      <td>0.329823</td>\n",
       "    </tr>\n",
       "    <tr>\n",
       "      <th>2</th>\n",
       "      <td>89429.367188</td>\n",
       "      <td>48895.3125</td>\n",
       "      <td>735.537537</td>\n",
       "      <td>284500</td>\n",
       "      <td>0.144091</td>\n",
       "    </tr>\n",
       "    <tr>\n",
       "      <th>3</th>\n",
       "      <td>89429.367188</td>\n",
       "      <td>48895.3125</td>\n",
       "      <td>735.537537</td>\n",
       "      <td>284500</td>\n",
       "      <td>0.116522</td>\n",
       "    </tr>\n",
       "    <tr>\n",
       "      <th>4</th>\n",
       "      <td>89429.367188</td>\n",
       "      <td>48895.3125</td>\n",
       "      <td>735.537537</td>\n",
       "      <td>284500</td>\n",
       "      <td>0.258275</td>\n",
       "    </tr>\n",
       "  </tbody>\n",
       "</table>\n",
       "<p>91250 rows × 5 columns</p>\n",
       "</div>"
      ],
      "text/plain": [
       "                      leptons_pt      jets_pt   weight_mc  runNumber       BDT\n",
       "event lep jet bdt                                                             \n",
       "0     0   0   0    127083.039062  104784.4375  736.971985     284500  0.344902\n",
       "              1    127083.039062  104784.4375  736.971985     284500  0.367624\n",
       "              2    127083.039062  104784.4375  736.971985     284500  0.069904\n",
       "              3    127083.039062  104784.4375  736.971985     284500  0.010252\n",
       "              4    127083.039062  104784.4375  736.971985     284500  0.207318\n",
       "...                          ...          ...         ...        ...       ...\n",
       "3681  0   3   0     89429.367188   48895.3125  735.537537     284500  0.151289\n",
       "              1     89429.367188   48895.3125  735.537537     284500  0.329823\n",
       "              2     89429.367188   48895.3125  735.537537     284500  0.144091\n",
       "              3     89429.367188   48895.3125  735.537537     284500  0.116522\n",
       "              4     89429.367188   48895.3125  735.537537     284500  0.258275\n",
       "\n",
       "[91250 rows x 5 columns]"
      ]
     },
     "execution_count": 10,
     "metadata": {},
     "output_type": "execute_result"
    }
   ],
   "source": [
    "temp"
   ]
  },
  {
   "cell_type": "code",
   "execution_count": 11,
   "id": "6cff4f76-a919-41ee-9aef-85df0c34c227",
   "metadata": {},
   "outputs": [
    {
     "name": "stdout",
     "output_type": "stream",
     "text": [
      "CPU times: user 13 µs, sys: 6 µs, total: 19 µs\n",
      "Wall time: 24.6 µs\n"
     ]
    }
   ],
   "source": [
    "%%time\n",
    "x = []\n",
    "for i in range(0,50):\n",
    "    x.append(temp)"
   ]
  },
  {
   "cell_type": "code",
   "execution_count": 12,
   "id": "a8ff5822-bf3f-45f6-a23e-93d044ab572a",
   "metadata": {},
   "outputs": [
    {
     "name": "stdout",
     "output_type": "stream",
     "text": [
      "CPU times: user 407 ms, sys: 499 ms, total: 906 ms\n",
      "Wall time: 894 ms\n"
     ]
    }
   ],
   "source": [
    "%%time\n",
    "temp = pd.concat(x,ignore_index=False,sort = False)"
   ]
  },
  {
   "cell_type": "code",
   "execution_count": 13,
   "id": "46046d86-72f0-4479-8f71-fa5b7e5c22e5",
   "metadata": {},
   "outputs": [
    {
     "name": "stdout",
     "output_type": "stream",
     "text": [
      "CPU times: user 10 µs, sys: 5 µs, total: 15 µs\n",
      "Wall time: 18.1 µs\n"
     ]
    }
   ],
   "source": [
    "%%time\n",
    "for i in range(0,8):\n",
    "    h_names.append(f\"h{i}\")\n",
    "    file_names.append(f\"test{i}.h5\")\n",
    "    #if os.path.isfile(f\"/eos/user/k/kmalirz/test{i}.pkl\"): os.remove(f\"/eos/user/k/kmalirz/test{i}.pkl\")\n",
    "    #if os.path.isfile(f\"/eos/user/k/kmalirz/test{i}.h5\"): os.remove(f\"/eos/user/k/kmalirz/test{i}.h5\")\n",
    "    #temp.to_hdf(f\"/eos/user/k/kmalirz/test{i}.h5\", key='branches')\n",
    "    #temp.to_pickle(f\"/eos/user/k/kmalirz/test{i}.pkl\")"
   ]
  },
  {
   "cell_type": "code",
   "execution_count": 14,
   "id": "591e3859-be71-44c0-897d-09d6e5386186",
   "metadata": {},
   "outputs": [
    {
     "data": {
      "text/plain": [
       "['test0.h5',\n",
       " 'test1.h5',\n",
       " 'test2.h5',\n",
       " 'test3.h5',\n",
       " 'test4.h5',\n",
       " 'test5.h5',\n",
       " 'test6.h5',\n",
       " 'test7.h5']"
      ]
     },
     "execution_count": 14,
     "metadata": {},
     "output_type": "execute_result"
    }
   ],
   "source": [
    "file_names"
   ]
  },
  {
   "cell_type": "code",
   "execution_count": 15,
   "id": "096003f1-2305-4d10-b0b6-576f013f3d0e",
   "metadata": {},
   "outputs": [],
   "source": [
    "histogramming = sf.HistoMaker()"
   ]
  },
  {
   "cell_type": "code",
   "execution_count": 16,
   "id": "735ae53f-c0cc-418e-8a9c-348e56793ff3",
   "metadata": {},
   "outputs": [],
   "source": [
    "client = histogramming.client_start(n_workers = 8,memory_limit='2GB',threads_per_worker=1)"
   ]
  },
  {
   "cell_type": "code",
   "execution_count": 17,
   "id": "385226d7-a6dd-4c58-b2af-aff476d42a24",
   "metadata": {},
   "outputs": [
    {
     "data": {
      "text/html": [
       "<table style=\"border: 2px solid white;\">\n",
       "<tr>\n",
       "<td style=\"vertical-align: top; border: 0px solid white\">\n",
       "<h3 style=\"text-align: left;\">Client</h3>\n",
       "<ul style=\"text-align: left; list-style: none; margin: 0; padding: 0;\">\n",
       "  <li><b>Scheduler: </b>tcp://127.0.0.1:45561</li>\n",
       "  <li><b>Dashboard: </b><a href='http://127.0.0.1:8787/status' target='_blank'>http://127.0.0.1:8787/status</a></li>\n",
       "</ul>\n",
       "</td>\n",
       "<td style=\"vertical-align: top; border: 0px solid white\">\n",
       "<h3 style=\"text-align: left;\">Cluster</h3>\n",
       "<ul style=\"text-align: left; list-style:none; margin: 0; padding: 0;\">\n",
       "  <li><b>Workers: </b>8</li>\n",
       "  <li><b>Cores: </b>8</li>\n",
       "  <li><b>Memory: </b>16.00 GB</li>\n",
       "</ul>\n",
       "</td>\n",
       "</tr>\n",
       "</table>"
      ],
      "text/plain": [
       "<Client: 'tcp://127.0.0.1:45561' processes=8 threads=8, memory=16.00 GB>"
      ]
     },
     "execution_count": 17,
     "metadata": {},
     "output_type": "execute_result"
    }
   ],
   "source": [
    "client"
   ]
  },
  {
   "cell_type": "code",
   "execution_count": 18,
   "id": "3495c5a5-f09f-4fce-a8f7-6911e5360c21",
   "metadata": {},
   "outputs": [
    {
     "data": {
      "text/plain": [
       "{'h0': Hist(Regular(300, 0, 2e+06, name='test', label='test'), storage=Double()),\n",
       " 'h1': Hist(Regular(300, 0, 2e+06, name='test', label='test'), storage=Double()),\n",
       " 'h2': Hist(Regular(300, 0, 2e+06, name='test', label='test'), storage=Double()),\n",
       " 'h3': Hist(Regular(300, 0, 2e+06, name='test', label='test'), storage=Double()),\n",
       " 'h4': Hist(Regular(300, 0, 2e+06, name='test', label='test'), storage=Double()),\n",
       " 'h5': Hist(Regular(300, 0, 2e+06, name='test', label='test'), storage=Double()),\n",
       " 'h6': Hist(Regular(300, 0, 2e+06, name='test', label='test'), storage=Double()),\n",
       " 'h7': Hist(Regular(300, 0, 2e+06, name='test', label='test'), storage=Double())}"
      ]
     },
     "execution_count": 18,
     "metadata": {},
     "output_type": "execute_result"
    }
   ],
   "source": [
    "\n"
   ]
  },
  {
   "cell_type": "code",
   "execution_count": 35,
   "id": "5d03daa9-2327-4152-a648-4b2cbc893847",
   "metadata": {},
   "outputs": [],
   "source": [
    "\n",
    "x = histogramming.create_file_list(top_directory = '/eos/atlas/atlascerngroupdisk/perf-jets/JSS/WTopBackgroundSF2019/UFO_test/slimmed_SEP_v1/')"
   ]
  },
  {
   "cell_type": "code",
   "execution_count": 36,
   "id": "dcf7e254-493b-4b8b-941e-582e471b7b94",
   "metadata": {},
   "outputs": [
    {
     "data": {
      "text/plain": [
       "['/eos/atlas/atlascerngroupdisk/perf-jets/JSS/WTopBackgroundSF2019/UFO_test/slimmed_SEP_v1/user.brle.305435.Sherpa.DAOD_JETM6.e5037_s3126_r10724_p4308.mc16e_gammajet_210921_sys_v2_output_root_0.pkl',\n",
       " '/eos/atlas/atlascerngroupdisk/perf-jets/JSS/WTopBackgroundSF2019/UFO_test/slimmed_SEP_v1/user.brle.305435.Sherpa.DAOD_JETM6.e5037_s3126_r9364_p4308.mc16a_gammajet_210921_sys_v2_output_root_0.pkl',\n",
       " '/eos/atlas/atlascerngroupdisk/perf-jets/JSS/WTopBackgroundSF2019/UFO_test/slimmed_SEP_v1/user.brle.305436.Sherpa.DAOD_JETM6.e5037_s3126_r10724_p4308.mc16e_gammajet_210921_sys_v2_output_root_0.pkl',\n",
       " '/eos/atlas/atlascerngroupdisk/perf-jets/JSS/WTopBackgroundSF2019/UFO_test/slimmed_SEP_v1/user.brle.305436.Sherpa.DAOD_JETM6.e5037_s3126_r9364_p4308.mc16a_gammajet_210921_sys_v2_output_root_0.pkl',\n",
       " '/eos/atlas/atlascerngroupdisk/perf-jets/JSS/WTopBackgroundSF2019/UFO_test/slimmed_SEP_v1/user.brle.305437.Sherpa.DAOD_JETM6.e5037_s3126_r9364_p4308.mc16a_gammajet_210921_sys_v2_output_root_0.pkl',\n",
       " '/eos/atlas/atlascerngroupdisk/perf-jets/JSS/WTopBackgroundSF2019/UFO_test/slimmed_SEP_v1/user.brle.305439.Sherpa.DAOD_JETM6.e5037_s3126_r10201_p4308.mc16d_gammajet_210921_sys_v2_output_root_0.pkl',\n",
       " '/eos/atlas/atlascerngroupdisk/perf-jets/JSS/WTopBackgroundSF2019/UFO_test/slimmed_SEP_v1/user.brle.305439.Sherpa.DAOD_JETM6.e5037_s3126_r10724_p4308.mc16e_gammajet_210921_sys_v2_output_root_0.pkl',\n",
       " '/eos/atlas/atlascerngroupdisk/perf-jets/JSS/WTopBackgroundSF2019/UFO_test/slimmed_SEP_v1/user.brle.305439.Sherpa.DAOD_JETM6.e5037_s3126_r9364_p4308.mc16a_gammajet_210921_sys_v2_output_root_0.pkl',\n",
       " '/eos/atlas/atlascerngroupdisk/perf-jets/JSS/WTopBackgroundSF2019/UFO_test/slimmed_SEP_v1/user.brle.305440.Sherpa.DAOD_JETM6.e5020_s3126_r10201_p4308.mc16d_gammajet_210921_sys_v2_output_root_0.pkl',\n",
       " '/eos/atlas/atlascerngroupdisk/perf-jets/JSS/WTopBackgroundSF2019/UFO_test/slimmed_SEP_v1/user.brle.305440.Sherpa.DAOD_JETM6.e5020_s3126_r10724_p4308.mc16e_gammajet_210921_sys_v2_output_root_0.pkl',\n",
       " '/eos/atlas/atlascerngroupdisk/perf-jets/JSS/WTopBackgroundSF2019/UFO_test/slimmed_SEP_v1/user.brle.305440.Sherpa.DAOD_JETM6.e5020_s3126_r10724_p4308.mc16e_gammajet_210921_sys_v2_output_root_1.pkl',\n",
       " '/eos/atlas/atlascerngroupdisk/perf-jets/JSS/WTopBackgroundSF2019/UFO_test/slimmed_SEP_v1/user.brle.305440.Sherpa.DAOD_JETM6.e5020_s3126_r9364_p4308.mc16a_gammajet_210921_sys_v2_output_root_0.pkl',\n",
       " '/eos/atlas/atlascerngroupdisk/perf-jets/JSS/WTopBackgroundSF2019/UFO_test/slimmed_SEP_v1/user.brle.305440.Sherpa.DAOD_JETM6.e5020_s3126_r9364_p4308.mc16a_gammajet_210921_sys_v2_output_root_1.pkl',\n",
       " '/eos/atlas/atlascerngroupdisk/perf-jets/JSS/WTopBackgroundSF2019/UFO_test/slimmed_SEP_v1/user.brle.305441.Sherpa.DAOD_JETM6.e5020_s3126_r10201_p4308.mc16d_gammajet_210921_sys_v2_output_root_0.pkl',\n",
       " '/eos/atlas/atlascerngroupdisk/perf-jets/JSS/WTopBackgroundSF2019/UFO_test/slimmed_SEP_v1/user.brle.305441.Sherpa.DAOD_JETM6.e5020_s3126_r9364_p4308.mc16a_gammajet_210921_sys_v2_output_root_0.pkl',\n",
       " '/eos/atlas/atlascerngroupdisk/perf-jets/JSS/WTopBackgroundSF2019/UFO_test/slimmed_SEP_v1/user.brle.305442.Sherpa.DAOD_JETM6.e5020_s3126_r10724_p4308.mc16e_gammajet_210921_sys_v2_output_root_0.pkl',\n",
       " '/eos/atlas/atlascerngroupdisk/perf-jets/JSS/WTopBackgroundSF2019/UFO_test/slimmed_SEP_v1/user.brle.305442.Sherpa.DAOD_JETM6.e5020_s3126_r10724_p4308.mc16e_gammajet_210921_sys_v2_output_root_1.pkl',\n",
       " '/eos/atlas/atlascerngroupdisk/perf-jets/JSS/WTopBackgroundSF2019/UFO_test/slimmed_SEP_v1/user.brle.305442.Sherpa.DAOD_JETM6.e5020_s3126_r10724_p4308.mc16e_gammajet_210921_sys_v2_output_root_2.pkl',\n",
       " '/eos/atlas/atlascerngroupdisk/perf-jets/JSS/WTopBackgroundSF2019/UFO_test/slimmed_SEP_v1/user.brle.305442.Sherpa.DAOD_JETM6.e5020_s3126_r10724_p4308.mc16e_gammajet_210921_sys_v2_output_root_3.pkl']"
      ]
     },
     "execution_count": 36,
     "metadata": {},
     "output_type": "execute_result"
    }
   ],
   "source": [
    "x[1:20]"
   ]
  },
  {
   "cell_type": "code",
   "execution_count": 41,
   "id": "afe19ef7-f7f0-4cd6-ac36-b71802aa83a4",
   "metadata": {},
   "outputs": [],
   "source": [
    "h_params = {'bins': 300, 'start' : 0, 'stop': 2*10**6,'name': 'test'}\n",
    "hists = histogramming.create_histograms(drop_existing = True, histogram_names = x[:20], histogram_params = h_params)"
   ]
  },
  {
   "cell_type": "code",
   "execution_count": 44,
   "id": "40fb9238-12e1-4d65-9018-c22fe982bdf1",
   "metadata": {},
   "outputs": [
    {
     "data": {
      "text/plain": [
       "['/eos/atlas/atlascerngroupdisk/perf-jets/JSS/WTopBackgroundSF2019/UFO_test/slimmed_SEP_v1/user.brle.305435.Sherpa.DAOD_JETM6.e5037_s3126_r10201_p4308.mc16d_gammajet_210921_sys_v2_output_root_0.pkl',\n",
       " '/eos/atlas/atlascerngroupdisk/perf-jets/JSS/WTopBackgroundSF2019/UFO_test/slimmed_SEP_v1/user.brle.305435.Sherpa.DAOD_JETM6.e5037_s3126_r10724_p4308.mc16e_gammajet_210921_sys_v2_output_root_0.pkl',\n",
       " '/eos/atlas/atlascerngroupdisk/perf-jets/JSS/WTopBackgroundSF2019/UFO_test/slimmed_SEP_v1/user.brle.305435.Sherpa.DAOD_JETM6.e5037_s3126_r9364_p4308.mc16a_gammajet_210921_sys_v2_output_root_0.pkl',\n",
       " '/eos/atlas/atlascerngroupdisk/perf-jets/JSS/WTopBackgroundSF2019/UFO_test/slimmed_SEP_v1/user.brle.305436.Sherpa.DAOD_JETM6.e5037_s3126_r10724_p4308.mc16e_gammajet_210921_sys_v2_output_root_0.pkl',\n",
       " '/eos/atlas/atlascerngroupdisk/perf-jets/JSS/WTopBackgroundSF2019/UFO_test/slimmed_SEP_v1/user.brle.305436.Sherpa.DAOD_JETM6.e5037_s3126_r9364_p4308.mc16a_gammajet_210921_sys_v2_output_root_0.pkl',\n",
       " '/eos/atlas/atlascerngroupdisk/perf-jets/JSS/WTopBackgroundSF2019/UFO_test/slimmed_SEP_v1/user.brle.305437.Sherpa.DAOD_JETM6.e5037_s3126_r9364_p4308.mc16a_gammajet_210921_sys_v2_output_root_0.pkl',\n",
       " '/eos/atlas/atlascerngroupdisk/perf-jets/JSS/WTopBackgroundSF2019/UFO_test/slimmed_SEP_v1/user.brle.305439.Sherpa.DAOD_JETM6.e5037_s3126_r10201_p4308.mc16d_gammajet_210921_sys_v2_output_root_0.pkl',\n",
       " '/eos/atlas/atlascerngroupdisk/perf-jets/JSS/WTopBackgroundSF2019/UFO_test/slimmed_SEP_v1/user.brle.305439.Sherpa.DAOD_JETM6.e5037_s3126_r10724_p4308.mc16e_gammajet_210921_sys_v2_output_root_0.pkl',\n",
       " '/eos/atlas/atlascerngroupdisk/perf-jets/JSS/WTopBackgroundSF2019/UFO_test/slimmed_SEP_v1/user.brle.305439.Sherpa.DAOD_JETM6.e5037_s3126_r9364_p4308.mc16a_gammajet_210921_sys_v2_output_root_0.pkl',\n",
       " '/eos/atlas/atlascerngroupdisk/perf-jets/JSS/WTopBackgroundSF2019/UFO_test/slimmed_SEP_v1/user.brle.305440.Sherpa.DAOD_JETM6.e5020_s3126_r10201_p4308.mc16d_gammajet_210921_sys_v2_output_root_0.pkl',\n",
       " '/eos/atlas/atlascerngroupdisk/perf-jets/JSS/WTopBackgroundSF2019/UFO_test/slimmed_SEP_v1/user.brle.305440.Sherpa.DAOD_JETM6.e5020_s3126_r10724_p4308.mc16e_gammajet_210921_sys_v2_output_root_0.pkl',\n",
       " '/eos/atlas/atlascerngroupdisk/perf-jets/JSS/WTopBackgroundSF2019/UFO_test/slimmed_SEP_v1/user.brle.305440.Sherpa.DAOD_JETM6.e5020_s3126_r10724_p4308.mc16e_gammajet_210921_sys_v2_output_root_1.pkl',\n",
       " '/eos/atlas/atlascerngroupdisk/perf-jets/JSS/WTopBackgroundSF2019/UFO_test/slimmed_SEP_v1/user.brle.305440.Sherpa.DAOD_JETM6.e5020_s3126_r9364_p4308.mc16a_gammajet_210921_sys_v2_output_root_0.pkl',\n",
       " '/eos/atlas/atlascerngroupdisk/perf-jets/JSS/WTopBackgroundSF2019/UFO_test/slimmed_SEP_v1/user.brle.305440.Sherpa.DAOD_JETM6.e5020_s3126_r9364_p4308.mc16a_gammajet_210921_sys_v2_output_root_1.pkl',\n",
       " '/eos/atlas/atlascerngroupdisk/perf-jets/JSS/WTopBackgroundSF2019/UFO_test/slimmed_SEP_v1/user.brle.305441.Sherpa.DAOD_JETM6.e5020_s3126_r10201_p4308.mc16d_gammajet_210921_sys_v2_output_root_0.pkl',\n",
       " '/eos/atlas/atlascerngroupdisk/perf-jets/JSS/WTopBackgroundSF2019/UFO_test/slimmed_SEP_v1/user.brle.305441.Sherpa.DAOD_JETM6.e5020_s3126_r9364_p4308.mc16a_gammajet_210921_sys_v2_output_root_0.pkl',\n",
       " '/eos/atlas/atlascerngroupdisk/perf-jets/JSS/WTopBackgroundSF2019/UFO_test/slimmed_SEP_v1/user.brle.305442.Sherpa.DAOD_JETM6.e5020_s3126_r10724_p4308.mc16e_gammajet_210921_sys_v2_output_root_0.pkl',\n",
       " '/eos/atlas/atlascerngroupdisk/perf-jets/JSS/WTopBackgroundSF2019/UFO_test/slimmed_SEP_v1/user.brle.305442.Sherpa.DAOD_JETM6.e5020_s3126_r10724_p4308.mc16e_gammajet_210921_sys_v2_output_root_1.pkl',\n",
       " '/eos/atlas/atlascerngroupdisk/perf-jets/JSS/WTopBackgroundSF2019/UFO_test/slimmed_SEP_v1/user.brle.305442.Sherpa.DAOD_JETM6.e5020_s3126_r10724_p4308.mc16e_gammajet_210921_sys_v2_output_root_2.pkl',\n",
       " '/eos/atlas/atlascerngroupdisk/perf-jets/JSS/WTopBackgroundSF2019/UFO_test/slimmed_SEP_v1/user.brle.305442.Sherpa.DAOD_JETM6.e5020_s3126_r10724_p4308.mc16e_gammajet_210921_sys_v2_output_root_3.pkl']"
      ]
     },
     "execution_count": 44,
     "metadata": {},
     "output_type": "execute_result"
    }
   ],
   "source": [
    "list(hists.keys())"
   ]
  },
  {
   "cell_type": "code",
   "execution_count": 45,
   "id": "321281a5-8d7a-4821-a9e0-6f50c39ff523",
   "metadata": {},
   "outputs": [
    {
     "data": {
      "text/html": [
       "<html>\n",
       "<div style=\"display:flex; align-items:center;\">\n",
       "<div style=\"width:290px;\">\n",
       "<svg xmlns=\"http://www.w3.org/2000/svg\" viewBox=\"-10 -105 270 120\">\n",
       "<line x1=\"-5\" y1=\"0\" x2=\"255\" y2=\"0\" style=\"fill:none;stroke-width:2;stroke:currentColor\"/>\n",
       "<text text-anchor=\"middle\" x=\"0\" y=\"15\" style=\"fill:currentColor;\">\n",
       "0\n",
       "</text>\n",
       "<text text-anchor=\"middle\" x=\"250\" y=\"15\" style=\"fill:currentColor;\">\n",
       "2e+06\n",
       "</text>\n",
       "<text text-anchor=\"middle\" x=\"125.0\" y=\"15\" style=\"fill:currentColor;\">\n",
       "test\n",
       "</text>\n",
       "<polyline points=\"  0,0   0,-0 0.833333,-0 0.833333,-0 1.66667,-0 1.66667,-0 2.5,-0 2.5,-0 3.33333,-0 3.33333,-0 4.16667,-0 4.16667,-0   5,-0   5,-0 5.83333,-0 5.83333,-0 6.66667,-0 6.66667,-0 7.5,-0 7.5,-0 8.33333,-0 8.33333,-0 9.16667,-0 9.16667,-0  10,-0  10,-0 10.8333,-0 10.8333,-0 11.6667,-0 11.6667,-0 12.5,-0 12.5,-0 13.3333,-0 13.3333,-0 14.1667,-0 14.1667,-0  15,-0  15,-0 15.8333,-0 15.8333,-0 16.6667,-0 16.6667,-0 17.5,-0 17.5,-0 18.3333,-0 18.3333,-0 19.1667,-0 19.1667,-0  20,-0  20,-0 20.8333,-0 20.8333,-0 21.6667,-0 21.6667,-0 22.5,-0 22.5,-0 23.3333,-0 23.3333,-0 24.1667,-0 24.1667,-0  25,-0  25,-0 25.8333,-0 25.8333,-0 26.6667,-0 26.6667,-0 27.5,-0 27.5,-0 28.3333,-0 28.3333,-0 29.1667,-0 29.1667,-0  30,-0  30,-0 30.8333,-0 30.8333,-0 31.6667,-0 31.6667,-0 32.5,-0 32.5,-0 33.3333,-0 33.3333,-0 34.1667,-0 34.1667,-0  35,-0  35,-0 35.8333,-0 35.8333,-0 36.6667,-0 36.6667,-0 37.5,-0 37.5,-0 38.3333,-0 38.3333,-0 39.1667,-0 39.1667,-0  40,-0  40,-0 40.8333,-0 40.8333,-0 41.6667,-0 41.6667,-0 42.5,-0 42.5,-0 43.3333,-0 43.3333,-0 44.1667,-0 44.1667,-0  45,-0  45,-0 45.8333,-0 45.8333,-0 46.6667,-0 46.6667,-0 47.5,-0 47.5,-0 48.3333,-0 48.3333,-0 49.1667,-0 49.1667,-0  50,-0  50,-0 50.8333,-0 50.8333,-0 51.6667,-0 51.6667,-0 52.5,-0 52.5,-0 53.3333,-0 53.3333,-0 54.1667,-0 54.1667,-0  55,-0  55,-0 55.8333,-0 55.8333,-0 56.6667,-0 56.6667,-0 57.5,-0 57.5,-0 58.3333,-0 58.3333,-0 59.1667,-0 59.1667,-0  60,-0  60,-0 60.8333,-0 60.8333,-0 61.6667,-0 61.6667,-0 62.5,-0 62.5,-0 63.3333,-0 63.3333,-0 64.1667,-0 64.1667,-0  65,-0  65,-0 65.8333,-0 65.8333,-0 66.6667,-0 66.6667,-0 67.5,-0 67.5,-0 68.3333,-0 68.3333,-0 69.1667,-0 69.1667,-0  70,-0  70,-0 70.8333,-0 70.8333,-0 71.6667,-0 71.6667,-0 72.5,-0 72.5,-0 73.3333,-0 73.3333,-0 74.1667,-0 74.1667,-0  75,-0  75,-0 75.8333,-0 75.8333,-0 76.6667,-0 76.6667,-0 77.5,-0 77.5,-0 78.3333,-0 78.3333,-0 79.1667,-0 79.1667,-0  80,-0  80,-0 80.8333,-0 80.8333,-0 81.6667,-0 81.6667,-0 82.5,-0 82.5,-0 83.3333,-0 83.3333,-0 84.1667,-0 84.1667,-0  85,-0  85,-0 85.8333,-0 85.8333,-0 86.6667,-0 86.6667,-0 87.5,-0 87.5,-0 88.3333,-0 88.3333,-0 89.1667,-0 89.1667,-0  90,-0  90,-0 90.8333,-0 90.8333,-0 91.6667,-0 91.6667,-0 92.5,-0 92.5,-0 93.3333,-0 93.3333,-0 94.1667,-0 94.1667,-0  95,-0  95,-0 95.8333,-0 95.8333,-0 96.6667,-0 96.6667,-0 97.5,-0 97.5,-0 98.3333,-0 98.3333,-0 99.1667,-0 99.1667,-0 100,-0 100,-0 100.833,-0 100.833,-0 101.667,-0 101.667,-0 102.5,-0 102.5,-0 103.333,-0 103.333,-0 104.167,-0 104.167,-0 105,-0 105,-0 105.833,-0 105.833,-0 106.667,-0 106.667,-0 107.5,-0 107.5,-0 108.333,-0 108.333,-0 109.167,-0 109.167,-0 110,-0 110,-0 110.833,-0 110.833,-0 111.667,-0 111.667,-0 112.5,-0 112.5,-0 113.333,-0 113.333,-0 114.167,-0 114.167,-0 115,-0 115,-0 115.833,-0 115.833,-0 116.667,-0 116.667,-0 117.5,-0 117.5,-0 118.333,-0 118.333,-0 119.167,-0 119.167,-0 120,-0 120,-0 120.833,-0 120.833,-0 121.667,-0 121.667,-0 122.5,-0 122.5,-0 123.333,-0 123.333,-0 124.167,-0 124.167,-0 125,-0 125,-0 125.833,-0 125.833,-0 126.667,-0 126.667,-0 127.5,-0 127.5,-0 128.333,-0 128.333,-0 129.167,-0 129.167,-0 130,-0 130,-0 130.833,-0 130.833,-0 131.667,-0 131.667,-0 132.5,-0 132.5,-0 133.333,-0 133.333,-0 134.167,-0 134.167,-0 135,-0 135,-0 135.833,-0 135.833,-0 136.667,-0 136.667,-0 137.5,-0 137.5,-0 138.333,-0 138.333,-0 139.167,-0 139.167,-0 140,-0 140,-0 140.833,-0 140.833,-0 141.667,-0 141.667,-0 142.5,-0 142.5,-0 143.333,-0 143.333,-0 144.167,-0 144.167,-0 145,-0 145,-0 145.833,-0 145.833,-0 146.667,-0 146.667,-0 147.5,-0 147.5,-0 148.333,-0 148.333,-0 149.167,-0 149.167,-0 150,-0 150,-0 150.833,-0 150.833,-0 151.667,-0 151.667,-0 152.5,-0 152.5,-0 153.333,-0 153.333,-0 154.167,-0 154.167,-0 155,-0 155,-0 155.833,-0 155.833,-0 156.667,-0 156.667,-0 157.5,-0 157.5,-0 158.333,-0 158.333,-0 159.167,-0 159.167,-0 160,-0 160,-0 160.833,-0 160.833,-0 161.667,-0 161.667,-0 162.5,-0 162.5,-0 163.333,-0 163.333,-0 164.167,-0 164.167,-0 165,-0 165,-0 165.833,-0 165.833,-0 166.667,-0 166.667,-0 167.5,-0 167.5,-0 168.333,-0 168.333,-0 169.167,-0 169.167,-0 170,-0 170,-0 170.833,-0 170.833,-0 171.667,-0 171.667,-0 172.5,-0 172.5,-0 173.333,-0 173.333,-0 174.167,-0 174.167,-0 175,-0 175,-0 175.833,-0 175.833,-0 176.667,-0 176.667,-0 177.5,-0 177.5,-0 178.333,-0 178.333,-0 179.167,-0 179.167,-0 180,-0 180,-0 180.833,-0 180.833,-0 181.667,-0 181.667,-0 182.5,-0 182.5,-0 183.333,-0 183.333,-0 184.167,-0 184.167,-0 185,-0 185,-0 185.833,-0 185.833,-0 186.667,-0 186.667,-0 187.5,-0 187.5,-0 188.333,-0 188.333,-0 189.167,-0 189.167,-0 190,-0 190,-0 190.833,-0 190.833,-0 191.667,-0 191.667,-0 192.5,-0 192.5,-0 193.333,-0 193.333,-0 194.167,-0 194.167,-0 195,-0 195,-0 195.833,-0 195.833,-0 196.667,-0 196.667,-0 197.5,-0 197.5,-0 198.333,-0 198.333,-0 199.167,-0 199.167,-0 200,-0 200,-0 200.833,-0 200.833,-0 201.667,-0 201.667,-0 202.5,-0 202.5,-0 203.333,-0 203.333,-0 204.167,-0 204.167,-0 205,-0 205,-0 205.833,-0 205.833,-0 206.667,-0 206.667,-0 207.5,-0 207.5,-0 208.333,-0 208.333,-0 209.167,-0 209.167,-0 210,-0 210,-0 210.833,-0 210.833,-0 211.667,-0 211.667,-0 212.5,-0 212.5,-0 213.333,-0 213.333,-0 214.167,-0 214.167,-0 215,-0 215,-0 215.833,-0 215.833,-0 216.667,-0 216.667,-0 217.5,-0 217.5,-0 218.333,-0 218.333,-0 219.167,-0 219.167,-0 220,-0 220,-0 220.833,-0 220.833,-0 221.667,-0 221.667,-0 222.5,-0 222.5,-0 223.333,-0 223.333,-0 224.167,-0 224.167,-0 225,-0 225,-0 225.833,-0 225.833,-0 226.667,-0 226.667,-0 227.5,-0 227.5,-0 228.333,-0 228.333,-0 229.167,-0 229.167,-0 230,-0 230,-0 230.833,-0 230.833,-0 231.667,-0 231.667,-0 232.5,-0 232.5,-0 233.333,-0 233.333,-0 234.167,-0 234.167,-0 235,-0 235,-0 235.833,-0 235.833,-0 236.667,-0 236.667,-0 237.5,-0 237.5,-0 238.333,-0 238.333,-0 239.167,-0 239.167,-0 240,-0 240,-0 240.833,-0 240.833,-0 241.667,-0 241.667,-0 242.5,-0 242.5,-0 243.333,-0 243.333,-0 244.167,-0 244.167,-0 245,-0 245,-0 245.833,-0 245.833,-0 246.667,-0 246.667,-0 247.5,-0 247.5,-0 248.333,-0 248.333,-0 249.167,-0 249.167,-0 250,-0 250,0\" style=\"fill:none; stroke:currentColor;\"/>\n",
       "</svg>\n",
       "</div>\n",
       "<div style=\"flex=grow:1;\">\n",
       "Regular(300, 0, 2e+06, name='test', label='test')<br/>\n",
       "<hr style=\"margin-top:.2em; margin-bottom:.2em;\"/>\n",
       "Double() Σ=0.0\n",
       "\n",
       "</div>\n",
       "</div>\n",
       "</html>"
      ],
      "text/plain": [
       "Hist(Regular(300, 0, 2e+06, name='test', label='test'), storage=Double())"
      ]
     },
     "execution_count": 45,
     "metadata": {},
     "output_type": "execute_result"
    }
   ],
   "source": [
    "hists['/eos/atlas/atlascerngroupdisk/perf-jets/JSS/WTopBackgroundSF2019/UFO_test/slimmed_SEP_v1/user.brle.305442.Sherpa.DAOD_JETM6.e5020_s3126_r10724_p4308.mc16e_gammajet_210921_sys_v2_output_root_3.pkl']"
   ]
  },
  {
   "cell_type": "code",
   "execution_count": 20,
   "id": "0e35465e-c17f-4afd-bb74-6d15ae4c9971",
   "metadata": {},
   "outputs": [],
   "source": [
    "time.sleep(2)"
   ]
  },
  {
   "cell_type": "code",
   "execution_count": 21,
   "id": "cd3fa65b-4c4c-42ee-8543-9565326d9bbe",
   "metadata": {},
   "outputs": [
    {
     "data": {
      "text/plain": [
       "'/afs/cern.ch/user/k/kmalirz/pythium'"
      ]
     },
     "execution_count": 21,
     "metadata": {},
     "output_type": "execute_result"
    }
   ],
   "source": [
    "os.getcwd()"
   ]
  },
  {
   "cell_type": "code",
   "execution_count": 39,
   "id": "b892fbce-b038-414f-b7e9-71bc7ec0fee7",
   "metadata": {},
   "outputs": [
    {
     "data": {
      "text/plain": [
       "2890"
      ]
     },
     "execution_count": 39,
     "metadata": {},
     "output_type": "execute_result"
    }
   ],
   "source": [
    "len(x)"
   ]
  },
  {
   "cell_type": "code",
   "execution_count": 40,
   "id": "9a1e3e5a-94b9-4062-801a-8a6985b159e7",
   "metadata": {},
   "outputs": [
    {
     "data": {
      "text/plain": [
       "'/eos/atlas/atlascerngroupdisk/perf-jets/JSS/WTopBackgroundSF2019/UFO_test/slimmed_SEP_v1/user.brle.364678.Sherpa.DAOD_JETM6.e6929_s3126_r10201_p4308.mc16d_dijet_210908_sys_v1_output_root_1.pkl'"
      ]
     },
     "execution_count": 40,
     "metadata": {},
     "output_type": "execute_result"
    }
   ],
   "source": [
    "x[100]"
   ]
  },
  {
   "cell_type": "code",
   "execution_count": 24,
   "id": "11209538-7caf-4fd8-8d02-ec4c52f189e3",
   "metadata": {},
   "outputs": [],
   "source": [
    "temp = pd.read_pickle(x[2000])"
   ]
  },
  {
   "cell_type": "code",
   "execution_count": 25,
   "id": "75741c45-ff31-4c48-b9cd-07be88b87193",
   "metadata": {},
   "outputs": [
    {
     "data": {
      "text/html": [
       "<div>\n",
       "<style scoped>\n",
       "    .dataframe tbody tr th:only-of-type {\n",
       "        vertical-align: middle;\n",
       "    }\n",
       "\n",
       "    .dataframe tbody tr th {\n",
       "        vertical-align: top;\n",
       "    }\n",
       "\n",
       "    .dataframe thead th {\n",
       "        text-align: right;\n",
       "    }\n",
       "</style>\n",
       "<table border=\"1\" class=\"dataframe\">\n",
       "  <thead>\n",
       "    <tr style=\"text-align: right;\">\n",
       "      <th></th>\n",
       "      <th></th>\n",
       "      <th>rljet_L4</th>\n",
       "      <th>rljet_L5</th>\n",
       "      <th>rljet_L2</th>\n",
       "      <th>rljet_topTag_DNN20_TausRatio_inclusive_score</th>\n",
       "      <th>rljet_topTag_DNN20_TausRatio_qqb_score</th>\n",
       "      <th>rljet_pt_comb</th>\n",
       "      <th>rljet_M2</th>\n",
       "      <th>rljet_L3</th>\n",
       "      <th>rljet_L1</th>\n",
       "      <th>rljet_topTag_DNN20_qqb_score</th>\n",
       "      <th>rljet_topTag_DNN19_qqb_score</th>\n",
       "      <th>rljet_topTag_DNN19_inclusive_score</th>\n",
       "      <th>rljet_D2</th>\n",
       "      <th>rljet_N3</th>\n",
       "      <th>rljet_N2</th>\n",
       "      <th>rljet_topTag_DNN20_inclusive_score</th>\n",
       "      <th>rljet_ungroomed_ntrk500</th>\n",
       "      <th>rljet_m_comb[:,0]</th>\n",
       "    </tr>\n",
       "    <tr>\n",
       "      <th>entry</th>\n",
       "      <th>subentry</th>\n",
       "      <th></th>\n",
       "      <th></th>\n",
       "      <th></th>\n",
       "      <th></th>\n",
       "      <th></th>\n",
       "      <th></th>\n",
       "      <th></th>\n",
       "      <th></th>\n",
       "      <th></th>\n",
       "      <th></th>\n",
       "      <th></th>\n",
       "      <th></th>\n",
       "      <th></th>\n",
       "      <th></th>\n",
       "      <th></th>\n",
       "      <th></th>\n",
       "      <th></th>\n",
       "      <th></th>\n",
       "    </tr>\n",
       "  </thead>\n",
       "  <tbody>\n",
       "    <tr>\n",
       "      <th>0</th>\n",
       "      <th>0</th>\n",
       "      <td>1.478220</td>\n",
       "      <td>0.173853</td>\n",
       "      <td>0.142326</td>\n",
       "      <td>0.233609</td>\n",
       "      <td>0.028133</td>\n",
       "      <td>234297.921875</td>\n",
       "      <td>0.058569</td>\n",
       "      <td>0.049985</td>\n",
       "      <td>0.052006</td>\n",
       "      <td>0.008996</td>\n",
       "      <td>0.144268</td>\n",
       "      <td>0.305211</td>\n",
       "      <td>1.608747</td>\n",
       "      <td>2.194288</td>\n",
       "      <td>0.261934</td>\n",
       "      <td>0.318813</td>\n",
       "      <td>25</td>\n",
       "      <td>77868.570312</td>\n",
       "    </tr>\n",
       "    <tr>\n",
       "      <th>1</th>\n",
       "      <th>0</th>\n",
       "      <td>1.159872</td>\n",
       "      <td>0.182679</td>\n",
       "      <td>0.198222</td>\n",
       "      <td>0.065824</td>\n",
       "      <td>0.028205</td>\n",
       "      <td>533714.125000</td>\n",
       "      <td>0.098365</td>\n",
       "      <td>0.097097</td>\n",
       "      <td>0.096210</td>\n",
       "      <td>0.039847</td>\n",
       "      <td>0.186804</td>\n",
       "      <td>0.116970</td>\n",
       "      <td>1.039699</td>\n",
       "      <td>1.467166</td>\n",
       "      <td>0.290440</td>\n",
       "      <td>0.073059</td>\n",
       "      <td>53</td>\n",
       "      <td>256805.593750</td>\n",
       "    </tr>\n",
       "    <tr>\n",
       "      <th>2</th>\n",
       "      <th>0</th>\n",
       "      <td>1.424379</td>\n",
       "      <td>0.212927</td>\n",
       "      <td>0.246536</td>\n",
       "      <td>0.084335</td>\n",
       "      <td>0.009025</td>\n",
       "      <td>234563.500000</td>\n",
       "      <td>0.091785</td>\n",
       "      <td>0.067575</td>\n",
       "      <td>0.079675</td>\n",
       "      <td>0.009816</td>\n",
       "      <td>0.098301</td>\n",
       "      <td>0.111656</td>\n",
       "      <td>2.505868</td>\n",
       "      <td>1.881467</td>\n",
       "      <td>0.373857</td>\n",
       "      <td>0.062968</td>\n",
       "      <td>19</td>\n",
       "      <td>77142.257812</td>\n",
       "    </tr>\n",
       "    <tr>\n",
       "      <th>3</th>\n",
       "      <th>0</th>\n",
       "      <td>1.553125</td>\n",
       "      <td>0.290454</td>\n",
       "      <td>0.179543</td>\n",
       "      <td>0.515852</td>\n",
       "      <td>0.180849</td>\n",
       "      <td>237934.281250</td>\n",
       "      <td>0.078671</td>\n",
       "      <td>0.072736</td>\n",
       "      <td>0.074003</td>\n",
       "      <td>0.074075</td>\n",
       "      <td>0.298814</td>\n",
       "      <td>0.515191</td>\n",
       "      <td>1.265350</td>\n",
       "      <td>1.748846</td>\n",
       "      <td>0.272025</td>\n",
       "      <td>0.525609</td>\n",
       "      <td>19</td>\n",
       "      <td>97159.187500</td>\n",
       "    </tr>\n",
       "    <tr>\n",
       "      <th>4</th>\n",
       "      <th>0</th>\n",
       "      <td>1.127484</td>\n",
       "      <td>0.339977</td>\n",
       "      <td>0.298020</td>\n",
       "      <td>0.384343</td>\n",
       "      <td>0.175337</td>\n",
       "      <td>257513.250000</td>\n",
       "      <td>0.152028</td>\n",
       "      <td>0.136176</td>\n",
       "      <td>0.135310</td>\n",
       "      <td>0.660136</td>\n",
       "      <td>0.783664</td>\n",
       "      <td>0.736589</td>\n",
       "      <td>1.391467</td>\n",
       "      <td>1.362434</td>\n",
       "      <td>0.377992</td>\n",
       "      <td>0.562129</td>\n",
       "      <td>40</td>\n",
       "      <td>169429.921875</td>\n",
       "    </tr>\n",
       "    <tr>\n",
       "      <th>...</th>\n",
       "      <th>...</th>\n",
       "      <td>...</td>\n",
       "      <td>...</td>\n",
       "      <td>...</td>\n",
       "      <td>...</td>\n",
       "      <td>...</td>\n",
       "      <td>...</td>\n",
       "      <td>...</td>\n",
       "      <td>...</td>\n",
       "      <td>...</td>\n",
       "      <td>...</td>\n",
       "      <td>...</td>\n",
       "      <td>...</td>\n",
       "      <td>...</td>\n",
       "      <td>...</td>\n",
       "      <td>...</td>\n",
       "      <td>...</td>\n",
       "      <td>...</td>\n",
       "      <td>...</td>\n",
       "    </tr>\n",
       "    <tr>\n",
       "      <th>5554</th>\n",
       "      <th>0</th>\n",
       "      <td>1.242116</td>\n",
       "      <td>0.224202</td>\n",
       "      <td>0.217022</td>\n",
       "      <td>0.134496</td>\n",
       "      <td>0.031480</td>\n",
       "      <td>272262.781250</td>\n",
       "      <td>0.098071</td>\n",
       "      <td>0.081542</td>\n",
       "      <td>0.085398</td>\n",
       "      <td>0.033329</td>\n",
       "      <td>0.242306</td>\n",
       "      <td>0.195403</td>\n",
       "      <td>1.739679</td>\n",
       "      <td>1.758764</td>\n",
       "      <td>0.342052</td>\n",
       "      <td>0.169166</td>\n",
       "      <td>22</td>\n",
       "      <td>113011.375000</td>\n",
       "    </tr>\n",
       "    <tr>\n",
       "      <th>5555</th>\n",
       "      <th>0</th>\n",
       "      <td>1.908339</td>\n",
       "      <td>0.368705</td>\n",
       "      <td>0.236607</td>\n",
       "      <td>0.146140</td>\n",
       "      <td>0.021759</td>\n",
       "      <td>210497.765625</td>\n",
       "      <td>0.071563</td>\n",
       "      <td>0.049858</td>\n",
       "      <td>0.069407</td>\n",
       "      <td>0.052708</td>\n",
       "      <td>0.084438</td>\n",
       "      <td>0.040196</td>\n",
       "      <td>2.957101</td>\n",
       "      <td>2.540267</td>\n",
       "      <td>0.373789</td>\n",
       "      <td>0.456937</td>\n",
       "      <td>22</td>\n",
       "      <td>68926.210938</td>\n",
       "    </tr>\n",
       "    <tr>\n",
       "      <th>5556</th>\n",
       "      <th>0</th>\n",
       "      <td>1.231826</td>\n",
       "      <td>0.254990</td>\n",
       "      <td>0.271303</td>\n",
       "      <td>0.090766</td>\n",
       "      <td>0.011847</td>\n",
       "      <td>224611.203125</td>\n",
       "      <td>0.110704</td>\n",
       "      <td>0.089852</td>\n",
       "      <td>0.102500</td>\n",
       "      <td>0.011317</td>\n",
       "      <td>0.026447</td>\n",
       "      <td>0.075495</td>\n",
       "      <td>1.870320</td>\n",
       "      <td>1.654624</td>\n",
       "      <td>0.371276</td>\n",
       "      <td>0.065832</td>\n",
       "      <td>22</td>\n",
       "      <td>56957.425781</td>\n",
       "    </tr>\n",
       "    <tr>\n",
       "      <th>5557</th>\n",
       "      <th>0</th>\n",
       "      <td>1.010213</td>\n",
       "      <td>0.219567</td>\n",
       "      <td>0.172713</td>\n",
       "      <td>0.726830</td>\n",
       "      <td>0.306968</td>\n",
       "      <td>263737.625000</td>\n",
       "      <td>0.090480</td>\n",
       "      <td>0.091103</td>\n",
       "      <td>0.078331</td>\n",
       "      <td>0.117074</td>\n",
       "      <td>0.132033</td>\n",
       "      <td>0.583094</td>\n",
       "      <td>0.979621</td>\n",
       "      <td>1.397416</td>\n",
       "      <td>0.249129</td>\n",
       "      <td>0.646315</td>\n",
       "      <td>23</td>\n",
       "      <td>68391.976562</td>\n",
       "    </tr>\n",
       "    <tr>\n",
       "      <th>5558</th>\n",
       "      <th>0</th>\n",
       "      <td>1.184492</td>\n",
       "      <td>0.182953</td>\n",
       "      <td>0.132174</td>\n",
       "      <td>0.709767</td>\n",
       "      <td>0.488743</td>\n",
       "      <td>396004.343750</td>\n",
       "      <td>0.066094</td>\n",
       "      <td>0.069141</td>\n",
       "      <td>0.058820</td>\n",
       "      <td>0.255330</td>\n",
       "      <td>0.225450</td>\n",
       "      <td>0.637718</td>\n",
       "      <td>0.873530</td>\n",
       "      <td>1.621740</td>\n",
       "      <td>0.207146</td>\n",
       "      <td>0.663421</td>\n",
       "      <td>29</td>\n",
       "      <td>104145.687500</td>\n",
       "    </tr>\n",
       "  </tbody>\n",
       "</table>\n",
       "<p>5559 rows × 18 columns</p>\n",
       "</div>"
      ],
      "text/plain": [
       "                rljet_L4  rljet_L5  rljet_L2  \\\n",
       "entry subentry                                 \n",
       "0     0         1.478220  0.173853  0.142326   \n",
       "1     0         1.159872  0.182679  0.198222   \n",
       "2     0         1.424379  0.212927  0.246536   \n",
       "3     0         1.553125  0.290454  0.179543   \n",
       "4     0         1.127484  0.339977  0.298020   \n",
       "...                  ...       ...       ...   \n",
       "5554  0         1.242116  0.224202  0.217022   \n",
       "5555  0         1.908339  0.368705  0.236607   \n",
       "5556  0         1.231826  0.254990  0.271303   \n",
       "5557  0         1.010213  0.219567  0.172713   \n",
       "5558  0         1.184492  0.182953  0.132174   \n",
       "\n",
       "                rljet_topTag_DNN20_TausRatio_inclusive_score  \\\n",
       "entry subentry                                                 \n",
       "0     0                                             0.233609   \n",
       "1     0                                             0.065824   \n",
       "2     0                                             0.084335   \n",
       "3     0                                             0.515852   \n",
       "4     0                                             0.384343   \n",
       "...                                                      ...   \n",
       "5554  0                                             0.134496   \n",
       "5555  0                                             0.146140   \n",
       "5556  0                                             0.090766   \n",
       "5557  0                                             0.726830   \n",
       "5558  0                                             0.709767   \n",
       "\n",
       "                rljet_topTag_DNN20_TausRatio_qqb_score  rljet_pt_comb  \\\n",
       "entry subentry                                                          \n",
       "0     0                                       0.028133  234297.921875   \n",
       "1     0                                       0.028205  533714.125000   \n",
       "2     0                                       0.009025  234563.500000   \n",
       "3     0                                       0.180849  237934.281250   \n",
       "4     0                                       0.175337  257513.250000   \n",
       "...                                                ...            ...   \n",
       "5554  0                                       0.031480  272262.781250   \n",
       "5555  0                                       0.021759  210497.765625   \n",
       "5556  0                                       0.011847  224611.203125   \n",
       "5557  0                                       0.306968  263737.625000   \n",
       "5558  0                                       0.488743  396004.343750   \n",
       "\n",
       "                rljet_M2  rljet_L3  rljet_L1  rljet_topTag_DNN20_qqb_score  \\\n",
       "entry subentry                                                               \n",
       "0     0         0.058569  0.049985  0.052006                      0.008996   \n",
       "1     0         0.098365  0.097097  0.096210                      0.039847   \n",
       "2     0         0.091785  0.067575  0.079675                      0.009816   \n",
       "3     0         0.078671  0.072736  0.074003                      0.074075   \n",
       "4     0         0.152028  0.136176  0.135310                      0.660136   \n",
       "...                  ...       ...       ...                           ...   \n",
       "5554  0         0.098071  0.081542  0.085398                      0.033329   \n",
       "5555  0         0.071563  0.049858  0.069407                      0.052708   \n",
       "5556  0         0.110704  0.089852  0.102500                      0.011317   \n",
       "5557  0         0.090480  0.091103  0.078331                      0.117074   \n",
       "5558  0         0.066094  0.069141  0.058820                      0.255330   \n",
       "\n",
       "                rljet_topTag_DNN19_qqb_score  \\\n",
       "entry subentry                                 \n",
       "0     0                             0.144268   \n",
       "1     0                             0.186804   \n",
       "2     0                             0.098301   \n",
       "3     0                             0.298814   \n",
       "4     0                             0.783664   \n",
       "...                                      ...   \n",
       "5554  0                             0.242306   \n",
       "5555  0                             0.084438   \n",
       "5556  0                             0.026447   \n",
       "5557  0                             0.132033   \n",
       "5558  0                             0.225450   \n",
       "\n",
       "                rljet_topTag_DNN19_inclusive_score  rljet_D2  rljet_N3  \\\n",
       "entry subentry                                                           \n",
       "0     0                                   0.305211  1.608747  2.194288   \n",
       "1     0                                   0.116970  1.039699  1.467166   \n",
       "2     0                                   0.111656  2.505868  1.881467   \n",
       "3     0                                   0.515191  1.265350  1.748846   \n",
       "4     0                                   0.736589  1.391467  1.362434   \n",
       "...                                            ...       ...       ...   \n",
       "5554  0                                   0.195403  1.739679  1.758764   \n",
       "5555  0                                   0.040196  2.957101  2.540267   \n",
       "5556  0                                   0.075495  1.870320  1.654624   \n",
       "5557  0                                   0.583094  0.979621  1.397416   \n",
       "5558  0                                   0.637718  0.873530  1.621740   \n",
       "\n",
       "                rljet_N2  rljet_topTag_DNN20_inclusive_score  \\\n",
       "entry subentry                                                 \n",
       "0     0         0.261934                            0.318813   \n",
       "1     0         0.290440                            0.073059   \n",
       "2     0         0.373857                            0.062968   \n",
       "3     0         0.272025                            0.525609   \n",
       "4     0         0.377992                            0.562129   \n",
       "...                  ...                                 ...   \n",
       "5554  0         0.342052                            0.169166   \n",
       "5555  0         0.373789                            0.456937   \n",
       "5556  0         0.371276                            0.065832   \n",
       "5557  0         0.249129                            0.646315   \n",
       "5558  0         0.207146                            0.663421   \n",
       "\n",
       "                rljet_ungroomed_ntrk500  rljet_m_comb[:,0]  \n",
       "entry subentry                                              \n",
       "0     0                              25       77868.570312  \n",
       "1     0                              53      256805.593750  \n",
       "2     0                              19       77142.257812  \n",
       "3     0                              19       97159.187500  \n",
       "4     0                              40      169429.921875  \n",
       "...                                 ...                ...  \n",
       "5554  0                              22      113011.375000  \n",
       "5555  0                              22       68926.210938  \n",
       "5556  0                              22       56957.425781  \n",
       "5557  0                              23       68391.976562  \n",
       "5558  0                              29      104145.687500  \n",
       "\n",
       "[5559 rows x 18 columns]"
      ]
     },
     "execution_count": 25,
     "metadata": {},
     "output_type": "execute_result"
    }
   ],
   "source": [
    "temp"
   ]
  },
  {
   "cell_type": "code",
   "execution_count": null,
   "id": "d62e20ef-292c-4817-8003-ab7dba14f3dc",
   "metadata": {},
   "outputs": [],
   "source": []
  },
  {
   "cell_type": "code",
   "execution_count": 26,
   "id": "34f7609b-8edf-4085-9809-d21fa045af3f",
   "metadata": {},
   "outputs": [
    {
     "name": "stdout",
     "output_type": "stream",
     "text": [
      "CPU times: user 6.24 ms, sys: 43 µs, total: 6.28 ms\n",
      "Wall time: 6.06 ms\n"
     ]
    }
   ],
   "source": [
    "%%time\n",
    "computation = histogramming.load_and_fill(data_col = 'rljet_pt_comb',file_list = x[:20])"
   ]
  },
  {
   "cell_type": "code",
   "execution_count": 33,
   "id": "c496d961-c66a-4d84-aaa9-1ecea6538f82",
   "metadata": {},
   "outputs": [
    {
     "data": {
      "text/plain": [
       "[Delayed('fill-bd40efa3-744f-4036-8e64-39d8fa5f5b9f'),\n",
       " Delayed('fill-50506a7d-5932-4b01-98fc-82f2db71d994'),\n",
       " Delayed('fill-e22353b6-4c31-4f2e-85d4-992126babbc0'),\n",
       " Delayed('fill-be4ef0df-468b-4cc4-8047-db7c1f0ea8b3'),\n",
       " Delayed('fill-b5ab8b40-67ed-4039-8740-8f171957abba'),\n",
       " Delayed('fill-47538bee-143e-4cb2-a591-85ca6557fd2f'),\n",
       " Delayed('fill-5e738449-a38c-4eb3-bce2-46efaa94310c'),\n",
       " Delayed('fill-b6642b12-cf98-4e59-b296-1ed397ce93a3'),\n",
       " Delayed('fill-3f9fc7eb-ef9b-4064-9cb7-efc5bd4b58bf'),\n",
       " Delayed('fill-bcb5483e-46f5-477e-93e3-f4fbe183009e'),\n",
       " Delayed('fill-b8dfb792-680a-4622-9d98-f0df6357069a'),\n",
       " Delayed('fill-95d050fc-4b3d-451d-a3e2-c654711a226b'),\n",
       " Delayed('fill-11e6ff44-0956-4033-8b56-9175e454679f'),\n",
       " Delayed('fill-7456a2c9-6316-4bd3-9c74-85d3f0c8d54c'),\n",
       " Delayed('fill-e7f5af17-ccb9-4825-b339-47affa2c838c'),\n",
       " Delayed('fill-e10da836-0b62-4342-92f0-2183f967c172'),\n",
       " Delayed('fill-a4b6b7e2-c1d6-4c1c-905f-0a59a1a26c62'),\n",
       " Delayed('fill-e03000a7-0f44-4489-86f4-edd4c3bbfc36'),\n",
       " Delayed('fill-605c1e01-4c56-4c95-8cd4-d2cbaeaf431f'),\n",
       " Delayed('fill-3f887c0d-3f87-45a7-aa04-cc2af5821182')]"
      ]
     },
     "execution_count": 33,
     "metadata": {},
     "output_type": "execute_result"
    }
   ],
   "source": []
  },
  {
   "cell_type": "code",
   "execution_count": 27,
   "id": "fc329a9f-ff55-4b37-89dd-4f50457539aa",
   "metadata": {},
   "outputs": [
    {
     "name": "stdout",
     "output_type": "stream",
     "text": [
      "CPU times: user 246 ms, sys: 55.8 ms, total: 302 ms\n",
      "Wall time: 1.96 s\n"
     ]
    }
   ],
   "source": [
    "%%time\n",
    "temp = dask.compute(histogramming.load_and_fill(data_col = 'rljet_pt_comb',file_list = x[:20]))"
   ]
  },
  {
   "cell_type": "code",
   "execution_count": 28,
   "id": "f5fcee9c-4f58-4c17-9110-7b30dc14041c",
   "metadata": {},
   "outputs": [],
   "source": [
    "x = dask.visualize(histogramming.load_and_fill(data_col = 'leptons_pt',file_list = x[:20]))"
   ]
  },
  {
   "cell_type": "code",
   "execution_count": 29,
   "id": "5c7b974f-52d7-4af0-977c-76a65e3bf655",
   "metadata": {},
   "outputs": [
    {
     "data": {
      "text/html": [
       "<html>\n",
       "<div style=\"display:flex; align-items:center;\">\n",
       "<div style=\"width:290px;\">\n",
       "<svg xmlns=\"http://www.w3.org/2000/svg\" viewBox=\"-10 -105 270 120\">\n",
       "<line x1=\"-5\" y1=\"0\" x2=\"255\" y2=\"0\" style=\"fill:none;stroke-width:2;stroke:currentColor\"/>\n",
       "<text text-anchor=\"middle\" x=\"0\" y=\"15\" style=\"fill:currentColor;\">\n",
       "0\n",
       "</text>\n",
       "<text text-anchor=\"middle\" x=\"250\" y=\"15\" style=\"fill:currentColor;\">\n",
       "2e+06\n",
       "</text>\n",
       "<text text-anchor=\"middle\" x=\"125.0\" y=\"15\" style=\"fill:currentColor;\">\n",
       "test\n",
       "</text>\n",
       "<polyline points=\"  0,0   0,-0 0.833333,-0 0.833333,-0 1.66667,-0 1.66667,-0 2.5,-0 2.5,-0 3.33333,-0 3.33333,-0 4.16667,-0 4.16667,-0   5,-0   5,-0 5.83333,-0 5.83333,-0 6.66667,-0 6.66667,-0 7.5,-0 7.5,-0 8.33333,-0 8.33333,-0 9.16667,-0 9.16667,-0  10,-0  10,-0 10.8333,-0 10.8333,-0 11.6667,-0 11.6667,-0 12.5,-0 12.5,-0 13.3333,-0 13.3333,-0 14.1667,-0 14.1667,-0  15,-0  15,-0 15.8333,-0 15.8333,-0 16.6667,-0 16.6667,-0 17.5,-0 17.5,-0 18.3333,-0 18.3333,-0 19.1667,-0 19.1667,-0  20,-0  20,-0 20.8333,-0 20.8333,-0 21.6667,-0 21.6667,-0 22.5,-0 22.5,-0 23.3333,-0 23.3333,-0 24.1667,-0 24.1667,-0  25,-0  25,-100 25.8333,-100 25.8333,-98.8 26.6667,-98.8 26.6667,-94.1 27.5,-94.1 27.5,-92.8 28.3333,-92.8 28.3333,-87.4 29.1667,-87.4 29.1667,-86.7  30,-86.7  30,-78.1 30.8333,-78.1 30.8333,-71.7 31.6667,-71.7 31.6667,-72.3 32.5,-72.3 32.5,-64 33.3333,-64 33.3333,-63.8 34.1667,-63.8 34.1667,-56  35,-56  35,-53.3 35.8333,-53.3 35.8333,-46.7 36.6667,-46.7 36.6667,-43.7 37.5,-43.7 37.5,-40.3 38.3333,-40.3 38.3333,-33.7 39.1667,-33.7 39.1667,-36.7  40,-36.7  40,-31 40.8333,-31 40.8333,-28 41.6667,-28 41.6667,-26.4 42.5,-26.4 42.5,-25.8 43.3333,-25.8 43.3333,-24.9 44.1667,-24.9 44.1667,-21.9  45,-21.9  45,-20.4 45.8333,-20.4 45.8333,-19.8 46.6667,-19.8 46.6667,-19 47.5,-19 47.5,-16.4 48.3333,-16.4 48.3333,-15.1 49.1667,-15.1 49.1667,-13.5  50,-13.5  50,-13.3 50.8333,-13.3 50.8333,-11 51.6667,-11 51.6667,-11.9 52.5,-11.9 52.5,-12.2 53.3333,-12.2 53.3333,-11.3 54.1667,-11.3 54.1667,-10.1  55,-10.1  55,-7.05 55.8333,-7.05 55.8333,-9.94 56.6667,-9.94 56.6667,-8.97 57.5,-8.97 57.5,-7.63 58.3333,-7.63 58.3333,-7.69 59.1667,-7.69 59.1667,-6.15  60,-6.15  60,-6.47 60.8333,-6.47 60.8333,-6.22 61.6667,-6.22 61.6667,-5.45 62.5,-5.45 62.5,-5.38 63.3333,-5.38 63.3333,-6.6 64.1667,-6.6 64.1667,-3.85  65,-3.85  65,-5.71 65.8333,-5.71 65.8333,-4.68 66.6667,-4.68 66.6667,-4.04 67.5,-4.04 67.5,-4.49 68.3333,-4.49 68.3333,-3.4 69.1667,-3.4 69.1667,-3.33  70,-3.33  70,-3.21 70.8333,-3.21 70.8333,-3.27 71.6667,-3.27 71.6667,-3.33 72.5,-3.33 72.5,-2.37 73.3333,-2.37 73.3333,-2.88 74.1667,-2.88 74.1667,-2.37  75,-2.37  75,-2.63 75.8333,-2.63 75.8333,-2.24 76.6667,-2.24 76.6667,-1.41 77.5,-1.41 77.5,-2.88 78.3333,-2.88 78.3333,-1.86 79.1667,-1.86 79.1667,-2.44  80,-2.44  80,-1.67 80.8333,-1.67 80.8333,-1.41 81.6667,-1.41 81.6667,-1.73 82.5,-1.73 82.5,-1.79 83.3333,-1.79 83.3333,-1.15 84.1667,-1.15 84.1667,-1.73  85,-1.73  85,-0.962 85.8333,-0.962 85.8333,-0.962 86.6667,-0.962 86.6667,-0.962 87.5,-0.962 87.5,-1.22 88.3333,-1.22 88.3333,-1.41 89.1667,-1.41 89.1667,-0.833  90,-0.833  90,-1.03 90.8333,-1.03 90.8333,-0.833 91.6667,-0.833 91.6667,-1.15 92.5,-1.15 92.5,-1.03 93.3333,-1.03 93.3333,-1.03 94.1667,-1.03 94.1667,-1.03  95,-1.03  95,-1.09 95.8333,-1.09 95.8333,-0.513 96.6667,-0.513 96.6667,-0.449 97.5,-0.449 97.5,-0.962 98.3333,-0.962 98.3333,-0.833 99.1667,-0.833 99.1667,-0.705 100,-0.705 100,-0.385 100.833,-0.385 100.833,-0.513 101.667,-0.513 101.667,-0.769 102.5,-0.769 102.5,-1.09 103.333,-1.09 103.333,-0.577 104.167,-0.577 104.167,-0.192 105,-0.192 105,-0.449 105.833,-0.449 105.833,-0.449 106.667,-0.449 106.667,-0.385 107.5,-0.385 107.5,-0.385 108.333,-0.385 108.333,-0.385 109.167,-0.385 109.167,-0.385 110,-0.385 110,-0.128 110.833,-0.128 110.833,-0.641 111.667,-0.641 111.667,-0.641 112.5,-0.641 112.5,-0.128 113.333,-0.128 113.333,-0.833 114.167,-0.833 114.167,-0.256 115,-0.256 115,-0.321 115.833,-0.321 115.833,-0.256 116.667,-0.256 116.667,-0.833 117.5,-0.833 117.5,-0.256 118.333,-0.256 118.333,-0.897 119.167,-0.897 119.167,-0.256 120,-0.256 120,-0.385 120.833,-0.385 120.833,-0.321 121.667,-0.321 121.667,-0.256 122.5,-0.256 122.5,-0.256 123.333,-0.256 123.333,-0.449 124.167,-0.449 124.167,-0.577 125,-0.577 125,-1.92 125.833,-1.92 125.833,-1.92 126.667,-1.92 126.667,-0.256 127.5,-0.256 127.5,-0.833 128.333,-0.833 128.333,-0.833 129.167,-0.833 129.167,-0.769 130,-0.769 130,-0.641 130.833,-0.641 130.833,-0.705 131.667,-0.705 131.667,-0.769 132.5,-0.769 132.5,-0.705 133.333,-0.705 133.333,-0.705 134.167,-0.705 134.167,-0.897 135,-0.897 135,-0.641 135.833,-0.641 135.833,-1.35 136.667,-1.35 136.667,-0.128 137.5,-0.128 137.5,-0.705 138.333,-0.705 138.333,-0.641 139.167,-0.641 139.167,-0.0641 140,-0.0641 140,-1.35 140.833,-1.35 140.833,-0.705 141.667,-0.705 141.667,-1.28 142.5,-1.28 142.5,-0.962 143.333,-0.962 143.333,-1.35 144.167,-1.35 144.167,-2.05 145,-2.05 145,-1.99 145.833,-1.99 145.833,-1.35 146.667,-1.35 146.667,-1.28 147.5,-1.28 147.5,-1.35 148.333,-1.35 148.333,-1.99 149.167,-1.99 149.167,-1.99 150,-1.99 150,-3.91 150.833,-3.91 150.833,-1.92 151.667,-1.92 151.667,-1.99 152.5,-1.99 152.5,-1.92 153.333,-1.92 153.333,-0.705 154.167,-0.705 154.167,-0.769 155,-0.769 155,-1.92 155.833,-1.92 155.833,-1.35 156.667,-1.35 156.667,-1.35 157.5,-1.35 157.5,-3.85 158.333,-3.85 158.333,-1.35 159.167,-1.35 159.167,-1.92 160,-1.92 160,-3.27 160.833,-3.27 160.833,-2.76 161.667,-2.76 161.667,-3.27 162.5,-3.27 162.5,-2.56 163.333,-2.56 163.333,-3.85 164.167,-3.85 164.167,-2.05 165,-2.05 165,-3.85 165.833,-3.85 165.833,-3.91 166.667,-3.91 166.667,-3.21 167.5,-3.21 167.5,-3.91 168.333,-3.91 168.333,-3.85 169.167,-3.85 169.167,-5.13 170,-5.13 170,-2.63 170.833,-2.63 170.833,-1.35 171.667,-1.35 171.667,-5.19 172.5,-5.19 172.5,-3.21 173.333,-3.21 173.333,-5.13 174.167,-5.13 174.167,-2.56 175,-2.56 175,-2.69 175.833,-2.69 175.833,-5.83 176.667,-5.83 176.667,-1.92 177.5,-1.92 177.5,-2.56 178.333,-2.56 178.333,-3.91 179.167,-3.91 179.167,-3.91 180,-3.91 180,-4.49 180.833,-4.49 180.833,-3.21 181.667,-3.21 181.667,-1.92 182.5,-1.92 182.5,-3.85 183.333,-3.85 183.333,-2.56 184.167,-2.56 184.167,-4.55 185,-4.55 185,-3.27 185.833,-3.27 185.833,-2.63 186.667,-2.63 186.667,-5.13 187.5,-5.13 187.5,-6.41 188.333,-6.41 188.333,-4.55 189.167,-4.55 189.167,-4.49 190,-4.49 190,-5.13 190.833,-5.13 190.833,-1.28 191.667,-1.28 191.667,-5.13 192.5,-5.13 192.5,-2.63 193.333,-2.63 193.333,-3.85 194.167,-3.85 194.167,-7.69 195,-7.69 195,-8.97 195.833,-8.97 195.833,-7.76 196.667,-7.76 196.667,-8.33 197.5,-8.33 197.5,-8.33 198.333,-8.33 198.333,-5.77 199.167,-5.77 199.167,-5.13 200,-5.13 200,-3.85 200.833,-3.85 200.833,-8.33 201.667,-8.33 201.667,-3.85 202.5,-3.85 202.5,-4.55 203.333,-4.55 203.333,-9.62 204.167,-9.62 204.167,-6.41 205,-6.41 205,-5.13 205.833,-5.13 205.833,-7.76 206.667,-7.76 206.667,-4.49 207.5,-4.49 207.5,-10.3 208.333,-10.3 208.333,-5.83 209.167,-5.83 209.167,-8.33 210,-8.33 210,-7.69 210.833,-7.69 210.833,-9.68 211.667,-9.68 211.667,-8.4 212.5,-8.4 212.5,-7.12 213.333,-7.12 213.333,-11.5 214.167,-11.5 214.167,-12.8 215,-12.8 215,-14.2 215.833,-14.2 215.833,-13.5 216.667,-13.5 216.667,-10.9 217.5,-10.9 217.5,-15.4 218.333,-15.4 218.333,-10.9 219.167,-10.9 219.167,-9.62 220,-9.62 220,-14.7 220.833,-14.7 220.833,-15.4 221.667,-15.4 221.667,-7.05 222.5,-7.05 222.5,-13.5 223.333,-13.5 223.333,-13.5 224.167,-13.5 224.167,-12.8 225,-12.8 225,-15.4 225.833,-15.4 225.833,-11.5 226.667,-11.5 226.667,-19.2 227.5,-19.2 227.5,-19.9 228.333,-19.9 228.333,-25 229.167,-25 229.167,-14.1 230,-14.1 230,-17.3 230.833,-17.3 230.833,-18.6 231.667,-18.6 231.667,-19.2 232.5,-19.2 232.5,-25.6 233.333,-25.6 233.333,-23.7 234.167,-23.7 234.167,-19.2 235,-19.2 235,-26.3 235.833,-26.3 235.833,-30.1 236.667,-30.1 236.667,-26.3 237.5,-26.3 237.5,-27.6 238.333,-27.6 238.333,-26.9 239.167,-26.9 239.167,-26.3 240,-26.3 240,-29.5 240.833,-29.5 240.833,-25 241.667,-25 241.667,-23.1 242.5,-23.1 242.5,-28.8 243.333,-28.8 243.333,-28.8 244.167,-28.8 244.167,-37.2 245,-37.2 245,-29.5 245.833,-29.5 245.833,-41 246.667,-41 246.667,-35.9 247.5,-35.9 247.5,-31.4 248.333,-31.4 248.333,-25.6 249.167,-25.6 249.167,-34 250,-34 250,0\" style=\"fill:none; stroke:currentColor;\"/>\n",
       "</svg>\n",
       "</div>\n",
       "<div style=\"flex=grow:1;\">\n",
       "Regular(300, 0, 2e+06, name='test', label='test')<br/>\n",
       "<hr style=\"margin-top:.2em; margin-bottom:.2em;\"/>\n",
       "Double() Σ=47336.0 <em>(90047.0 with flow)</em>\n",
       "\n",
       "</div>\n",
       "</div>\n",
       "</html>"
      ],
      "text/plain": [
       "Hist(Regular(300, 0, 2e+06, name='test', label='test'), storage=Double()) # Sum: 47336.0 (90047.0 with flow)"
      ]
     },
     "execution_count": 29,
     "metadata": {},
     "output_type": "execute_result"
    }
   ],
   "source": [
    "10*temp[0][6] + temp[0][0]"
   ]
  },
  {
   "cell_type": "code",
   "execution_count": 30,
   "id": "c868e8aa-4ebc-4eba-b49b-d887de56fc09",
   "metadata": {},
   "outputs": [
    {
     "data": {
      "text/plain": [
       "0.006195068359375"
      ]
     },
     "execution_count": 30,
     "metadata": {},
     "output_type": "execute_result"
    }
   ],
   "source": [
    "asizeof.asizeof(temp)/1024**2"
   ]
  },
  {
   "cell_type": "code",
   "execution_count": 31,
   "id": "9c60e227-9873-4e9b-a49e-f0bcaefecf42",
   "metadata": {},
   "outputs": [
    {
     "data": {
      "text/html": [
       "<html>\n",
       "<div style=\"display:flex; align-items:center;\">\n",
       "<div style=\"width:290px;\">\n",
       "<svg xmlns=\"http://www.w3.org/2000/svg\" viewBox=\"-10 -105 270 120\">\n",
       "<line x1=\"-5\" y1=\"0\" x2=\"255\" y2=\"0\" style=\"fill:none;stroke-width:2;stroke:currentColor\"/>\n",
       "<text text-anchor=\"middle\" x=\"0\" y=\"15\" style=\"fill:currentColor;\">\n",
       "0\n",
       "</text>\n",
       "<text text-anchor=\"middle\" x=\"250\" y=\"15\" style=\"fill:currentColor;\">\n",
       "2e+06\n",
       "</text>\n",
       "<text text-anchor=\"middle\" x=\"125.0\" y=\"15\" style=\"fill:currentColor;\">\n",
       "test\n",
       "</text>\n",
       "<polyline points=\"  0,0   0,-0 0.833333,-0 0.833333,-0 1.66667,-0 1.66667,-0 2.5,-0 2.5,-0 3.33333,-0 3.33333,-0 4.16667,-0 4.16667,-0   5,-0   5,-0 5.83333,-0 5.83333,-0 6.66667,-0 6.66667,-0 7.5,-0 7.5,-0 8.33333,-0 8.33333,-0 9.16667,-0 9.16667,-0  10,-0  10,-0 10.8333,-0 10.8333,-0 11.6667,-0 11.6667,-0 12.5,-0 12.5,-0 13.3333,-0 13.3333,-0 14.1667,-0 14.1667,-0  15,-0  15,-0 15.8333,-0 15.8333,-0 16.6667,-0 16.6667,-0 17.5,-0 17.5,-0 18.3333,-0 18.3333,-0 19.1667,-0 19.1667,-0  20,-0  20,-0 20.8333,-0 20.8333,-0 21.6667,-0 21.6667,-0 22.5,-0 22.5,-0 23.3333,-0 23.3333,-0 24.1667,-0 24.1667,-0  25,-0  25,-0 25.8333,-0 25.8333,-0 26.6667,-0 26.6667,-0 27.5,-0 27.5,-0 28.3333,-0 28.3333,-0 29.1667,-0 29.1667,-0  30,-0  30,-0 30.8333,-0 30.8333,-0 31.6667,-0 31.6667,-0 32.5,-0 32.5,-0 33.3333,-0 33.3333,-0 34.1667,-0 34.1667,-0  35,-0  35,-0 35.8333,-0 35.8333,-0 36.6667,-0 36.6667,-0 37.5,-0 37.5,-0 38.3333,-0 38.3333,-0 39.1667,-0 39.1667,-0  40,-0  40,-0 40.8333,-0 40.8333,-0 41.6667,-0 41.6667,-0 42.5,-0 42.5,-0 43.3333,-0 43.3333,-0 44.1667,-0 44.1667,-0  45,-0  45,-0 45.8333,-0 45.8333,-0 46.6667,-0 46.6667,-0 47.5,-0 47.5,-0 48.3333,-0 48.3333,-0 49.1667,-0 49.1667,-0  50,-0  50,-0 50.8333,-0 50.8333,-0 51.6667,-0 51.6667,-0 52.5,-0 52.5,-0 53.3333,-0 53.3333,-0 54.1667,-0 54.1667,-0  55,-0  55,-0 55.8333,-0 55.8333,-0 56.6667,-0 56.6667,-0 57.5,-0 57.5,-0 58.3333,-0 58.3333,-0 59.1667,-0 59.1667,-0  60,-0  60,-0 60.8333,-0 60.8333,-0 61.6667,-0 61.6667,-0 62.5,-0 62.5,-0 63.3333,-0 63.3333,-0 64.1667,-0 64.1667,-0  65,-0  65,-0 65.8333,-0 65.8333,-0 66.6667,-0 66.6667,-0 67.5,-0 67.5,-0 68.3333,-0 68.3333,-0 69.1667,-0 69.1667,-0  70,-0  70,-0 70.8333,-0 70.8333,-0 71.6667,-0 71.6667,-0 72.5,-0 72.5,-0 73.3333,-0 73.3333,-0 74.1667,-0 74.1667,-0  75,-0  75,-0 75.8333,-0 75.8333,-0 76.6667,-0 76.6667,-0 77.5,-0 77.5,-0 78.3333,-0 78.3333,-0 79.1667,-0 79.1667,-0  80,-0  80,-0 80.8333,-0 80.8333,-0 81.6667,-0 81.6667,-0 82.5,-0 82.5,-0 83.3333,-0 83.3333,-0 84.1667,-0 84.1667,-0  85,-0  85,-0 85.8333,-0 85.8333,-0 86.6667,-0 86.6667,-0 87.5,-0 87.5,-0 88.3333,-0 88.3333,-0 89.1667,-0 89.1667,-0  90,-0  90,-0 90.8333,-0 90.8333,-0 91.6667,-0 91.6667,-0 92.5,-0 92.5,-0 93.3333,-0 93.3333,-0 94.1667,-0 94.1667,-0  95,-0  95,-0 95.8333,-0 95.8333,-0 96.6667,-0 96.6667,-0 97.5,-0 97.5,-0 98.3333,-0 98.3333,-0 99.1667,-0 99.1667,-0 100,-0 100,-0 100.833,-0 100.833,-0 101.667,-0 101.667,-0 102.5,-0 102.5,-0 103.333,-0 103.333,-0 104.167,-0 104.167,-0 105,-0 105,-0 105.833,-0 105.833,-0 106.667,-0 106.667,-0 107.5,-0 107.5,-0 108.333,-0 108.333,-0 109.167,-0 109.167,-0 110,-0 110,-0 110.833,-0 110.833,-0 111.667,-0 111.667,-0 112.5,-0 112.5,-0 113.333,-0 113.333,-0 114.167,-0 114.167,-0 115,-0 115,-0 115.833,-0 115.833,-0 116.667,-0 116.667,-0 117.5,-0 117.5,-0 118.333,-0 118.333,-0 119.167,-0 119.167,-0 120,-0 120,-0 120.833,-0 120.833,-0 121.667,-0 121.667,-0 122.5,-0 122.5,-0 123.333,-0 123.333,-0 124.167,-0 124.167,-0 125,-0 125,-0 125.833,-0 125.833,-0 126.667,-0 126.667,-0 127.5,-0 127.5,-0 128.333,-0 128.333,-0 129.167,-0 129.167,-0 130,-0 130,-0 130.833,-0 130.833,-0 131.667,-0 131.667,-0 132.5,-0 132.5,-0 133.333,-0 133.333,-0 134.167,-0 134.167,-0 135,-0 135,-0 135.833,-0 135.833,-0 136.667,-0 136.667,-0 137.5,-0 137.5,-0 138.333,-0 138.333,-0 139.167,-0 139.167,-0 140,-0 140,-0 140.833,-0 140.833,-0 141.667,-0 141.667,-0 142.5,-0 142.5,-0 143.333,-0 143.333,-0 144.167,-0 144.167,-0 145,-0 145,-0 145.833,-0 145.833,-0 146.667,-0 146.667,-0 147.5,-0 147.5,-0 148.333,-0 148.333,-0 149.167,-0 149.167,-0 150,-0 150,-0 150.833,-0 150.833,-0 151.667,-0 151.667,-0 152.5,-0 152.5,-0 153.333,-0 153.333,-0 154.167,-0 154.167,-0 155,-0 155,-0 155.833,-0 155.833,-0 156.667,-0 156.667,-0 157.5,-0 157.5,-0 158.333,-0 158.333,-0 159.167,-0 159.167,-0 160,-0 160,-0 160.833,-0 160.833,-0 161.667,-0 161.667,-0 162.5,-0 162.5,-0 163.333,-0 163.333,-0 164.167,-0 164.167,-0 165,-0 165,-0 165.833,-0 165.833,-0 166.667,-0 166.667,-0 167.5,-0 167.5,-0 168.333,-0 168.333,-0 169.167,-0 169.167,-0 170,-0 170,-0 170.833,-0 170.833,-0 171.667,-0 171.667,-0 172.5,-0 172.5,-0 173.333,-0 173.333,-0 174.167,-0 174.167,-0 175,-0 175,-0 175.833,-0 175.833,-0 176.667,-0 176.667,-0 177.5,-0 177.5,-0 178.333,-0 178.333,-0 179.167,-0 179.167,-0 180,-0 180,-0 180.833,-0 180.833,-0 181.667,-0 181.667,-0 182.5,-0 182.5,-0 183.333,-0 183.333,-0 184.167,-0 184.167,-0 185,-0 185,-0 185.833,-0 185.833,-0 186.667,-0 186.667,-0 187.5,-0 187.5,-0 188.333,-0 188.333,-0 189.167,-0 189.167,-0 190,-0 190,-0 190.833,-0 190.833,-0 191.667,-0 191.667,-0 192.5,-0 192.5,-0 193.333,-0 193.333,-0 194.167,-0 194.167,-0 195,-0 195,-0 195.833,-0 195.833,-0 196.667,-0 196.667,-0 197.5,-0 197.5,-0 198.333,-0 198.333,-0 199.167,-0 199.167,-0 200,-0 200,-0 200.833,-0 200.833,-0 201.667,-0 201.667,-0 202.5,-0 202.5,-0 203.333,-0 203.333,-0 204.167,-0 204.167,-0 205,-0 205,-0 205.833,-0 205.833,-0 206.667,-0 206.667,-0 207.5,-0 207.5,-0 208.333,-0 208.333,-0 209.167,-0 209.167,-0 210,-0 210,-0 210.833,-0 210.833,-0 211.667,-0 211.667,-0 212.5,-0 212.5,-0 213.333,-0 213.333,-0 214.167,-0 214.167,-0 215,-0 215,-0 215.833,-0 215.833,-0 216.667,-0 216.667,-0 217.5,-0 217.5,-0 218.333,-0 218.333,-0 219.167,-0 219.167,-0 220,-0 220,-0 220.833,-0 220.833,-0 221.667,-0 221.667,-0 222.5,-0 222.5,-0 223.333,-0 223.333,-0 224.167,-0 224.167,-0 225,-0 225,-0 225.833,-0 225.833,-0 226.667,-0 226.667,-0 227.5,-0 227.5,-0 228.333,-0 228.333,-0 229.167,-0 229.167,-0 230,-0 230,-0 230.833,-0 230.833,-0 231.667,-0 231.667,-0 232.5,-0 232.5,-0 233.333,-0 233.333,-0 234.167,-0 234.167,-0 235,-0 235,-0 235.833,-0 235.833,-0 236.667,-0 236.667,-0 237.5,-0 237.5,-0 238.333,-0 238.333,-0 239.167,-0 239.167,-0 240,-0 240,-0 240.833,-0 240.833,-0 241.667,-0 241.667,-0 242.5,-0 242.5,-0 243.333,-0 243.333,-0 244.167,-0 244.167,-0 245,-0 245,-0 245.833,-0 245.833,-0 246.667,-0 246.667,-0 247.5,-0 247.5,-0 248.333,-0 248.333,-0 249.167,-0 249.167,-0 250,-0 250,0\" style=\"fill:none; stroke:currentColor;\"/>\n",
       "</svg>\n",
       "</div>\n",
       "<div style=\"flex=grow:1;\">\n",
       "Regular(300, 0, 2e+06, name='test', label='test')<br/>\n",
       "<hr style=\"margin-top:.2em; margin-bottom:.2em;\"/>\n",
       "Double() Σ=0.0\n",
       "\n",
       "</div>\n",
       "</div>\n",
       "</html>"
      ],
      "text/plain": [
       "Hist(Regular(300, 0, 2e+06, name='test', label='test'), storage=Double())"
      ]
     },
     "execution_count": 31,
     "metadata": {},
     "output_type": "execute_result"
    }
   ],
   "source": [
    "histogramming.histograms['h1']"
   ]
  },
  {
   "cell_type": "code",
   "execution_count": 32,
   "id": "b0729c40-31df-47b2-aa6e-cf2340b21e40",
   "metadata": {},
   "outputs": [
    {
     "data": {
      "text/plain": [
       "33.1"
      ]
     },
     "execution_count": 32,
     "metadata": {},
     "output_type": "execute_result"
    }
   ],
   "source": [
    "psutil.virtual_memory().percent"
   ]
  }
 ],
 "metadata": {
  "kernelspec": {
   "display_name": "Python 3",
   "language": "python",
   "name": "python3"
  },
  "language_info": {
   "codemirror_mode": {
    "name": "ipython",
    "version": 3
   },
   "file_extension": ".py",
   "mimetype": "text/x-python",
   "name": "python",
   "nbconvert_exporter": "python",
   "pygments_lexer": "ipython3",
   "version": "3.6.8"
  }
 },
 "nbformat": 4,
 "nbformat_minor": 5
}
