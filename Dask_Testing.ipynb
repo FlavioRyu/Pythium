{
 "cells": [
  {
   "cell_type": "code",
   "execution_count": 1,
   "id": "77cb4a3f-dd8b-4fc2-8432-b3413c658366",
   "metadata": {},
   "outputs": [],
   "source": [
    "import os\n",
    "import sys\n",
    "import dask\n",
    "import uproot4\n",
    "import numpy as np\n",
    "import pandas as pd\n",
    "from hist import Hist\n",
    "import hist\n",
    "import uproot4 as uproot\n",
    "from dask.array import histogram as ds_hist\n",
    "import dask.dataframe as dd\n",
    "import timeit\n",
    "from dask.distributed import Client\n",
    "import storage_functions as sf\n",
    "import time\n",
    "import psutil\n",
    "##procedurre to make client dask work\n",
    "# read hdf data convert it to csv and save it, then read csv with dask data frame\n",
    "# or just reset index and then go from there\n",
    "# 2tb of data run 2gb per job each job takes half a day\n",
    "# try load pickle create new files\n",
    "import re\n",
    "import subprocess\n",
    "from pympler import asizeof"
   ]
  },
  {
   "cell_type": "code",
   "execution_count": 2,
   "id": "14d3ee81-8b3b-4050-a712-64f1ef352ca9",
   "metadata": {},
   "outputs": [
    {
     "data": {
      "text/html": [
       "<html>\n",
       "<div style=\"display:flex; align-items:center;\">\n",
       "<div style=\"width:290px;\">\n",
       "<svg xmlns=\"http://www.w3.org/2000/svg\" viewBox=\"-10 -105 270 120\">\n",
       "<line x1=\"-5\" y1=\"0\" x2=\"255\" y2=\"0\" style=\"fill:none;stroke-width:2;stroke:currentColor\"/>\n",
       "<text text-anchor=\"middle\" x=\"0\" y=\"15\" style=\"fill:currentColor;\">\n",
       "3e+05\n",
       "</text>\n",
       "<text text-anchor=\"middle\" x=\"250\" y=\"15\" style=\"fill:currentColor;\">\n",
       "6e+05\n",
       "</text>\n",
       "<text text-anchor=\"middle\" x=\"125.0\" y=\"15\" style=\"fill:currentColor;\">\n",
       "$p_{T}$[MeV]\n",
       "</text>\n",
       "<polyline points=\"  0,0   0,-0 12.5,-0 12.5,-0  25,-0  25,-0 37.5,-0 37.5,-0  50,-0  50,-0 62.5,-0 62.5,-0  75,-0  75,-0 87.5,-0 87.5,-0 100,-0 100,-0 112.5,-0 112.5,-0 125,-0 125,-0 137.5,-0 137.5,-0 150,-0 150,-0 162.5,-0 162.5,-0 175,-0 175,-0 187.5,-0 187.5,-0 200,-0 200,-0 212.5,-0 212.5,-0 225,-0 225,-0 237.5,-0 237.5,-0 250,-0 250,0\" style=\"fill:none; stroke:currentColor;\"/>\n",
       "</svg>\n",
       "</div>\n",
       "<div style=\"flex=grow:1;\">\n",
       "Regular(20, 300000, 600000, name='x', label='$p_{T}$[MeV]')<br/>\n",
       "<hr style=\"margin-top:.2em; margin-bottom:.2em;\"/>\n",
       "Double() Σ=0.0\n",
       "\n",
       "</div>\n",
       "</div>\n",
       "</html>"
      ],
      "text/plain": [
       "Hist(Regular(20, 300000, 600000, name='x', label='$p_{T}$[MeV]'), storage=Double())"
      ]
     },
     "execution_count": 2,
     "metadata": {},
     "output_type": "execute_result"
    }
   ],
   "source": [
    "Hist(hist.axis.Regular(20, 300000, 600000, name='x', label='$p_{T}$[MeV]'))"
   ]
  },
  {
   "cell_type": "code",
   "execution_count": 3,
   "id": "5abe261f-a878-4d05-850a-a48e31de1858",
   "metadata": {},
   "outputs": [
    {
     "data": {
      "text/html": [
       "<html>\n",
       "<div style=\"display:flex; align-items:center;\">\n",
       "<div style=\"width:290px;\">\n",
       "<svg xmlns=\"http://www.w3.org/2000/svg\" viewBox=\"-10 -105 270 120\">\n",
       "<line x1=\"-5\" y1=\"0\" x2=\"255\" y2=\"0\" style=\"fill:none;stroke-width:2;stroke:currentColor\"/>\n",
       "<text text-anchor=\"middle\" x=\"0\" y=\"15\" style=\"fill:currentColor;\">\n",
       "3e+05\n",
       "</text>\n",
       "<text text-anchor=\"middle\" x=\"250\" y=\"15\" style=\"fill:currentColor;\">\n",
       "6e+05\n",
       "</text>\n",
       "<text text-anchor=\"middle\" x=\"125.0\" y=\"15\" style=\"fill:currentColor;\">\n",
       "$p_{T}$[MeV]\n",
       "</text>\n",
       "<polyline points=\"  0,0   0,-0 12.5,-0 12.5,-0  25,-0  25,-0 37.5,-0 37.5,-0  50,-0  50,-0 62.5,-0 62.5,-0  75,-0  75,-0 87.5,-0 87.5,-0 100,-0 100,-0 112.5,-0 112.5,-0 125,-0 125,-0 137.5,-0 137.5,-0 150,-0 150,-0 162.5,-0 162.5,-0 175,-0 175,-0 187.5,-0 187.5,-0 200,-0 200,-0 212.5,-0 212.5,-0 225,-0 225,-0 237.5,-0 237.5,-0 250,-0 250,0\" style=\"fill:none; stroke:currentColor;\"/>\n",
       "</svg>\n",
       "</div>\n",
       "<div style=\"flex=grow:1;\">\n",
       "Regular(20, 300000, 600000)<br/>\n",
       "<hr style=\"margin-top:.2em; margin-bottom:.2em;\"/>\n",
       "Double() Σ=0.0\n",
       "\n",
       "</div>\n",
       "</div>\n",
       "</html>"
      ],
      "text/plain": [
       "Histogram_wrapper(Regular(20, 300000, 600000), storage=Double())"
      ]
     },
     "execution_count": 3,
     "metadata": {},
     "output_type": "execute_result"
    }
   ],
   "source": [
    "sf.Histogram_wrapper(hist.axis.Regular(20, 300000, 600000, name='x', label='$p_{T}$[MeV]'))"
   ]
  },
  {
   "cell_type": "code",
   "execution_count": 4,
   "id": "0f47609e-9c73-43a5-bca5-421322f6e15c",
   "metadata": {},
   "outputs": [],
   "source": [
    "rootdir = \"/Skl_Data/\"\n"
   ]
  },
  {
   "cell_type": "code",
   "execution_count": 5,
   "id": "cabca4a5-7ef8-4135-8452-b4eb1ae22176",
   "metadata": {},
   "outputs": [
    {
     "data": {
      "text/plain": [
       "<generator object walk at 0x7f7a050db5c8>"
      ]
     },
     "execution_count": 5,
     "metadata": {},
     "output_type": "execute_result"
    }
   ],
   "source": [
    "os.walk(rootdir)"
   ]
  },
  {
   "cell_type": "code",
   "execution_count": 6,
   "id": "e0096e05-c2aa-4171-9cd6-3fd9c3bca885",
   "metadata": {},
   "outputs": [],
   "source": [
    "full_path = str(subprocess.check_output(['pwd']))\n",
    "path = str(subprocess.check_output(['pwd']))[2:len(full_path)-3]"
   ]
  },
  {
   "cell_type": "code",
   "execution_count": 7,
   "id": "c54c6a74-b21c-4081-b857-2c2be730236e",
   "metadata": {},
   "outputs": [
    {
     "data": {
      "text/plain": [
       "\"b'/afs/cern.ch/user/k/kmalirz/pythium\\\\n'\""
      ]
     },
     "execution_count": 7,
     "metadata": {},
     "output_type": "execute_result"
    }
   ],
   "source": [
    "full_path"
   ]
  },
  {
   "cell_type": "code",
   "execution_count": 8,
   "id": "e7a4cd50-dab6-47f0-ace5-0cecd875c7c6",
   "metadata": {},
   "outputs": [
    {
     "data": {
      "text/plain": [
       "['.ipynb_checkpoints', 'test12345.h5']"
      ]
     },
     "execution_count": 8,
     "metadata": {},
     "output_type": "execute_result"
    }
   ],
   "source": [
    "os.listdir(path+rootdir)"
   ]
  },
  {
   "cell_type": "code",
   "execution_count": 9,
   "id": "8c6fbe62-2909-4824-904a-1716c016c645",
   "metadata": {},
   "outputs": [],
   "source": [
    "regex = re.compile('(?=^[^.].)(.*h5$)|(?=^[^.].)(.*csv$)')\n",
    "directory_check = re.compile('(?=^[^.].)')\n",
    "#print(rootdir)\n",
    "file_names = []\n",
    "for root, dirs, files in os.walk(path+rootdir,topdown = True):\n",
    "    dirs[:] = [d for d in dirs if directory_check.match(d)]\n",
    "    for file in files:\n",
    "        if regex.match(file):\n",
    "            file_names.append(root+file)"
   ]
  },
  {
   "cell_type": "code",
   "execution_count": 10,
   "id": "2b1159d3-b78d-4a85-a103-f6439cd57777",
   "metadata": {},
   "outputs": [
    {
     "data": {
      "text/plain": [
       "['/afs/cern.ch/user/k/kmalirz/pythium/Skl_Data/test12345.h5']"
      ]
     },
     "execution_count": 10,
     "metadata": {},
     "output_type": "execute_result"
    }
   ],
   "source": [
    "file_names"
   ]
  },
  {
   "cell_type": "code",
   "execution_count": 11,
   "id": "f59cb1ae-af78-4746-bde5-ed30f6902860",
   "metadata": {},
   "outputs": [],
   "source": [
    "h_names = []\n",
    "file_names = []\n",
    "temp = pd.read_hdf(\"Skl_Data/test12345.h5\")"
   ]
  },
  {
   "cell_type": "code",
   "execution_count": 12,
   "id": "f28371ae-eb50-4847-8532-5137bcb6d672",
   "metadata": {},
   "outputs": [
    {
     "data": {
      "text/plain": [
       "['leptons_pt', 'jets_pt', 'weight_mc', 'runNumber', 'BDT']"
      ]
     },
     "execution_count": 12,
     "metadata": {},
     "output_type": "execute_result"
    }
   ],
   "source": [
    "list(temp.columns)"
   ]
  },
  {
   "cell_type": "code",
   "execution_count": 13,
   "id": "6cff4f76-a919-41ee-9aef-85df0c34c227",
   "metadata": {},
   "outputs": [
    {
     "name": "stdout",
     "output_type": "stream",
     "text": [
      "CPU times: user 13 µs, sys: 6 µs, total: 19 µs\n",
      "Wall time: 23.1 µs\n"
     ]
    }
   ],
   "source": [
    "%%time\n",
    "x = []\n",
    "for i in range(0,50):\n",
    "    x.append(temp)"
   ]
  },
  {
   "cell_type": "code",
   "execution_count": 14,
   "id": "a8ff5822-bf3f-45f6-a23e-93d044ab572a",
   "metadata": {},
   "outputs": [
    {
     "name": "stdout",
     "output_type": "stream",
     "text": [
      "CPU times: user 402 ms, sys: 888 ms, total: 1.29 s\n",
      "Wall time: 1.27 s\n"
     ]
    }
   ],
   "source": [
    "%%time\n",
    "temp = pd.concat(x,ignore_index=False,sort = False)"
   ]
  },
  {
   "cell_type": "code",
   "execution_count": 15,
   "id": "46046d86-72f0-4479-8f71-fa5b7e5c22e5",
   "metadata": {},
   "outputs": [
    {
     "name": "stdout",
     "output_type": "stream",
     "text": [
      "CPU times: user 9 µs, sys: 7 µs, total: 16 µs\n",
      "Wall time: 19.1 µs\n"
     ]
    }
   ],
   "source": [
    "%%time\n",
    "for i in range(0,8):\n",
    "    h_names.append(f\"h{i}\")\n",
    "    file_names.append(f\"test{i}.h5\")\n",
    "    #if os.path.isfile(f\"/eos/user/k/kmalirz/test{i}.pkl\"): os.remove(f\"/eos/user/k/kmalirz/test{i}.pkl\")\n",
    "    #if os.path.isfile(f\"/eos/user/k/kmalirz/test{i}.h5\"): os.remove(f\"/eos/user/k/kmalirz/test{i}.h5\")\n",
    "    #temp.to_hdf(f\"/eos/user/k/kmalirz/test{i}.h5\", key='branches')\n",
    "    #temp.to_pickle(f\"/eos/user/k/kmalirz/test{i}.pkl\")"
   ]
  },
  {
   "cell_type": "code",
   "execution_count": 16,
   "id": "591e3859-be71-44c0-897d-09d6e5386186",
   "metadata": {},
   "outputs": [
    {
     "data": {
      "text/plain": [
       "['test0.h5',\n",
       " 'test1.h5',\n",
       " 'test2.h5',\n",
       " 'test3.h5',\n",
       " 'test4.h5',\n",
       " 'test5.h5',\n",
       " 'test6.h5',\n",
       " 'test7.h5']"
      ]
     },
     "execution_count": 16,
     "metadata": {},
     "output_type": "execute_result"
    }
   ],
   "source": [
    "file_names"
   ]
  },
  {
   "cell_type": "code",
   "execution_count": 17,
   "id": "096003f1-2305-4d10-b0b6-576f013f3d0e",
   "metadata": {},
   "outputs": [],
   "source": [
    "histogramming = sf.HistoMaker()"
   ]
  },
  {
   "cell_type": "code",
   "execution_count": 18,
   "id": "735ae53f-c0cc-418e-8a9c-348e56793ff3",
   "metadata": {},
   "outputs": [],
   "source": [
    "client = histogramming.client_start(n_workers = 8,memory_limit='2GB',threads_per_worker=1)"
   ]
  },
  {
   "cell_type": "code",
   "execution_count": 19,
   "id": "385226d7-a6dd-4c58-b2af-aff476d42a24",
   "metadata": {},
   "outputs": [
    {
     "data": {
      "text/html": [
       "<table style=\"border: 2px solid white;\">\n",
       "<tr>\n",
       "<td style=\"vertical-align: top; border: 0px solid white\">\n",
       "<h3 style=\"text-align: left;\">Client</h3>\n",
       "<ul style=\"text-align: left; list-style: none; margin: 0; padding: 0;\">\n",
       "  <li><b>Scheduler: </b>tcp://127.0.0.1:44893</li>\n",
       "  <li><b>Dashboard: </b><a href='http://127.0.0.1:8787/status' target='_blank'>http://127.0.0.1:8787/status</a></li>\n",
       "</ul>\n",
       "</td>\n",
       "<td style=\"vertical-align: top; border: 0px solid white\">\n",
       "<h3 style=\"text-align: left;\">Cluster</h3>\n",
       "<ul style=\"text-align: left; list-style:none; margin: 0; padding: 0;\">\n",
       "  <li><b>Workers: </b>8</li>\n",
       "  <li><b>Cores: </b>8</li>\n",
       "  <li><b>Memory: </b>16.00 GB</li>\n",
       "</ul>\n",
       "</td>\n",
       "</tr>\n",
       "</table>"
      ],
      "text/plain": [
       "<Client: 'tcp://127.0.0.1:44893' processes=8 threads=8, memory=16.00 GB>"
      ]
     },
     "execution_count": 19,
     "metadata": {},
     "output_type": "execute_result"
    }
   ],
   "source": [
    "client"
   ]
  },
  {
   "cell_type": "code",
   "execution_count": 20,
   "id": "3495c5a5-f09f-4fce-a8f7-6911e5360c21",
   "metadata": {},
   "outputs": [
    {
     "data": {
      "text/plain": [
       "50"
      ]
     },
     "execution_count": 20,
     "metadata": {},
     "output_type": "execute_result"
    }
   ],
   "source": [
    "\n",
    "len(x)"
   ]
  },
  {
   "cell_type": "code",
   "execution_count": 21,
   "id": "5d03daa9-2327-4152-a648-4b2cbc893847",
   "metadata": {},
   "outputs": [],
   "source": [
    "\n",
    "x = histogramming.create_file_list(top_directory = '/eos/atlas/atlascerngroupdisk/perf-jets/JSS/WTopBackgroundSF2019/UFO_test/slimmed_SEP_v1/')"
   ]
  },
  {
   "cell_type": "code",
   "execution_count": 22,
   "id": "3f179e08-f3db-448b-8c42-522e5adc71bf",
   "metadata": {},
   "outputs": [],
   "source": [
    "data = histogramming.load_pkl(x[0])"
   ]
  },
  {
   "cell_type": "code",
   "execution_count": 23,
   "id": "ffd567e2-eb0f-4041-971f-d244552994e5",
   "metadata": {},
   "outputs": [
    {
     "data": {
      "text/plain": [
       "{'rljet_pt_comb': Regular(20, 300000, 600000, name='x', label='$p_{T}$[MeV]'),\n",
       " 'rljet_m_comb[:,0]': Regular(20, 50000, 500000, name='x', label='m [MeV]'),\n",
       " 'rljet_Angularity': Regular(20, 0, 0.1, name='x', label='Angularity'),\n",
       " 'rljet_Aplanarity': Regular(20, 0, 1, name='x', label='Aplanarity'),\n",
       " 'rljet_C2': Regular(20, 0, 1, name='x', label='$C_{2}$'),\n",
       " 'rljet_D2': Regular(20, 0, 6, name='x', label='$D_{2}$'),\n",
       " 'rljet_Dip12': Regular(20, 0, 2, name='x', label='Dip12'),\n",
       " 'rljet_ECF1': Regular(20, 0, 1e+07, name='x', label='ECF$_{1}$'),\n",
       " 'rljet_ECF2': Regular(20, 0, 1e+12, name='x', label='ECF$_{2}$'),\n",
       " 'rljet_ECF3': Regular(20, 0, 1e+17, name='x', label='ECF$_{3}$'),\n",
       " 'rljet_FoxWolfram0': Regular(20, 0, 1, name='x', label='FoxWolfram0'),\n",
       " 'rljet_FoxWolfram2': Regular(20, 0, 1, name='x', label='FoxWolfram2'),\n",
       " 'rljet_KtDR': Regular(20, 0, 6, name='x', label='KtDR'),\n",
       " 'rljet_Mu12': Regular(20, 0, 1, name='x', label='Mu12'),\n",
       " 'rljet_L1': Regular(20, 0, 1, name='x', label='$L_{1}$'),\n",
       " 'rljet_L2': Regular(20, 0, 1, name='x', label='$L_{2}$'),\n",
       " 'rljet_L3': Regular(20, 0, 1, name='x', label='$L_{3}$'),\n",
       " 'rljet_L4': Regular(20, 0, 5, name='x', label='$L_{4}$'),\n",
       " 'rljet_N2': Regular(20, 0, 1, name='x', label='$N_{2}$'),\n",
       " 'rljet_PlanarFlow': Regular(20, 0, 2, name='x', label='PlanarFlow'),\n",
       " 'rljet_Qw': Regular(20, 0, 1e+06, name='x', label='$Q_{w}$'),\n",
       " 'rljet_Sphericity': Regular(20, 0, 1, name='x', label='Sphericity'),\n",
       " 'rljet_Split12': Regular(20, 0, 1e+06, name='x', label='$sqrt{12}$'),\n",
       " 'rljet_Split23': Regular(20, 0, 1e+06, name='x', label='$sqrt{23}$'),\n",
       " 'rljet_Split34': Regular(20, 0, 1e+06, name='x', label='$sqrt{34}$'),\n",
       " 'rljet_Tau1_wta': Regular(20, 0, 1, name='x', label='$\\\\tau_{1}$'),\n",
       " 'rljet_Tau2_wta': Regular(20, 0, 1, name='x', label='$\\\\tau_{2}$'),\n",
       " 'rljet_Tau32_wta': Regular(20, 0, 1, name='x', label='$\\\\tau_{32}$'),\n",
       " 'rljet_Tau3_wta': Regular(20, 0, 1, name='x', label='$\\\\tau_{3}$'),\n",
       " 'rljet_Tau42_wta': Regular(20, 0, 1, name='x', label='$\\\\tau_{42}$'),\n",
       " 'rljet_Tau4_wta': Regular(20, 0, 1, name='x', label='$\\\\tau{4}$'),\n",
       " 'rljet_ThrustMaj': Regular(20, 0, 1, name='x', label='ThrustMaj'),\n",
       " 'rljet_ThrustMin': Regular(20, 0, 1, name='x', label='ThrustMin'),\n",
       " 'rljet_ZCut12': Regular(20, 0, 1, name='x', label='ZCut12'),\n",
       " 'rljet_n_constituents': Regular(20, 0, 200, name='x', label='$n_{const.}$'),\n",
       " 'rljet_ungroomed_ntrk500': Regular(20, 0, 100, name='x', label='$N_{trk,500}$')}"
      ]
     },
     "execution_count": 23,
     "metadata": {},
     "output_type": "execute_result"
    }
   ],
   "source": [
    "histogramming.histogram_variables"
   ]
  },
  {
   "cell_type": "code",
   "execution_count": null,
   "id": "1a61717a-1f8f-494a-9d7a-e006e1d6e4c6",
   "metadata": {},
   "outputs": [],
   "source": []
  },
  {
   "cell_type": "code",
   "execution_count": 24,
   "id": "95daa4e8-f7bd-4fd3-9aa0-cc2f16779c62",
   "metadata": {},
   "outputs": [],
   "source": [
    "output = dask.compute(histogramming.fill(data,histogramming.histogram_variables))"
   ]
  },
  {
   "cell_type": "code",
   "execution_count": 25,
   "id": "3e7926c2-cd79-4016-88dd-2fc9b98aad6a",
   "metadata": {},
   "outputs": [
    {
     "data": {
      "text/html": [
       "<html>\n",
       "<div style=\"display:flex; align-items:center;\">\n",
       "<div style=\"width:290px;\">\n",
       "<svg xmlns=\"http://www.w3.org/2000/svg\" viewBox=\"-10 -105 270 120\">\n",
       "<line x1=\"-5\" y1=\"0\" x2=\"255\" y2=\"0\" style=\"fill:none;stroke-width:2;stroke:currentColor\"/>\n",
       "<text text-anchor=\"middle\" x=\"0\" y=\"15\" style=\"fill:currentColor;\">\n",
       "0\n",
       "</text>\n",
       "<text text-anchor=\"middle\" x=\"250\" y=\"15\" style=\"fill:currentColor;\">\n",
       "1\n",
       "</text>\n",
       "<text text-anchor=\"middle\" x=\"125.0\" y=\"15\" style=\"fill:currentColor;\">\n",
       "$L_{1}$\n",
       "</text>\n",
       "<polyline points=\"  0,0   0,-21.8 12.5,-21.8 12.5,-100  25,-100  25,-56.5 37.5,-56.5 37.5,-1.23  50,-1.23  50,-0 62.5,-0 62.5,-0  75,-0  75,-0 87.5,-0 87.5,-0 100,-0 100,-0 112.5,-0 112.5,-0 125,-0 125,-0 137.5,-0 137.5,-0 150,-0 150,-0 162.5,-0 162.5,-0 175,-0 175,-0 187.5,-0 187.5,-0 200,-0 200,-0 212.5,-0 212.5,-0 225,-0 225,-0 237.5,-0 237.5,-0 250,-0 250,0\" style=\"fill:none; stroke:currentColor;\"/>\n",
       "</svg>\n",
       "</div>\n",
       "<div style=\"flex=grow:1;\">\n",
       "Regular(20, 0, 1, name='x', label='$L_{1}$')<br/>\n",
       "<hr style=\"margin-top:.2em; margin-bottom:.2em;\"/>\n",
       "Double() Σ=27047.0\n",
       "\n",
       "</div>\n",
       "</div>\n",
       "</html>"
      ],
      "text/plain": [
       "Hist(Regular(20, 0, 1, name='x', label='$L_{1}$'), storage=Double()) # Sum: 27047.0"
      ]
     },
     "execution_count": 25,
     "metadata": {},
     "output_type": "execute_result"
    }
   ],
   "source": [
    "output[0][4]"
   ]
  },
  {
   "cell_type": "code",
   "execution_count": 26,
   "id": "7eb77f7d-a3a8-4dc8-a774-28c2d39607fa",
   "metadata": {},
   "outputs": [
    {
     "data": {
      "image/png": "[encoded data removed]",
      "text/plain": [
       "<IPython.core.display.Image object>"
      ]
     },
     "execution_count": 26,
     "metadata": {},
     "output_type": "execute_result"
    }
   ],
   "source": [
    "dask.visualize(histogramming.load_and_fill(file_list = x[:10]))"
   ]
  },
  {
   "cell_type": "code",
   "execution_count": 27,
   "id": "11209538-7caf-4fd8-8d02-ec4c52f189e3",
   "metadata": {},
   "outputs": [],
   "source": [
    "temp = pd.read_pickle(x[2000])"
   ]
  },
  {
   "cell_type": "code",
   "execution_count": 28,
   "id": "c8770497-efbb-4b78-a01e-03425c133c21",
   "metadata": {},
   "outputs": [
    {
     "data": {
      "text/html": [
       "<div>\n",
       "<style scoped>\n",
       "    .dataframe tbody tr th:only-of-type {\n",
       "        vertical-align: middle;\n",
       "    }\n",
       "\n",
       "    .dataframe tbody tr th {\n",
       "        vertical-align: top;\n",
       "    }\n",
       "\n",
       "    .dataframe thead th {\n",
       "        text-align: right;\n",
       "    }\n",
       "</style>\n",
       "<table border=\"1\" class=\"dataframe\">\n",
       "  <thead>\n",
       "    <tr style=\"text-align: right;\">\n",
       "      <th></th>\n",
       "      <th></th>\n",
       "      <th>rljet_L4</th>\n",
       "      <th>rljet_L5</th>\n",
       "      <th>rljet_L2</th>\n",
       "      <th>rljet_topTag_DNN20_TausRatio_inclusive_score</th>\n",
       "      <th>rljet_topTag_DNN20_TausRatio_qqb_score</th>\n",
       "      <th>rljet_pt_comb</th>\n",
       "      <th>rljet_M2</th>\n",
       "      <th>rljet_L3</th>\n",
       "      <th>rljet_L1</th>\n",
       "      <th>rljet_topTag_DNN20_qqb_score</th>\n",
       "      <th>rljet_topTag_DNN19_qqb_score</th>\n",
       "      <th>rljet_topTag_DNN19_inclusive_score</th>\n",
       "      <th>rljet_D2</th>\n",
       "      <th>rljet_N3</th>\n",
       "      <th>rljet_N2</th>\n",
       "      <th>rljet_topTag_DNN20_inclusive_score</th>\n",
       "      <th>rljet_ungroomed_ntrk500</th>\n",
       "      <th>rljet_m_comb[:,0]</th>\n",
       "    </tr>\n",
       "    <tr>\n",
       "      <th>entry</th>\n",
       "      <th>subentry</th>\n",
       "      <th></th>\n",
       "      <th></th>\n",
       "      <th></th>\n",
       "      <th></th>\n",
       "      <th></th>\n",
       "      <th></th>\n",
       "      <th></th>\n",
       "      <th></th>\n",
       "      <th></th>\n",
       "      <th></th>\n",
       "      <th></th>\n",
       "      <th></th>\n",
       "      <th></th>\n",
       "      <th></th>\n",
       "      <th></th>\n",
       "      <th></th>\n",
       "      <th></th>\n",
       "      <th></th>\n",
       "    </tr>\n",
       "  </thead>\n",
       "  <tbody>\n",
       "    <tr>\n",
       "      <th>0</th>\n",
       "      <th>0</th>\n",
       "      <td>1.478220</td>\n",
       "      <td>0.173853</td>\n",
       "      <td>0.142326</td>\n",
       "      <td>0.233609</td>\n",
       "      <td>0.028133</td>\n",
       "      <td>234297.921875</td>\n",
       "      <td>0.058569</td>\n",
       "      <td>0.049985</td>\n",
       "      <td>0.052006</td>\n",
       "      <td>0.008996</td>\n",
       "      <td>0.144268</td>\n",
       "      <td>0.305211</td>\n",
       "      <td>1.608747</td>\n",
       "      <td>2.194288</td>\n",
       "      <td>0.261934</td>\n",
       "      <td>0.318813</td>\n",
       "      <td>25</td>\n",
       "      <td>77868.570312</td>\n",
       "    </tr>\n",
       "    <tr>\n",
       "      <th>1</th>\n",
       "      <th>0</th>\n",
       "      <td>1.159872</td>\n",
       "      <td>0.182679</td>\n",
       "      <td>0.198222</td>\n",
       "      <td>0.065824</td>\n",
       "      <td>0.028205</td>\n",
       "      <td>533714.125000</td>\n",
       "      <td>0.098365</td>\n",
       "      <td>0.097097</td>\n",
       "      <td>0.096210</td>\n",
       "      <td>0.039847</td>\n",
       "      <td>0.186804</td>\n",
       "      <td>0.116970</td>\n",
       "      <td>1.039699</td>\n",
       "      <td>1.467166</td>\n",
       "      <td>0.290440</td>\n",
       "      <td>0.073059</td>\n",
       "      <td>53</td>\n",
       "      <td>256805.593750</td>\n",
       "    </tr>\n",
       "    <tr>\n",
       "      <th>2</th>\n",
       "      <th>0</th>\n",
       "      <td>1.424379</td>\n",
       "      <td>0.212927</td>\n",
       "      <td>0.246536</td>\n",
       "      <td>0.084335</td>\n",
       "      <td>0.009025</td>\n",
       "      <td>234563.500000</td>\n",
       "      <td>0.091785</td>\n",
       "      <td>0.067575</td>\n",
       "      <td>0.079675</td>\n",
       "      <td>0.009816</td>\n",
       "      <td>0.098301</td>\n",
       "      <td>0.111656</td>\n",
       "      <td>2.505868</td>\n",
       "      <td>1.881467</td>\n",
       "      <td>0.373857</td>\n",
       "      <td>0.062968</td>\n",
       "      <td>19</td>\n",
       "      <td>77142.257812</td>\n",
       "    </tr>\n",
       "    <tr>\n",
       "      <th>3</th>\n",
       "      <th>0</th>\n",
       "      <td>1.553125</td>\n",
       "      <td>0.290454</td>\n",
       "      <td>0.179543</td>\n",
       "      <td>0.515852</td>\n",
       "      <td>0.180849</td>\n",
       "      <td>237934.281250</td>\n",
       "      <td>0.078671</td>\n",
       "      <td>0.072736</td>\n",
       "      <td>0.074003</td>\n",
       "      <td>0.074075</td>\n",
       "      <td>0.298814</td>\n",
       "      <td>0.515191</td>\n",
       "      <td>1.265350</td>\n",
       "      <td>1.748846</td>\n",
       "      <td>0.272025</td>\n",
       "      <td>0.525609</td>\n",
       "      <td>19</td>\n",
       "      <td>97159.187500</td>\n",
       "    </tr>\n",
       "    <tr>\n",
       "      <th>4</th>\n",
       "      <th>0</th>\n",
       "      <td>1.127484</td>\n",
       "      <td>0.339977</td>\n",
       "      <td>0.298020</td>\n",
       "      <td>0.384343</td>\n",
       "      <td>0.175337</td>\n",
       "      <td>257513.250000</td>\n",
       "      <td>0.152028</td>\n",
       "      <td>0.136176</td>\n",
       "      <td>0.135310</td>\n",
       "      <td>0.660136</td>\n",
       "      <td>0.783664</td>\n",
       "      <td>0.736589</td>\n",
       "      <td>1.391467</td>\n",
       "      <td>1.362434</td>\n",
       "      <td>0.377992</td>\n",
       "      <td>0.562129</td>\n",
       "      <td>40</td>\n",
       "      <td>169429.921875</td>\n",
       "    </tr>\n",
       "    <tr>\n",
       "      <th>...</th>\n",
       "      <th>...</th>\n",
       "      <td>...</td>\n",
       "      <td>...</td>\n",
       "      <td>...</td>\n",
       "      <td>...</td>\n",
       "      <td>...</td>\n",
       "      <td>...</td>\n",
       "      <td>...</td>\n",
       "      <td>...</td>\n",
       "      <td>...</td>\n",
       "      <td>...</td>\n",
       "      <td>...</td>\n",
       "      <td>...</td>\n",
       "      <td>...</td>\n",
       "      <td>...</td>\n",
       "      <td>...</td>\n",
       "      <td>...</td>\n",
       "      <td>...</td>\n",
       "      <td>...</td>\n",
       "    </tr>\n",
       "    <tr>\n",
       "      <th>5554</th>\n",
       "      <th>0</th>\n",
       "      <td>1.242116</td>\n",
       "      <td>0.224202</td>\n",
       "      <td>0.217022</td>\n",
       "      <td>0.134496</td>\n",
       "      <td>0.031480</td>\n",
       "      <td>272262.781250</td>\n",
       "      <td>0.098071</td>\n",
       "      <td>0.081542</td>\n",
       "      <td>0.085398</td>\n",
       "      <td>0.033329</td>\n",
       "      <td>0.242306</td>\n",
       "      <td>0.195403</td>\n",
       "      <td>1.739679</td>\n",
       "      <td>1.758764</td>\n",
       "      <td>0.342052</td>\n",
       "      <td>0.169166</td>\n",
       "      <td>22</td>\n",
       "      <td>113011.375000</td>\n",
       "    </tr>\n",
       "    <tr>\n",
       "      <th>5555</th>\n",
       "      <th>0</th>\n",
       "      <td>1.908339</td>\n",
       "      <td>0.368705</td>\n",
       "      <td>0.236607</td>\n",
       "      <td>0.146140</td>\n",
       "      <td>0.021759</td>\n",
       "      <td>210497.765625</td>\n",
       "      <td>0.071563</td>\n",
       "      <td>0.049858</td>\n",
       "      <td>0.069407</td>\n",
       "      <td>0.052708</td>\n",
       "      <td>0.084438</td>\n",
       "      <td>0.040196</td>\n",
       "      <td>2.957101</td>\n",
       "      <td>2.540267</td>\n",
       "      <td>0.373789</td>\n",
       "      <td>0.456937</td>\n",
       "      <td>22</td>\n",
       "      <td>68926.210938</td>\n",
       "    </tr>\n",
       "    <tr>\n",
       "      <th>5556</th>\n",
       "      <th>0</th>\n",
       "      <td>1.231826</td>\n",
       "      <td>0.254990</td>\n",
       "      <td>0.271303</td>\n",
       "      <td>0.090766</td>\n",
       "      <td>0.011847</td>\n",
       "      <td>224611.203125</td>\n",
       "      <td>0.110704</td>\n",
       "      <td>0.089852</td>\n",
       "      <td>0.102500</td>\n",
       "      <td>0.011317</td>\n",
       "      <td>0.026447</td>\n",
       "      <td>0.075495</td>\n",
       "      <td>1.870320</td>\n",
       "      <td>1.654624</td>\n",
       "      <td>0.371276</td>\n",
       "      <td>0.065832</td>\n",
       "      <td>22</td>\n",
       "      <td>56957.425781</td>\n",
       "    </tr>\n",
       "    <tr>\n",
       "      <th>5557</th>\n",
       "      <th>0</th>\n",
       "      <td>1.010213</td>\n",
       "      <td>0.219567</td>\n",
       "      <td>0.172713</td>\n",
       "      <td>0.726830</td>\n",
       "      <td>0.306968</td>\n",
       "      <td>263737.625000</td>\n",
       "      <td>0.090480</td>\n",
       "      <td>0.091103</td>\n",
       "      <td>0.078331</td>\n",
       "      <td>0.117074</td>\n",
       "      <td>0.132033</td>\n",
       "      <td>0.583094</td>\n",
       "      <td>0.979621</td>\n",
       "      <td>1.397416</td>\n",
       "      <td>0.249129</td>\n",
       "      <td>0.646315</td>\n",
       "      <td>23</td>\n",
       "      <td>68391.976562</td>\n",
       "    </tr>\n",
       "    <tr>\n",
       "      <th>5558</th>\n",
       "      <th>0</th>\n",
       "      <td>1.184492</td>\n",
       "      <td>0.182953</td>\n",
       "      <td>0.132174</td>\n",
       "      <td>0.709767</td>\n",
       "      <td>0.488743</td>\n",
       "      <td>396004.343750</td>\n",
       "      <td>0.066094</td>\n",
       "      <td>0.069141</td>\n",
       "      <td>0.058820</td>\n",
       "      <td>0.255330</td>\n",
       "      <td>0.225450</td>\n",
       "      <td>0.637718</td>\n",
       "      <td>0.873530</td>\n",
       "      <td>1.621740</td>\n",
       "      <td>0.207146</td>\n",
       "      <td>0.663421</td>\n",
       "      <td>29</td>\n",
       "      <td>104145.687500</td>\n",
       "    </tr>\n",
       "  </tbody>\n",
       "</table>\n",
       "<p>5559 rows × 18 columns</p>\n",
       "</div>"
      ],
      "text/plain": [
       "                rljet_L4  rljet_L5  rljet_L2  \\\n",
       "entry subentry                                 \n",
       "0     0         1.478220  0.173853  0.142326   \n",
       "1     0         1.159872  0.182679  0.198222   \n",
       "2     0         1.424379  0.212927  0.246536   \n",
       "3     0         1.553125  0.290454  0.179543   \n",
       "4     0         1.127484  0.339977  0.298020   \n",
       "...                  ...       ...       ...   \n",
       "5554  0         1.242116  0.224202  0.217022   \n",
       "5555  0         1.908339  0.368705  0.236607   \n",
       "5556  0         1.231826  0.254990  0.271303   \n",
       "5557  0         1.010213  0.219567  0.172713   \n",
       "5558  0         1.184492  0.182953  0.132174   \n",
       "\n",
       "                rljet_topTag_DNN20_TausRatio_inclusive_score  \\\n",
       "entry subentry                                                 \n",
       "0     0                                             0.233609   \n",
       "1     0                                             0.065824   \n",
       "2     0                                             0.084335   \n",
       "3     0                                             0.515852   \n",
       "4     0                                             0.384343   \n",
       "...                                                      ...   \n",
       "5554  0                                             0.134496   \n",
       "5555  0                                             0.146140   \n",
       "5556  0                                             0.090766   \n",
       "5557  0                                             0.726830   \n",
       "5558  0                                             0.709767   \n",
       "\n",
       "                rljet_topTag_DNN20_TausRatio_qqb_score  rljet_pt_comb  \\\n",
       "entry subentry                                                          \n",
       "0     0                                       0.028133  234297.921875   \n",
       "1     0                                       0.028205  533714.125000   \n",
       "2     0                                       0.009025  234563.500000   \n",
       "3     0                                       0.180849  237934.281250   \n",
       "4     0                                       0.175337  257513.250000   \n",
       "...                                                ...            ...   \n",
       "5554  0                                       0.031480  272262.781250   \n",
       "5555  0                                       0.021759  210497.765625   \n",
       "5556  0                                       0.011847  224611.203125   \n",
       "5557  0                                       0.306968  263737.625000   \n",
       "5558  0                                       0.488743  396004.343750   \n",
       "\n",
       "                rljet_M2  rljet_L3  rljet_L1  rljet_topTag_DNN20_qqb_score  \\\n",
       "entry subentry                                                               \n",
       "0     0         0.058569  0.049985  0.052006                      0.008996   \n",
       "1     0         0.098365  0.097097  0.096210                      0.039847   \n",
       "2     0         0.091785  0.067575  0.079675                      0.009816   \n",
       "3     0         0.078671  0.072736  0.074003                      0.074075   \n",
       "4     0         0.152028  0.136176  0.135310                      0.660136   \n",
       "...                  ...       ...       ...                           ...   \n",
       "5554  0         0.098071  0.081542  0.085398                      0.033329   \n",
       "5555  0         0.071563  0.049858  0.069407                      0.052708   \n",
       "5556  0         0.110704  0.089852  0.102500                      0.011317   \n",
       "5557  0         0.090480  0.091103  0.078331                      0.117074   \n",
       "5558  0         0.066094  0.069141  0.058820                      0.255330   \n",
       "\n",
       "                rljet_topTag_DNN19_qqb_score  \\\n",
       "entry subentry                                 \n",
       "0     0                             0.144268   \n",
       "1     0                             0.186804   \n",
       "2     0                             0.098301   \n",
       "3     0                             0.298814   \n",
       "4     0                             0.783664   \n",
       "...                                      ...   \n",
       "5554  0                             0.242306   \n",
       "5555  0                             0.084438   \n",
       "5556  0                             0.026447   \n",
       "5557  0                             0.132033   \n",
       "5558  0                             0.225450   \n",
       "\n",
       "                rljet_topTag_DNN19_inclusive_score  rljet_D2  rljet_N3  \\\n",
       "entry subentry                                                           \n",
       "0     0                                   0.305211  1.608747  2.194288   \n",
       "1     0                                   0.116970  1.039699  1.467166   \n",
       "2     0                                   0.111656  2.505868  1.881467   \n",
       "3     0                                   0.515191  1.265350  1.748846   \n",
       "4     0                                   0.736589  1.391467  1.362434   \n",
       "...                                            ...       ...       ...   \n",
       "5554  0                                   0.195403  1.739679  1.758764   \n",
       "5555  0                                   0.040196  2.957101  2.540267   \n",
       "5556  0                                   0.075495  1.870320  1.654624   \n",
       "5557  0                                   0.583094  0.979621  1.397416   \n",
       "5558  0                                   0.637718  0.873530  1.621740   \n",
       "\n",
       "                rljet_N2  rljet_topTag_DNN20_inclusive_score  \\\n",
       "entry subentry                                                 \n",
       "0     0         0.261934                            0.318813   \n",
       "1     0         0.290440                            0.073059   \n",
       "2     0         0.373857                            0.062968   \n",
       "3     0         0.272025                            0.525609   \n",
       "4     0         0.377992                            0.562129   \n",
       "...                  ...                                 ...   \n",
       "5554  0         0.342052                            0.169166   \n",
       "5555  0         0.373789                            0.456937   \n",
       "5556  0         0.371276                            0.065832   \n",
       "5557  0         0.249129                            0.646315   \n",
       "5558  0         0.207146                            0.663421   \n",
       "\n",
       "                rljet_ungroomed_ntrk500  rljet_m_comb[:,0]  \n",
       "entry subentry                                              \n",
       "0     0                              25       77868.570312  \n",
       "1     0                              53      256805.593750  \n",
       "2     0                              19       77142.257812  \n",
       "3     0                              19       97159.187500  \n",
       "4     0                              40      169429.921875  \n",
       "...                                 ...                ...  \n",
       "5554  0                              22      113011.375000  \n",
       "5555  0                              22       68926.210938  \n",
       "5556  0                              22       56957.425781  \n",
       "5557  0                              23       68391.976562  \n",
       "5558  0                              29      104145.687500  \n",
       "\n",
       "[5559 rows x 18 columns]"
      ]
     },
     "execution_count": 28,
     "metadata": {},
     "output_type": "execute_result"
    }
   ],
   "source": [
    "temp"
   ]
  },
  {
   "cell_type": "code",
   "execution_count": 29,
   "id": "1c4d3eea-d208-407c-9586-bd060da7018b",
   "metadata": {},
   "outputs": [],
   "source": [
    "#%%time\n",
    "#temp = dask.compute(histogramming.load_and_fill(data_column = 'rljet_pt_comb',file_list = x[:200]))"
   ]
  },
  {
   "cell_type": "code",
   "execution_count": 30,
   "id": "34f7609b-8edf-4085-9809-d21fa045af3f",
   "metadata": {},
   "outputs": [
    {
     "name": "stderr",
     "output_type": "stream",
     "text": [
      "distributed.nanny - WARNING - Restarting worker\n",
      "distributed.nanny - WARNING - Restarting worker\n",
      "distributed.nanny - WARNING - Restarting worker\n",
      "distributed.nanny - WARNING - Restarting worker\n"
     ]
    },
    {
     "ename": "KeyboardInterrupt",
     "evalue": "",
     "output_type": "error",
     "traceback": [
      "\u001b[0;31m---------------------------------------------------------------------------\u001b[0m",
      "\u001b[0;31mKeyboardInterrupt\u001b[0m                         Traceback (most recent call last)",
      "\u001b[0;32m<timed exec>\u001b[0m in \u001b[0;36m<module>\u001b[0;34m\u001b[0m\n",
      "\u001b[0;32m~/pythium/storage_functions.py\u001b[0m in \u001b[0;36mcompute_histograms\u001b[0;34m(self, data_column, chunk_size, file_list, **kwargs)\u001b[0m\n\u001b[1;32m    100\u001b[0m                 \u001b[0mfile_chunk\u001b[0m \u001b[0;34m=\u001b[0m \u001b[0mfile_list\u001b[0m\u001b[0;34m[\u001b[0m\u001b[0mi\u001b[0m\u001b[0;34m*\u001b[0m\u001b[0mchunk_size\u001b[0m\u001b[0;34m:\u001b[0m\u001b[0;34m(\u001b[0m\u001b[0mi\u001b[0m\u001b[0;34m+\u001b[0m\u001b[0;36m1\u001b[0m\u001b[0;34m)\u001b[0m\u001b[0;34m*\u001b[0m\u001b[0mchunk_size\u001b[0m\u001b[0;34m-\u001b[0m\u001b[0;36m1\u001b[0m\u001b[0;34m]\u001b[0m\u001b[0;34m\u001b[0m\u001b[0;34m\u001b[0m\u001b[0m\n\u001b[1;32m    101\u001b[0m \u001b[0;34m\u001b[0m\u001b[0m\n\u001b[0;32m--> 102\u001b[0;31m             \u001b[0mhistogram_chunk\u001b[0m \u001b[0;34m=\u001b[0m \u001b[0mdask\u001b[0m\u001b[0;34m.\u001b[0m\u001b[0mcompute\u001b[0m\u001b[0;34m(\u001b[0m\u001b[0mself\u001b[0m\u001b[0;34m.\u001b[0m\u001b[0mload_and_fill\u001b[0m\u001b[0;34m(\u001b[0m\u001b[0mfile_list\u001b[0m \u001b[0;34m=\u001b[0m \u001b[0mfile_chunk\u001b[0m\u001b[0;34m)\u001b[0m\u001b[0;34m)\u001b[0m\u001b[0;34m\u001b[0m\u001b[0;34m\u001b[0m\u001b[0m\n\u001b[0m\u001b[1;32m    103\u001b[0m \u001b[0;34m\u001b[0m\u001b[0m\n\u001b[1;32m    104\u001b[0m             \u001b[0;32mfor\u001b[0m \u001b[0mitem\u001b[0m \u001b[0;32min\u001b[0m \u001b[0mhistogram_chunk\u001b[0m\u001b[0;34m[\u001b[0m\u001b[0;36m0\u001b[0m\u001b[0;34m]\u001b[0m\u001b[0;34m:\u001b[0m\u001b[0;34m\u001b[0m\u001b[0;34m\u001b[0m\u001b[0m\n",
      "\u001b[0;32m~/test_env/lib64/python3.6/site-packages/dask/base.py\u001b[0m in \u001b[0;36mcompute\u001b[0;34m(*args, **kwargs)\u001b[0m\n\u001b[1;32m    563\u001b[0m         \u001b[0mpostcomputes\u001b[0m\u001b[0;34m.\u001b[0m\u001b[0mappend\u001b[0m\u001b[0;34m(\u001b[0m\u001b[0mx\u001b[0m\u001b[0;34m.\u001b[0m\u001b[0m__dask_postcompute__\u001b[0m\u001b[0;34m(\u001b[0m\u001b[0;34m)\u001b[0m\u001b[0;34m)\u001b[0m\u001b[0;34m\u001b[0m\u001b[0;34m\u001b[0m\u001b[0m\n\u001b[1;32m    564\u001b[0m \u001b[0;34m\u001b[0m\u001b[0m\n\u001b[0;32m--> 565\u001b[0;31m     \u001b[0mresults\u001b[0m \u001b[0;34m=\u001b[0m \u001b[0mschedule\u001b[0m\u001b[0;34m(\u001b[0m\u001b[0mdsk\u001b[0m\u001b[0;34m,\u001b[0m \u001b[0mkeys\u001b[0m\u001b[0;34m,\u001b[0m \u001b[0;34m**\u001b[0m\u001b[0mkwargs\u001b[0m\u001b[0;34m)\u001b[0m\u001b[0;34m\u001b[0m\u001b[0;34m\u001b[0m\u001b[0m\n\u001b[0m\u001b[1;32m    566\u001b[0m     \u001b[0;32mreturn\u001b[0m \u001b[0mrepack\u001b[0m\u001b[0;34m(\u001b[0m\u001b[0;34m[\u001b[0m\u001b[0mf\u001b[0m\u001b[0;34m(\u001b[0m\u001b[0mr\u001b[0m\u001b[0;34m,\u001b[0m \u001b[0;34m*\u001b[0m\u001b[0ma\u001b[0m\u001b[0;34m)\u001b[0m \u001b[0;32mfor\u001b[0m \u001b[0mr\u001b[0m\u001b[0;34m,\u001b[0m \u001b[0;34m(\u001b[0m\u001b[0mf\u001b[0m\u001b[0;34m,\u001b[0m \u001b[0ma\u001b[0m\u001b[0;34m)\u001b[0m \u001b[0;32min\u001b[0m \u001b[0mzip\u001b[0m\u001b[0;34m(\u001b[0m\u001b[0mresults\u001b[0m\u001b[0;34m,\u001b[0m \u001b[0mpostcomputes\u001b[0m\u001b[0;34m)\u001b[0m\u001b[0;34m]\u001b[0m\u001b[0;34m)\u001b[0m\u001b[0;34m\u001b[0m\u001b[0;34m\u001b[0m\u001b[0m\n\u001b[1;32m    567\u001b[0m \u001b[0;34m\u001b[0m\u001b[0m\n",
      "\u001b[0;32m~/test_env/lib64/python3.6/site-packages/distributed/client.py\u001b[0m in \u001b[0;36mget\u001b[0;34m(self, dsk, keys, workers, allow_other_workers, resources, sync, asynchronous, direct, retries, priority, fifo_timeout, actors, **kwargs)\u001b[0m\n\u001b[1;32m   2652\u001b[0m                     \u001b[0mshould_rejoin\u001b[0m \u001b[0;34m=\u001b[0m \u001b[0;32mFalse\u001b[0m\u001b[0;34m\u001b[0m\u001b[0;34m\u001b[0m\u001b[0m\n\u001b[1;32m   2653\u001b[0m             \u001b[0;32mtry\u001b[0m\u001b[0;34m:\u001b[0m\u001b[0;34m\u001b[0m\u001b[0;34m\u001b[0m\u001b[0m\n\u001b[0;32m-> 2654\u001b[0;31m                 \u001b[0mresults\u001b[0m \u001b[0;34m=\u001b[0m \u001b[0mself\u001b[0m\u001b[0;34m.\u001b[0m\u001b[0mgather\u001b[0m\u001b[0;34m(\u001b[0m\u001b[0mpacked\u001b[0m\u001b[0;34m,\u001b[0m \u001b[0masynchronous\u001b[0m\u001b[0;34m=\u001b[0m\u001b[0masynchronous\u001b[0m\u001b[0;34m,\u001b[0m \u001b[0mdirect\u001b[0m\u001b[0;34m=\u001b[0m\u001b[0mdirect\u001b[0m\u001b[0;34m)\u001b[0m\u001b[0;34m\u001b[0m\u001b[0;34m\u001b[0m\u001b[0m\n\u001b[0m\u001b[1;32m   2655\u001b[0m             \u001b[0;32mfinally\u001b[0m\u001b[0;34m:\u001b[0m\u001b[0;34m\u001b[0m\u001b[0;34m\u001b[0m\u001b[0m\n\u001b[1;32m   2656\u001b[0m                 \u001b[0;32mfor\u001b[0m \u001b[0mf\u001b[0m \u001b[0;32min\u001b[0m \u001b[0mfutures\u001b[0m\u001b[0;34m.\u001b[0m\u001b[0mvalues\u001b[0m\u001b[0;34m(\u001b[0m\u001b[0;34m)\u001b[0m\u001b[0;34m:\u001b[0m\u001b[0;34m\u001b[0m\u001b[0;34m\u001b[0m\u001b[0m\n",
      "\u001b[0;32m~/test_env/lib64/python3.6/site-packages/distributed/client.py\u001b[0m in \u001b[0;36mgather\u001b[0;34m(self, futures, errors, direct, asynchronous)\u001b[0m\n\u001b[1;32m   1967\u001b[0m                 \u001b[0mdirect\u001b[0m\u001b[0;34m=\u001b[0m\u001b[0mdirect\u001b[0m\u001b[0;34m,\u001b[0m\u001b[0;34m\u001b[0m\u001b[0;34m\u001b[0m\u001b[0m\n\u001b[1;32m   1968\u001b[0m                 \u001b[0mlocal_worker\u001b[0m\u001b[0;34m=\u001b[0m\u001b[0mlocal_worker\u001b[0m\u001b[0;34m,\u001b[0m\u001b[0;34m\u001b[0m\u001b[0;34m\u001b[0m\u001b[0m\n\u001b[0;32m-> 1969\u001b[0;31m                 \u001b[0masynchronous\u001b[0m\u001b[0;34m=\u001b[0m\u001b[0masynchronous\u001b[0m\u001b[0;34m,\u001b[0m\u001b[0;34m\u001b[0m\u001b[0;34m\u001b[0m\u001b[0m\n\u001b[0m\u001b[1;32m   1970\u001b[0m             )\n\u001b[1;32m   1971\u001b[0m \u001b[0;34m\u001b[0m\u001b[0m\n",
      "\u001b[0;32m~/test_env/lib64/python3.6/site-packages/distributed/client.py\u001b[0m in \u001b[0;36msync\u001b[0;34m(self, func, asynchronous, callback_timeout, *args, **kwargs)\u001b[0m\n\u001b[1;32m    836\u001b[0m         \u001b[0;32melse\u001b[0m\u001b[0;34m:\u001b[0m\u001b[0;34m\u001b[0m\u001b[0;34m\u001b[0m\u001b[0m\n\u001b[1;32m    837\u001b[0m             return sync(\n\u001b[0;32m--> 838\u001b[0;31m                 \u001b[0mself\u001b[0m\u001b[0;34m.\u001b[0m\u001b[0mloop\u001b[0m\u001b[0;34m,\u001b[0m \u001b[0mfunc\u001b[0m\u001b[0;34m,\u001b[0m \u001b[0;34m*\u001b[0m\u001b[0margs\u001b[0m\u001b[0;34m,\u001b[0m \u001b[0mcallback_timeout\u001b[0m\u001b[0;34m=\u001b[0m\u001b[0mcallback_timeout\u001b[0m\u001b[0;34m,\u001b[0m \u001b[0;34m**\u001b[0m\u001b[0mkwargs\u001b[0m\u001b[0;34m\u001b[0m\u001b[0;34m\u001b[0m\u001b[0m\n\u001b[0m\u001b[1;32m    839\u001b[0m             )\n\u001b[1;32m    840\u001b[0m \u001b[0;34m\u001b[0m\u001b[0m\n",
      "\u001b[0;32m~/test_env/lib64/python3.6/site-packages/distributed/utils.py\u001b[0m in \u001b[0;36msync\u001b[0;34m(loop, func, callback_timeout, *args, **kwargs)\u001b[0m\n\u001b[1;32m    346\u001b[0m     \u001b[0;32melse\u001b[0m\u001b[0;34m:\u001b[0m\u001b[0;34m\u001b[0m\u001b[0;34m\u001b[0m\u001b[0m\n\u001b[1;32m    347\u001b[0m         \u001b[0;32mwhile\u001b[0m \u001b[0;32mnot\u001b[0m \u001b[0me\u001b[0m\u001b[0;34m.\u001b[0m\u001b[0mis_set\u001b[0m\u001b[0;34m(\u001b[0m\u001b[0;34m)\u001b[0m\u001b[0;34m:\u001b[0m\u001b[0;34m\u001b[0m\u001b[0;34m\u001b[0m\u001b[0m\n\u001b[0;32m--> 348\u001b[0;31m             \u001b[0me\u001b[0m\u001b[0;34m.\u001b[0m\u001b[0mwait\u001b[0m\u001b[0;34m(\u001b[0m\u001b[0;36m10\u001b[0m\u001b[0;34m)\u001b[0m\u001b[0;34m\u001b[0m\u001b[0;34m\u001b[0m\u001b[0m\n\u001b[0m\u001b[1;32m    349\u001b[0m     \u001b[0;32mif\u001b[0m \u001b[0merror\u001b[0m\u001b[0;34m[\u001b[0m\u001b[0;36m0\u001b[0m\u001b[0;34m]\u001b[0m\u001b[0;34m:\u001b[0m\u001b[0;34m\u001b[0m\u001b[0;34m\u001b[0m\u001b[0m\n\u001b[1;32m    350\u001b[0m         \u001b[0mtyp\u001b[0m\u001b[0;34m,\u001b[0m \u001b[0mexc\u001b[0m\u001b[0;34m,\u001b[0m \u001b[0mtb\u001b[0m \u001b[0;34m=\u001b[0m \u001b[0merror\u001b[0m\u001b[0;34m[\u001b[0m\u001b[0;36m0\u001b[0m\u001b[0;34m]\u001b[0m\u001b[0;34m\u001b[0m\u001b[0;34m\u001b[0m\u001b[0m\n",
      "\u001b[0;32m/usr/lib64/python3.6/threading.py\u001b[0m in \u001b[0;36mwait\u001b[0;34m(self, timeout)\u001b[0m\n\u001b[1;32m    549\u001b[0m             \u001b[0msignaled\u001b[0m \u001b[0;34m=\u001b[0m \u001b[0mself\u001b[0m\u001b[0;34m.\u001b[0m\u001b[0m_flag\u001b[0m\u001b[0;34m\u001b[0m\u001b[0;34m\u001b[0m\u001b[0m\n\u001b[1;32m    550\u001b[0m             \u001b[0;32mif\u001b[0m \u001b[0;32mnot\u001b[0m \u001b[0msignaled\u001b[0m\u001b[0;34m:\u001b[0m\u001b[0;34m\u001b[0m\u001b[0;34m\u001b[0m\u001b[0m\n\u001b[0;32m--> 551\u001b[0;31m                 \u001b[0msignaled\u001b[0m \u001b[0;34m=\u001b[0m \u001b[0mself\u001b[0m\u001b[0;34m.\u001b[0m\u001b[0m_cond\u001b[0m\u001b[0;34m.\u001b[0m\u001b[0mwait\u001b[0m\u001b[0;34m(\u001b[0m\u001b[0mtimeout\u001b[0m\u001b[0;34m)\u001b[0m\u001b[0;34m\u001b[0m\u001b[0;34m\u001b[0m\u001b[0m\n\u001b[0m\u001b[1;32m    552\u001b[0m             \u001b[0;32mreturn\u001b[0m \u001b[0msignaled\u001b[0m\u001b[0;34m\u001b[0m\u001b[0;34m\u001b[0m\u001b[0m\n\u001b[1;32m    553\u001b[0m \u001b[0;34m\u001b[0m\u001b[0m\n",
      "\u001b[0;32m/usr/lib64/python3.6/threading.py\u001b[0m in \u001b[0;36mwait\u001b[0;34m(self, timeout)\u001b[0m\n\u001b[1;32m    297\u001b[0m             \u001b[0;32melse\u001b[0m\u001b[0;34m:\u001b[0m\u001b[0;34m\u001b[0m\u001b[0;34m\u001b[0m\u001b[0m\n\u001b[1;32m    298\u001b[0m                 \u001b[0;32mif\u001b[0m \u001b[0mtimeout\u001b[0m \u001b[0;34m>\u001b[0m \u001b[0;36m0\u001b[0m\u001b[0;34m:\u001b[0m\u001b[0;34m\u001b[0m\u001b[0;34m\u001b[0m\u001b[0m\n\u001b[0;32m--> 299\u001b[0;31m                     \u001b[0mgotit\u001b[0m \u001b[0;34m=\u001b[0m \u001b[0mwaiter\u001b[0m\u001b[0;34m.\u001b[0m\u001b[0macquire\u001b[0m\u001b[0;34m(\u001b[0m\u001b[0;32mTrue\u001b[0m\u001b[0;34m,\u001b[0m \u001b[0mtimeout\u001b[0m\u001b[0;34m)\u001b[0m\u001b[0;34m\u001b[0m\u001b[0;34m\u001b[0m\u001b[0m\n\u001b[0m\u001b[1;32m    300\u001b[0m                 \u001b[0;32melse\u001b[0m\u001b[0;34m:\u001b[0m\u001b[0;34m\u001b[0m\u001b[0;34m\u001b[0m\u001b[0m\n\u001b[1;32m    301\u001b[0m                     \u001b[0mgotit\u001b[0m \u001b[0;34m=\u001b[0m \u001b[0mwaiter\u001b[0m\u001b[0;34m.\u001b[0m\u001b[0macquire\u001b[0m\u001b[0;34m(\u001b[0m\u001b[0;32mFalse\u001b[0m\u001b[0;34m)\u001b[0m\u001b[0;34m\u001b[0m\u001b[0;34m\u001b[0m\u001b[0m\n",
      "\u001b[0;31mKeyboardInterrupt\u001b[0m: "
     ]
    },
    {
     "name": "stderr",
     "output_type": "stream",
     "text": [
      "distributed.nanny - WARNING - Restarting worker\n"
     ]
    }
   ],
   "source": [
    "%%time\n",
    "xxxxx = histogramming.compute_histograms(chunk_size = 150,file_list = x[:])"
   ]
  },
  {
   "cell_type": "code",
   "execution_count": 31,
   "id": "1576854f-ae2d-4540-ba3b-33fdcab06e78",
   "metadata": {},
   "outputs": [
    {
     "ename": "NameError",
     "evalue": "name 'xxxxx' is not defined",
     "output_type": "error",
     "traceback": [
      "\u001b[0;31m---------------------------------------------------------------------------\u001b[0m",
      "\u001b[0;31mNameError\u001b[0m                                 Traceback (most recent call last)",
      "\u001b[0;32m<ipython-input-31-34a82d1ad477>\u001b[0m in \u001b[0;36m<module>\u001b[0;34m\u001b[0m\n\u001b[0;32m----> 1\u001b[0;31m \u001b[0mlen\u001b[0m\u001b[0;34m(\u001b[0m\u001b[0mxxxxx\u001b[0m\u001b[0;34m)\u001b[0m\u001b[0;34m\u001b[0m\u001b[0;34m\u001b[0m\u001b[0m\n\u001b[0m",
      "\u001b[0;31mNameError\u001b[0m: name 'xxxxx' is not defined"
     ]
    }
   ],
   "source": [
    "len(xxxxx)"
   ]
  },
  {
   "cell_type": "code",
   "execution_count": null,
   "id": "c40e01f8-80b3-46df-aa15-f6919375b3d9",
   "metadata": {},
   "outputs": [],
   "source": [
    "xxxxx[100]"
   ]
  },
  {
   "cell_type": "code",
   "execution_count": null,
   "id": "4d592010-2f38-4c34-89be-2e936fb24cbb",
   "metadata": {},
   "outputs": [],
   "source": [
    "xxxxx[2000]"
   ]
  },
  {
   "cell_type": "code",
   "execution_count": null,
   "id": "93ee7d90-5763-4aa2-9d03-9d523ba0c310",
   "metadata": {},
   "outputs": [],
   "source": [
    "#dask.visualize(histogramming.load_and_fill(data_column = 'rljet_pt_comb',file_list = x[:4]))"
   ]
  },
  {
   "cell_type": "code",
   "execution_count": null,
   "id": "c868e8aa-4ebc-4eba-b49b-d887de56fc09",
   "metadata": {},
   "outputs": [],
   "source": [
    "asizeof.asizeof(temp)/1024**2"
   ]
  },
  {
   "cell_type": "code",
   "execution_count": null,
   "id": "b0729c40-31df-47b2-aa6e-cf2340b21e40",
   "metadata": {},
   "outputs": [
    {
     "name": "stderr",
     "output_type": "stream",
     "text": [
      "distributed.nanny - WARNING - Restarting worker\n",
      "distributed.nanny - WARNING - Restarting worker\n",
      "distributed.nanny - WARNING - Restarting worker\n"
     ]
    }
   ],
   "source": [
    "psutil.virtual_memory().percent"
   ]
  }
 ],
 "metadata": {
  "kernelspec": {
   "display_name": "Python 3",
   "language": "python",
   "name": "python3"
  },
  "language_info": {
   "codemirror_mode": {
    "name": "ipython",
    "version": 3
   },
   "file_extension": ".py",
   "mimetype": "text/x-python",
   "name": "python",
   "nbconvert_exporter": "python",
   "pygments_lexer": "ipython3",
   "version": "3.6.8"
  }
 },
 "nbformat": 4,
 "nbformat_minor": 5
}
