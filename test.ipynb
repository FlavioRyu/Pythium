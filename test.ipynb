{
 "cells": [
  {
   "cell_type": "code",
   "execution_count": 8,
   "metadata": {},
   "outputs": [
    {
     "data": {
      "text/html": [
       "<html>\n",
       "<div style=\"display:flex; align-items:center;\">\n",
       "<div style=\"width:290px;\">\n",
       "<svg xmlns=\"http://www.w3.org/2000/svg\" viewBox=\"-10 -105 270 120\">\n",
       "<line x1=\"-5\" y1=\"0\" x2=\"255\" y2=\"0\" style=\"fill:none;stroke-width:2;stroke:currentColor\"/>\n",
       "<text text-anchor=\"middle\" x=\"0\" y=\"15\" style=\"fill:currentColor;\">\n",
       "-2.5\n",
       "</text>\n",
       "<text text-anchor=\"middle\" x=\"250\" y=\"15\" style=\"fill:currentColor;\">\n",
       "2.5\n",
       "</text>\n",
       "<text text-anchor=\"middle\" x=\"125.0\" y=\"15\" style=\"fill:currentColor;\">\n",
       "top $\\eta$[GeV]\n",
       "</text>\n",
       "<polyline points=\"  0,0   0,-42.3 12.5,-42.3 12.5,-54.3  25,-54.3  25,-65.8 37.5,-65.8 37.5,-75.9  50,-75.9  50,-85.2 62.5,-85.2 62.5,-92.2  75,-92.2  75,-97.7 87.5,-97.7 87.5,-97.9 100,-97.9 100,-99.9 112.5,-99.9 112.5,-98.9 125,-98.9 125,-100 137.5,-100 137.5,-99.4 150,-99.4 150,-97 162.5,-97 162.5,-93.9 175,-93.9 175,-91.5 187.5,-91.5 187.5,-84.4 200,-84.4 200,-76.3 212.5,-76.3 212.5,-63.5 225,-63.5 225,-55.5 237.5,-55.5 237.5,-42 250,-42 250,0\" style=\"fill:none; stroke:currentColor;\"/>\n",
       "</svg>\n",
       "</div>\n",
       "<div style=\"flex=grow:1;\">\n",
       "Regular(20, -2.5, 2.5, name='top_eta', label='top $\\\\eta$[GeV]')<br/>\n",
       "<hr style=\"margin-top:.2em; margin-bottom:.2em;\"/>\n",
       "Double() Σ=89071.0 <em>(100000.0 with flow)</em>\n",
       "\n",
       "</div>\n",
       "</div>\n",
       "</html>"
      ],
      "text/plain": [
       "Hist(Regular(20, -2.5, 2.5, name='top_eta', label='top $\\\\eta$[GeV]'), storage=Double()) # Sum: 89071.0 (100000.0 with flow)"
      ]
     },
     "execution_count": 8,
     "metadata": {},
     "output_type": "execute_result"
    }
   ],
   "source": [
    "import pickle\n",
    "f = open('../run/HC_LO_5FS_pp2x0ttx_ICvSM/output/TTH_IC_Inclusive_Nominal_top_eta_file.pkl','rb')\n",
    "pickle.load(f)\n"
   ]
  },
  {
   "cell_type": "markdown",
   "metadata": {},
   "source": []
  },
  {
   "cell_type": "code",
   "execution_count": null,
   "metadata": {},
   "outputs": [],
   "source": []
  }
 ],
 "metadata": {
  "interpreter": {
   "hash": "f9f85f796d01129d0dd105a088854619f454435301f6ffec2fea96ecbd9be4ac"
  },
  "kernelspec": {
   "display_name": "Python 3.9.5 64-bit",
   "language": "python",
   "name": "python3"
  },
  "language_info": {
   "codemirror_mode": {
    "name": "ipython",
    "version": 3
   },
   "file_extension": ".py",
   "mimetype": "text/x-python",
   "name": "python",
   "nbconvert_exporter": "python",
   "pygments_lexer": "ipython3",
   "version": "3.9.4"
  },
  "orig_nbformat": 4
 },
 "nbformat": 4,
 "nbformat_minor": 2
}
